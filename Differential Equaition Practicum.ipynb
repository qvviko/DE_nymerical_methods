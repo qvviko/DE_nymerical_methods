{
 "cells": [
  {
   "cell_type": "markdown",
   "metadata": {},
   "source": [
    "# TODO\n",
    "2. Better compare???\n",
    "3. Pretify"
   ]
  },
  {
   "cell_type": "markdown",
   "metadata": {},
   "source": [
    "# Differential Equations Practicum\n",
    "The purpose of this activity is to implement and/or understand the principles of numerical methods in differential equations.\n",
    "\n",
    "Variant 24.\n",
    "\n",
    "Original Equation:\n",
    "\n",
    "$$\n",
    "y' = xy^2-3xy,\\:y(0)=2\\\\\n",
    "\\dfrac{y'}{y^2}=x-\\dfrac{3x}{y}\\\\\n",
    "z=1/y,\\:dz=-\\dfrac{dy}{y^2}\\\\\n",
    "-z'=x(1-3z)\\\\\n",
    "\\dfrac{z'}{3z-1}=x\\\\\n",
    "\\dfrac{\\ln{(3z-1)}}{3}=\\dfrac{x^2}{2}+C_1\\\\\n",
    "-1+3z=C_2e^{\\dfrac{3x^2}{2}}\\\\\n",
    "\\dfrac{3}{y}=C_2e^{\\frac{3x^2}{2}}+1\\\\\n",
    "y=\\dfrac{3}{1+C_2e^{\\frac{3x^2}{2}}}\\\\\n",
    "For\\:y(0)=2\\:=>\\:2=\\dfrac{3}{C_2+1}\\:=>\\:C_2=\\frac{1}{2}\n",
    "$$\n",
    "\n",
    "Exact Solution:\n",
    "\n",
    "$$\n",
    "y=\\frac{6}{2+e^{\\frac{3x^2}{2}}}\n",
    "$$\n",
    "\n"
   ]
  },
  {
   "cell_type": "code",
   "execution_count": 1,
   "metadata": {},
   "outputs": [
    {
     "data": {
      "text/html": [
       "\n",
       "    <div class=\"bk-root\">\n",
       "        <a href=\"https://bokeh.pydata.org\" target=\"_blank\" class=\"bk-logo bk-logo-small bk-logo-notebook\"></a>\n",
       "        <span id=\"1001\">Loading BokehJS ...</span>\n",
       "    </div>"
      ]
     },
     "metadata": {},
     "output_type": "display_data"
    },
    {
     "data": {
      "application/javascript": [
       "\n",
       "(function(root) {\n",
       "  function now() {\n",
       "    return new Date();\n",
       "  }\n",
       "\n",
       "  var force = true;\n",
       "\n",
       "  if (typeof (root._bokeh_onload_callbacks) === \"undefined\" || force === true) {\n",
       "    root._bokeh_onload_callbacks = [];\n",
       "    root._bokeh_is_loading = undefined;\n",
       "  }\n",
       "\n",
       "  var JS_MIME_TYPE = 'application/javascript';\n",
       "  var HTML_MIME_TYPE = 'text/html';\n",
       "  var EXEC_MIME_TYPE = 'application/vnd.bokehjs_exec.v0+json';\n",
       "  var CLASS_NAME = 'output_bokeh rendered_html';\n",
       "\n",
       "  /**\n",
       "   * Render data to the DOM node\n",
       "   */\n",
       "  function render(props, node) {\n",
       "    var script = document.createElement(\"script\");\n",
       "    node.appendChild(script);\n",
       "  }\n",
       "\n",
       "  /**\n",
       "   * Handle when an output is cleared or removed\n",
       "   */\n",
       "  function handleClearOutput(event, handle) {\n",
       "    var cell = handle.cell;\n",
       "\n",
       "    var id = cell.output_area._bokeh_element_id;\n",
       "    var server_id = cell.output_area._bokeh_server_id;\n",
       "    // Clean up Bokeh references\n",
       "    if (id != null && id in Bokeh.index) {\n",
       "      Bokeh.index[id].model.document.clear();\n",
       "      delete Bokeh.index[id];\n",
       "    }\n",
       "\n",
       "    if (server_id !== undefined) {\n",
       "      // Clean up Bokeh references\n",
       "      var cmd = \"from bokeh.io.state import curstate; print(curstate().uuid_to_server['\" + server_id + \"'].get_sessions()[0].document.roots[0]._id)\";\n",
       "      cell.notebook.kernel.execute(cmd, {\n",
       "        iopub: {\n",
       "          output: function(msg) {\n",
       "            var id = msg.content.text.trim();\n",
       "            if (id in Bokeh.index) {\n",
       "              Bokeh.index[id].model.document.clear();\n",
       "              delete Bokeh.index[id];\n",
       "            }\n",
       "          }\n",
       "        }\n",
       "      });\n",
       "      // Destroy server and session\n",
       "      var cmd = \"import bokeh.io.notebook as ion; ion.destroy_server('\" + server_id + \"')\";\n",
       "      cell.notebook.kernel.execute(cmd);\n",
       "    }\n",
       "  }\n",
       "\n",
       "  /**\n",
       "   * Handle when a new output is added\n",
       "   */\n",
       "  function handleAddOutput(event, handle) {\n",
       "    var output_area = handle.output_area;\n",
       "    var output = handle.output;\n",
       "\n",
       "    // limit handleAddOutput to display_data with EXEC_MIME_TYPE content only\n",
       "    if ((output.output_type != \"display_data\") || (!output.data.hasOwnProperty(EXEC_MIME_TYPE))) {\n",
       "      return\n",
       "    }\n",
       "\n",
       "    var toinsert = output_area.element.find(\".\" + CLASS_NAME.split(' ')[0]);\n",
       "\n",
       "    if (output.metadata[EXEC_MIME_TYPE][\"id\"] !== undefined) {\n",
       "      toinsert[toinsert.length - 1].firstChild.textContent = output.data[JS_MIME_TYPE];\n",
       "      // store reference to embed id on output_area\n",
       "      output_area._bokeh_element_id = output.metadata[EXEC_MIME_TYPE][\"id\"];\n",
       "    }\n",
       "    if (output.metadata[EXEC_MIME_TYPE][\"server_id\"] !== undefined) {\n",
       "      var bk_div = document.createElement(\"div\");\n",
       "      bk_div.innerHTML = output.data[HTML_MIME_TYPE];\n",
       "      var script_attrs = bk_div.children[0].attributes;\n",
       "      for (var i = 0; i < script_attrs.length; i++) {\n",
       "        toinsert[toinsert.length - 1].firstChild.setAttribute(script_attrs[i].name, script_attrs[i].value);\n",
       "      }\n",
       "      // store reference to server id on output_area\n",
       "      output_area._bokeh_server_id = output.metadata[EXEC_MIME_TYPE][\"server_id\"];\n",
       "    }\n",
       "  }\n",
       "\n",
       "  function register_renderer(events, OutputArea) {\n",
       "\n",
       "    function append_mime(data, metadata, element) {\n",
       "      // create a DOM node to render to\n",
       "      var toinsert = this.create_output_subarea(\n",
       "        metadata,\n",
       "        CLASS_NAME,\n",
       "        EXEC_MIME_TYPE\n",
       "      );\n",
       "      this.keyboard_manager.register_events(toinsert);\n",
       "      // Render to node\n",
       "      var props = {data: data, metadata: metadata[EXEC_MIME_TYPE]};\n",
       "      render(props, toinsert[toinsert.length - 1]);\n",
       "      element.append(toinsert);\n",
       "      return toinsert\n",
       "    }\n",
       "\n",
       "    /* Handle when an output is cleared or removed */\n",
       "    events.on('clear_output.CodeCell', handleClearOutput);\n",
       "    events.on('delete.Cell', handleClearOutput);\n",
       "\n",
       "    /* Handle when a new output is added */\n",
       "    events.on('output_added.OutputArea', handleAddOutput);\n",
       "\n",
       "    /**\n",
       "     * Register the mime type and append_mime function with output_area\n",
       "     */\n",
       "    OutputArea.prototype.register_mime_type(EXEC_MIME_TYPE, append_mime, {\n",
       "      /* Is output safe? */\n",
       "      safe: true,\n",
       "      /* Index of renderer in `output_area.display_order` */\n",
       "      index: 0\n",
       "    });\n",
       "  }\n",
       "\n",
       "  // register the mime type if in Jupyter Notebook environment and previously unregistered\n",
       "  if (root.Jupyter !== undefined) {\n",
       "    var events = require('base/js/events');\n",
       "    var OutputArea = require('notebook/js/outputarea').OutputArea;\n",
       "\n",
       "    if (OutputArea.prototype.mime_types().indexOf(EXEC_MIME_TYPE) == -1) {\n",
       "      register_renderer(events, OutputArea);\n",
       "    }\n",
       "  }\n",
       "\n",
       "  \n",
       "  if (typeof (root._bokeh_timeout) === \"undefined\" || force === true) {\n",
       "    root._bokeh_timeout = Date.now() + 5000;\n",
       "    root._bokeh_failed_load = false;\n",
       "  }\n",
       "\n",
       "  var NB_LOAD_WARNING = {'data': {'text/html':\n",
       "     \"<div style='background-color: #fdd'>\\n\"+\n",
       "     \"<p>\\n\"+\n",
       "     \"BokehJS does not appear to have successfully loaded. If loading BokehJS from CDN, this \\n\"+\n",
       "     \"may be due to a slow or bad network connection. Possible fixes:\\n\"+\n",
       "     \"</p>\\n\"+\n",
       "     \"<ul>\\n\"+\n",
       "     \"<li>re-rerun `output_notebook()` to attempt to load from CDN again, or</li>\\n\"+\n",
       "     \"<li>use INLINE resources instead, as so:</li>\\n\"+\n",
       "     \"</ul>\\n\"+\n",
       "     \"<code>\\n\"+\n",
       "     \"from bokeh.resources import INLINE\\n\"+\n",
       "     \"output_notebook(resources=INLINE)\\n\"+\n",
       "     \"</code>\\n\"+\n",
       "     \"</div>\"}};\n",
       "\n",
       "  function display_loaded() {\n",
       "    var el = document.getElementById(\"1001\");\n",
       "    if (el != null) {\n",
       "      el.textContent = \"BokehJS is loading...\";\n",
       "    }\n",
       "    if (root.Bokeh !== undefined) {\n",
       "      if (el != null) {\n",
       "        el.textContent = \"BokehJS \" + root.Bokeh.version + \" successfully loaded.\";\n",
       "      }\n",
       "    } else if (Date.now() < root._bokeh_timeout) {\n",
       "      setTimeout(display_loaded, 100)\n",
       "    }\n",
       "  }\n",
       "\n",
       "\n",
       "  function run_callbacks() {\n",
       "    try {\n",
       "      root._bokeh_onload_callbacks.forEach(function(callback) { callback() });\n",
       "    }\n",
       "    finally {\n",
       "      delete root._bokeh_onload_callbacks\n",
       "    }\n",
       "    console.info(\"Bokeh: all callbacks have finished\");\n",
       "  }\n",
       "\n",
       "  function load_libs(js_urls, callback) {\n",
       "    root._bokeh_onload_callbacks.push(callback);\n",
       "    if (root._bokeh_is_loading > 0) {\n",
       "      console.log(\"Bokeh: BokehJS is being loaded, scheduling callback at\", now());\n",
       "      return null;\n",
       "    }\n",
       "    if (js_urls == null || js_urls.length === 0) {\n",
       "      run_callbacks();\n",
       "      return null;\n",
       "    }\n",
       "    console.log(\"Bokeh: BokehJS not loaded, scheduling load and callback at\", now());\n",
       "    root._bokeh_is_loading = js_urls.length;\n",
       "    for (var i = 0; i < js_urls.length; i++) {\n",
       "      var url = js_urls[i];\n",
       "      var s = document.createElement('script');\n",
       "      s.src = url;\n",
       "      s.async = false;\n",
       "      s.onreadystatechange = s.onload = function() {\n",
       "        root._bokeh_is_loading--;\n",
       "        if (root._bokeh_is_loading === 0) {\n",
       "          console.log(\"Bokeh: all BokehJS libraries loaded\");\n",
       "          run_callbacks()\n",
       "        }\n",
       "      };\n",
       "      s.onerror = function() {\n",
       "        console.warn(\"failed to load library \" + url);\n",
       "      };\n",
       "      console.log(\"Bokeh: injecting script tag for BokehJS library: \", url);\n",
       "      document.getElementsByTagName(\"head\")[0].appendChild(s);\n",
       "    }\n",
       "  };var element = document.getElementById(\"1001\");\n",
       "  if (element == null) {\n",
       "    console.log(\"Bokeh: ERROR: autoload.js configured with elementid '1001' but no matching script tag was found. \")\n",
       "    return false;\n",
       "  }\n",
       "\n",
       "  var js_urls = [\"https://cdn.pydata.org/bokeh/release/bokeh-1.0.0.min.js\", \"https://cdn.pydata.org/bokeh/release/bokeh-widgets-1.0.0.min.js\", \"https://cdn.pydata.org/bokeh/release/bokeh-tables-1.0.0.min.js\", \"https://cdn.pydata.org/bokeh/release/bokeh-gl-1.0.0.min.js\"];\n",
       "\n",
       "  var inline_js = [\n",
       "    function(Bokeh) {\n",
       "      Bokeh.set_log_level(\"info\");\n",
       "    },\n",
       "    \n",
       "    function(Bokeh) {\n",
       "      \n",
       "    },\n",
       "    function(Bokeh) {\n",
       "      console.log(\"Bokeh: injecting CSS: https://cdn.pydata.org/bokeh/release/bokeh-1.0.0.min.css\");\n",
       "      Bokeh.embed.inject_css(\"https://cdn.pydata.org/bokeh/release/bokeh-1.0.0.min.css\");\n",
       "      console.log(\"Bokeh: injecting CSS: https://cdn.pydata.org/bokeh/release/bokeh-widgets-1.0.0.min.css\");\n",
       "      Bokeh.embed.inject_css(\"https://cdn.pydata.org/bokeh/release/bokeh-widgets-1.0.0.min.css\");\n",
       "      console.log(\"Bokeh: injecting CSS: https://cdn.pydata.org/bokeh/release/bokeh-tables-1.0.0.min.css\");\n",
       "      Bokeh.embed.inject_css(\"https://cdn.pydata.org/bokeh/release/bokeh-tables-1.0.0.min.css\");\n",
       "    }\n",
       "  ];\n",
       "\n",
       "  function run_inline_js() {\n",
       "    \n",
       "    if ((root.Bokeh !== undefined) || (force === true)) {\n",
       "      for (var i = 0; i < inline_js.length; i++) {\n",
       "        inline_js[i].call(root, root.Bokeh);\n",
       "      }if (force === true) {\n",
       "        display_loaded();\n",
       "      }} else if (Date.now() < root._bokeh_timeout) {\n",
       "      setTimeout(run_inline_js, 100);\n",
       "    } else if (!root._bokeh_failed_load) {\n",
       "      console.log(\"Bokeh: BokehJS failed to load within specified timeout.\");\n",
       "      root._bokeh_failed_load = true;\n",
       "    } else if (force !== true) {\n",
       "      var cell = $(document.getElementById(\"1001\")).parents('.cell').data().cell;\n",
       "      cell.output_area.append_execute_result(NB_LOAD_WARNING)\n",
       "    }\n",
       "\n",
       "  }\n",
       "\n",
       "  if (root._bokeh_is_loading === 0) {\n",
       "    console.log(\"Bokeh: BokehJS loaded, going straight to plotting\");\n",
       "    run_inline_js();\n",
       "  } else {\n",
       "    load_libs(js_urls, function() {\n",
       "      console.log(\"Bokeh: BokehJS plotting callback run at\", now());\n",
       "      run_inline_js();\n",
       "    });\n",
       "  }\n",
       "}(window));"
      ],
      "application/vnd.bokehjs_load.v0+json": "\n(function(root) {\n  function now() {\n    return new Date();\n  }\n\n  var force = true;\n\n  if (typeof (root._bokeh_onload_callbacks) === \"undefined\" || force === true) {\n    root._bokeh_onload_callbacks = [];\n    root._bokeh_is_loading = undefined;\n  }\n\n  \n\n  \n  if (typeof (root._bokeh_timeout) === \"undefined\" || force === true) {\n    root._bokeh_timeout = Date.now() + 5000;\n    root._bokeh_failed_load = false;\n  }\n\n  var NB_LOAD_WARNING = {'data': {'text/html':\n     \"<div style='background-color: #fdd'>\\n\"+\n     \"<p>\\n\"+\n     \"BokehJS does not appear to have successfully loaded. If loading BokehJS from CDN, this \\n\"+\n     \"may be due to a slow or bad network connection. Possible fixes:\\n\"+\n     \"</p>\\n\"+\n     \"<ul>\\n\"+\n     \"<li>re-rerun `output_notebook()` to attempt to load from CDN again, or</li>\\n\"+\n     \"<li>use INLINE resources instead, as so:</li>\\n\"+\n     \"</ul>\\n\"+\n     \"<code>\\n\"+\n     \"from bokeh.resources import INLINE\\n\"+\n     \"output_notebook(resources=INLINE)\\n\"+\n     \"</code>\\n\"+\n     \"</div>\"}};\n\n  function display_loaded() {\n    var el = document.getElementById(\"1001\");\n    if (el != null) {\n      el.textContent = \"BokehJS is loading...\";\n    }\n    if (root.Bokeh !== undefined) {\n      if (el != null) {\n        el.textContent = \"BokehJS \" + root.Bokeh.version + \" successfully loaded.\";\n      }\n    } else if (Date.now() < root._bokeh_timeout) {\n      setTimeout(display_loaded, 100)\n    }\n  }\n\n\n  function run_callbacks() {\n    try {\n      root._bokeh_onload_callbacks.forEach(function(callback) { callback() });\n    }\n    finally {\n      delete root._bokeh_onload_callbacks\n    }\n    console.info(\"Bokeh: all callbacks have finished\");\n  }\n\n  function load_libs(js_urls, callback) {\n    root._bokeh_onload_callbacks.push(callback);\n    if (root._bokeh_is_loading > 0) {\n      console.log(\"Bokeh: BokehJS is being loaded, scheduling callback at\", now());\n      return null;\n    }\n    if (js_urls == null || js_urls.length === 0) {\n      run_callbacks();\n      return null;\n    }\n    console.log(\"Bokeh: BokehJS not loaded, scheduling load and callback at\", now());\n    root._bokeh_is_loading = js_urls.length;\n    for (var i = 0; i < js_urls.length; i++) {\n      var url = js_urls[i];\n      var s = document.createElement('script');\n      s.src = url;\n      s.async = false;\n      s.onreadystatechange = s.onload = function() {\n        root._bokeh_is_loading--;\n        if (root._bokeh_is_loading === 0) {\n          console.log(\"Bokeh: all BokehJS libraries loaded\");\n          run_callbacks()\n        }\n      };\n      s.onerror = function() {\n        console.warn(\"failed to load library \" + url);\n      };\n      console.log(\"Bokeh: injecting script tag for BokehJS library: \", url);\n      document.getElementsByTagName(\"head\")[0].appendChild(s);\n    }\n  };var element = document.getElementById(\"1001\");\n  if (element == null) {\n    console.log(\"Bokeh: ERROR: autoload.js configured with elementid '1001' but no matching script tag was found. \")\n    return false;\n  }\n\n  var js_urls = [\"https://cdn.pydata.org/bokeh/release/bokeh-1.0.0.min.js\", \"https://cdn.pydata.org/bokeh/release/bokeh-widgets-1.0.0.min.js\", \"https://cdn.pydata.org/bokeh/release/bokeh-tables-1.0.0.min.js\", \"https://cdn.pydata.org/bokeh/release/bokeh-gl-1.0.0.min.js\"];\n\n  var inline_js = [\n    function(Bokeh) {\n      Bokeh.set_log_level(\"info\");\n    },\n    \n    function(Bokeh) {\n      \n    },\n    function(Bokeh) {\n      console.log(\"Bokeh: injecting CSS: https://cdn.pydata.org/bokeh/release/bokeh-1.0.0.min.css\");\n      Bokeh.embed.inject_css(\"https://cdn.pydata.org/bokeh/release/bokeh-1.0.0.min.css\");\n      console.log(\"Bokeh: injecting CSS: https://cdn.pydata.org/bokeh/release/bokeh-widgets-1.0.0.min.css\");\n      Bokeh.embed.inject_css(\"https://cdn.pydata.org/bokeh/release/bokeh-widgets-1.0.0.min.css\");\n      console.log(\"Bokeh: injecting CSS: https://cdn.pydata.org/bokeh/release/bokeh-tables-1.0.0.min.css\");\n      Bokeh.embed.inject_css(\"https://cdn.pydata.org/bokeh/release/bokeh-tables-1.0.0.min.css\");\n    }\n  ];\n\n  function run_inline_js() {\n    \n    if ((root.Bokeh !== undefined) || (force === true)) {\n      for (var i = 0; i < inline_js.length; i++) {\n        inline_js[i].call(root, root.Bokeh);\n      }if (force === true) {\n        display_loaded();\n      }} else if (Date.now() < root._bokeh_timeout) {\n      setTimeout(run_inline_js, 100);\n    } else if (!root._bokeh_failed_load) {\n      console.log(\"Bokeh: BokehJS failed to load within specified timeout.\");\n      root._bokeh_failed_load = true;\n    } else if (force !== true) {\n      var cell = $(document.getElementById(\"1001\")).parents('.cell').data().cell;\n      cell.output_area.append_execute_result(NB_LOAD_WARNING)\n    }\n\n  }\n\n  if (root._bokeh_is_loading === 0) {\n    console.log(\"Bokeh: BokehJS loaded, going straight to plotting\");\n    run_inline_js();\n  } else {\n    load_libs(js_urls, function() {\n      console.log(\"Bokeh: BokehJS plotting callback run at\", now());\n      run_inline_js();\n    });\n  }\n}(window));"
     },
     "metadata": {},
     "output_type": "display_data"
    }
   ],
   "source": [
    "from math import exp\n",
    "from ipywidgets import interact, interactive, fixed, interact_manual\n",
    "import ipywidgets as widgets\n",
    "from bokeh.plotting import figure, show\n",
    "from bokeh.io import output_notebook, push_notebook\n",
    "import numpy\n",
    "output_notebook()"
   ]
  },
  {
   "cell_type": "markdown",
   "metadata": {},
   "source": [
    "## Definition of original and exact solution functions"
   ]
  },
  {
   "cell_type": "code",
   "execution_count": 2,
   "metadata": {},
   "outputs": [],
   "source": [
    "def my_func(x, y):\n",
    "    return x * y * y - 3 * x * y"
   ]
  },
  {
   "cell_type": "code",
   "execution_count": 3,
   "metadata": {},
   "outputs": [],
   "source": [
    "def exact_func(x):\n",
    "    return 6/(exp(3*x*x/2)+2)"
   ]
  },
  {
   "cell_type": "markdown",
   "metadata": {},
   "source": [
    "## Euler Method"
   ]
  },
  {
   "cell_type": "code",
   "execution_count": 4,
   "metadata": {},
   "outputs": [],
   "source": [
    "# Get function, initial value for x and y, end of the interval [x,X0] and number of steps to perform\n",
    "def euler(func, x0, y0, X, N_steps):\n",
    "    # Resulting pairs of x, y will be stored in arrays\n",
    "    x = [x0]\n",
    "    y = [y0]\n",
    "    # Calculate the step for x\n",
    "    h = (X - x0) / N_steps\n",
    "    \n",
    "    # Perform the Euler method storing values that we get\n",
    "    for i in range(N_steps):\n",
    "        # x(i+1)=xi+h\n",
    "        x.append(x[i] + h)\n",
    "        \n",
    "        # y(i+1)=xi+h*f(xi,yi)\n",
    "        y.append(y[i] + h * func(x[i], y[i]))\n",
    "    return x, y"
   ]
  },
  {
   "cell_type": "markdown",
   "metadata": {},
   "source": [
    "## Improved Euler Method"
   ]
  },
  {
   "cell_type": "code",
   "execution_count": 5,
   "metadata": {},
   "outputs": [],
   "source": [
    "# Get function, initial value for x and y, end of the interval [x,X0] and number of steps to perform\n",
    "def improved_euler(func, x0, y0, X, N_steps):\n",
    "    # Resulting pairs of x, y will be stored in arrays\n",
    "    x = [x0]\n",
    "    y = [y0]\n",
    "    \n",
    "    # Calculate the step for x\n",
    "    h = (X - x0) / N_steps\n",
    "    \n",
    "    # Perfrom improved Euler method storing values that we get\n",
    "    for i in range(N_steps):\n",
    "        x.append(x[i] + h)\n",
    "        m1 = func(x[i], y[i])\n",
    "        m2 = func(x[i + 1], y[i] + h * m1)\n",
    "        y.append(y[i] + h * (m1 + m2) / 2)\n",
    "    return x, y"
   ]
  },
  {
   "cell_type": "markdown",
   "metadata": {},
   "source": [
    "## Runge Kutta Method"
   ]
  },
  {
   "cell_type": "code",
   "execution_count": 6,
   "metadata": {},
   "outputs": [],
   "source": [
    "# Get function, initial value for x and y, end of the interval [x,X0] and number of steps to perform\n",
    "def runge_kutta(func, x0, y0, X, N_steps):\n",
    "    # Resulting pairs of x, y will be stored in arrays  \n",
    "    x = [x0]\n",
    "    y = [y0]\n",
    "    \n",
    "    # Calculate the step for x\n",
    "    h = (X - x0) / N_steps\n",
    "    \n",
    "    # Perfrom Runge-kutta method storing values that we get\n",
    "    for i in range(N_steps):\n",
    "        x.append(x[i] + h)\n",
    "        k1 = h * func(x[i], y[i])\n",
    "        k2 = h * func(x[i] + h / 2, y[i] + k1 / 2)\n",
    "        k3 = h * func(x[i] + h / 2, y[i] + k2 / 2)\n",
    "        k4 = h * func(x[i] + h, y[i] + k3)\n",
    "        y.append(y[i] + (k1 + 2 * k2 + 2 * k3 + k4) / 6)\n",
    "    return x, y"
   ]
  },
  {
   "cell_type": "markdown",
   "metadata": {},
   "source": [
    "# Exact"
   ]
  },
  {
   "cell_type": "code",
   "execution_count": 7,
   "metadata": {},
   "outputs": [],
   "source": [
    "def exact(func, x0, y0, X, N_steps):\n",
    "    # Resulting pairs of x, y will be stored in arrays  \n",
    "    x = [x0]\n",
    "    y = [y0]\n",
    "    \n",
    "    # Calculate the step for x\n",
    "    h = (X - x0) / N_steps\n",
    "    \n",
    "    for i in range(N_steps):\n",
    "        x.append(x[i] + h)\n",
    "        y.append(exact_func(x[-1]))\n",
    "    return x, y"
   ]
  },
  {
   "cell_type": "markdown",
   "metadata": {},
   "source": [
    "Create widgets for changable x0, y0, X and number of steps"
   ]
  },
  {
   "cell_type": "code",
   "execution_count": 8,
   "metadata": {},
   "outputs": [],
   "source": [
    "x0_widget = widgets.FloatSlider(value=0, min=-100, max=100)\n",
    "y0_widget = widgets.FloatSlider(value=2, min=-100, max=100)\n",
    "X_widget = widgets.FloatSlider(value=6.4, min=-100, max=100)\n",
    "N_steps_widget = widgets.IntSlider(value=50, min=0, max=200)\n",
    "x0=0\n",
    "y0=2\n",
    "X=6.4\n",
    "N_steps=50"
   ]
  },
  {
   "cell_type": "code",
   "execution_count": 9,
   "metadata": {},
   "outputs": [],
   "source": [
    "def update_plot(x0=0, y0=2, X=6.4,N_steps=50):\n",
    "    xs=[]\n",
    "    ys=[]\n",
    "    for method in methods.values():\n",
    "        x, y = method(my_func,x0,y0,X,N_steps)\n",
    "        xs.append(x)\n",
    "        ys.append(y)\n",
    "    \n",
    "#     x = xs[0]\n",
    "#     y1 = [abs(y0-y1) for (y0,y1) in zip(ys[0],ys[-1])]\n",
    "#     y2 = [abs(y0-y1) for (y0,y1) in zip(ys[1],ys[-1])]\n",
    "#     y3 = [abs(y0-y1) for (y0,y1) in zip(ys[2],ys[-1])]\n",
    "\n",
    "    r.data_source.data['ys']=ys\n",
    "    r.data_source.data['xs']=xs\n",
    "    push_notebook()"
   ]
  },
  {
   "cell_type": "code",
   "execution_count": 10,
   "metadata": {},
   "outputs": [],
   "source": [
    "methods = {'euler':euler,'improved_euler':improved_euler, 'runge_kutta':runge_kutta, 'exact':exact}\n",
    "xs=[]\n",
    "ys=[]\n",
    "for method in methods.values():\n",
    "    x, y = method(my_func, x0, y0, X, N_steps)\n",
    "    xs.append(x)\n",
    "    ys.append(y)\n"
   ]
  },
  {
   "cell_type": "markdown",
   "metadata": {},
   "source": [
    "## Comparison of methods via plotting\n",
    "We will compare different methods by plotting their graphs with the exact solution"
   ]
  },
  {
   "cell_type": "code",
   "execution_count": 11,
   "metadata": {},
   "outputs": [
    {
     "data": {
      "text/html": [
       "\n",
       "\n",
       "\n",
       "\n",
       "\n",
       "\n",
       "  <div class=\"bk-root\" id=\"58629566-0a30-447a-b190-12a574186570\"></div>\n"
      ]
     },
     "metadata": {},
     "output_type": "display_data"
    },
    {
     "data": {
      "application/javascript": [
       "(function(root) {\n",
       "  function embed_document(root) {\n",
       "    \n",
       "  var docs_json = {\"94e09672-d011-46d3-9a93-6352d30fe469\":{\"roots\":{\"references\":[{\"attributes\":{\"below\":[{\"id\":\"1013\",\"type\":\"LinearAxis\"}],\"left\":[{\"id\":\"1018\",\"type\":\"LinearAxis\"}],\"plot_height\":400,\"plot_width\":400,\"renderers\":[{\"id\":\"1013\",\"type\":\"LinearAxis\"},{\"id\":\"1017\",\"type\":\"Grid\"},{\"id\":\"1018\",\"type\":\"LinearAxis\"},{\"id\":\"1022\",\"type\":\"Grid\"},{\"id\":\"1031\",\"type\":\"BoxAnnotation\"},{\"id\":\"1041\",\"type\":\"GlyphRenderer\"}],\"title\":{\"id\":\"1002\",\"type\":\"Title\"},\"toolbar\":{\"id\":\"1029\",\"type\":\"Toolbar\"},\"x_range\":{\"id\":\"1005\",\"type\":\"DataRange1d\"},\"x_scale\":{\"id\":\"1009\",\"type\":\"LinearScale\"},\"y_range\":{\"id\":\"1007\",\"type\":\"DataRange1d\"},\"y_scale\":{\"id\":\"1011\",\"type\":\"LinearScale\"}},\"id\":\"1003\",\"subtype\":\"Figure\",\"type\":\"Plot\"},{\"attributes\":{},\"id\":\"1019\",\"type\":\"BasicTicker\"},{\"attributes\":{\"dimension\":1,\"plot\":{\"id\":\"1003\",\"subtype\":\"Figure\",\"type\":\"Plot\"},\"ticker\":{\"id\":\"1019\",\"type\":\"BasicTicker\"}},\"id\":\"1022\",\"type\":\"Grid\"},{\"attributes\":{\"line_alpha\":{\"value\":0.1},\"line_color\":{\"value\":\"#1f77b4\"},\"line_width\":{\"value\":2},\"xs\":{\"field\":\"xs\"},\"ys\":{\"field\":\"ys\"}},\"id\":\"1040\",\"type\":\"MultiLine\"},{\"attributes\":{\"callback\":null},\"id\":\"1007\",\"type\":\"DataRange1d\"},{\"attributes\":{\"line_alpha\":{\"field\":\"line_alpha\"},\"line_color\":{\"field\":\"line_color\"},\"line_width\":{\"value\":2},\"xs\":{\"field\":\"xs\"},\"ys\":{\"field\":\"ys\"}},\"id\":\"1039\",\"type\":\"MultiLine\"},{\"attributes\":{},\"id\":\"1023\",\"type\":\"PanTool\"},{\"attributes\":{},\"id\":\"1024\",\"type\":\"WheelZoomTool\"},{\"attributes\":{\"callback\":null},\"id\":\"1005\",\"type\":\"DataRange1d\"},{\"attributes\":{\"overlay\":{\"id\":\"1031\",\"type\":\"BoxAnnotation\"}},\"id\":\"1025\",\"type\":\"BoxZoomTool\"},{\"attributes\":{},\"id\":\"1026\",\"type\":\"SaveTool\"},{\"attributes\":{\"callback\":null,\"data\":{\"line_alpha\":[1.0,0.4,0.4,0.4],\"line_color\":[\"black\",\"green\",\"yellow\",\"blue\"],\"xs\":[[0,0.128,0.256,0.384,0.512,0.64,0.768,0.896,1.024,1.1520000000000001,1.2800000000000002,1.4080000000000004,1.5360000000000005,1.6640000000000006,1.7920000000000007,1.9200000000000008,2.048000000000001,2.176000000000001,2.304000000000001,2.4320000000000013,2.5600000000000014,2.6880000000000015,2.8160000000000016,2.9440000000000017,3.072000000000002,3.200000000000002,3.328000000000002,3.456000000000002,3.5840000000000023,3.7120000000000024,3.8400000000000025,3.9680000000000026,4.096000000000003,4.224000000000003,4.352000000000003,4.480000000000003,4.608000000000003,4.736000000000003,4.864000000000003,4.9920000000000035,5.120000000000004,5.248000000000004,5.376000000000004,5.504000000000004,5.632000000000004,5.760000000000004,5.888000000000004,6.0160000000000045,6.144000000000005,6.272000000000005,6.400000000000005],[0,0.128,0.256,0.384,0.512,0.64,0.768,0.896,1.024,1.1520000000000001,1.2800000000000002,1.4080000000000004,1.5360000000000005,1.6640000000000006,1.7920000000000007,1.9200000000000008,2.048000000000001,2.176000000000001,2.304000000000001,2.4320000000000013,2.5600000000000014,2.6880000000000015,2.8160000000000016,2.9440000000000017,3.072000000000002,3.200000000000002,3.328000000000002,3.456000000000002,3.5840000000000023,3.7120000000000024,3.8400000000000025,3.9680000000000026,4.096000000000003,4.224000000000003,4.352000000000003,4.480000000000003,4.608000000000003,4.736000000000003,4.864000000000003,4.9920000000000035,5.120000000000004,5.248000000000004,5.376000000000004,5.504000000000004,5.632000000000004,5.760000000000004,5.888000000000004,6.0160000000000045,6.144000000000005,6.272000000000005,6.400000000000005],[0,0.128,0.256,0.384,0.512,0.64,0.768,0.896,1.024,1.1520000000000001,1.2800000000000002,1.4080000000000004,1.5360000000000005,1.6640000000000006,1.7920000000000007,1.9200000000000008,2.048000000000001,2.176000000000001,2.304000000000001,2.4320000000000013,2.5600000000000014,2.6880000000000015,2.8160000000000016,2.9440000000000017,3.072000000000002,3.200000000000002,3.328000000000002,3.456000000000002,3.5840000000000023,3.7120000000000024,3.8400000000000025,3.9680000000000026,4.096000000000003,4.224000000000003,4.352000000000003,4.480000000000003,4.608000000000003,4.736000000000003,4.864000000000003,4.9920000000000035,5.120000000000004,5.248000000000004,5.376000000000004,5.504000000000004,5.632000000000004,5.760000000000004,5.888000000000004,6.0160000000000045,6.144000000000005,6.272000000000005,6.400000000000005],[0,0.128,0.256,0.384,0.512,0.64,0.768,0.896,1.024,1.1520000000000001,1.2800000000000002,1.4080000000000004,1.5360000000000005,1.6640000000000006,1.7920000000000007,1.9200000000000008,2.048000000000001,2.176000000000001,2.304000000000001,2.4320000000000013,2.5600000000000014,2.6880000000000015,2.8160000000000016,2.9440000000000017,3.072000000000002,3.200000000000002,3.328000000000002,3.456000000000002,3.5840000000000023,3.7120000000000024,3.8400000000000025,3.9680000000000026,4.096000000000003,4.224000000000003,4.352000000000003,4.480000000000003,4.608000000000003,4.736000000000003,4.864000000000003,4.9920000000000035,5.120000000000004,5.248000000000004,5.376000000000004,5.504000000000004,5.632000000000004,5.760000000000004,5.888000000000004,6.0160000000000045,6.144000000000005,6.272000000000005,6.400000000000005]],\"ys\":[[2,2.0,1.967232,1.9006574425480889,1.7979556354859914,1.6563177617051972,1.4739994967809982,1.2528819528573818,1.0018376427113758,0.7394532218269756,0.49297040260922853,0.2904819572750723,0.14863375568958914,0.0653094619984347,0.02448676348696608,0.007774270115612693,0.00205730980120187,0.0004404850702944289,7.247683529684431e-05,8.355519084439071e-06,5.524218107470239e-07,9.369173908328012e-09,-3.016124162544718e-10,2.453436042059389e-11,-3.201635897219006e-12,5.75167485667633e-13,-1.3159832072061918e-13,3.657801644094501e-14,-1.1964815489898315e-14,4.501833616967257e-15,-1.9151160353268008e-15,9.088374657246899e-16,-4.759690868496091e-16,2.72665554969015e-16,-1.696023378396071e-16,1.1383166188313361e-16,-8.199522268765891e-17,6.309302799191838e-17,-5.1649466946856264e-17,4.48201678292752e-17,-4.109686684736172e-17,3.9702861123899265e-17,-4.030761510453856e-17,4.2902780595429225e-17,-4.7773790693111945e-17,5.554601315339302e-17,-6.731288057980786e-17,8.488100390809318e-17,-1.1120633798416496e-16,1.511623303965237e-16,-2.1290428192232326e-16],[2,1.983616,1.9335623577611758,1.8477741558593794,1.7236594856251046,1.5596694169386869,1.3578233950434087,1.1266895607074183,0.8830186866545633,0.6494049883792992,0.4473295305695062,0.2895362075121859,0.1772979115323488,0.10355502919833555,0.05814396494982618,0.03159979508433203,0.016722188184161678,0.008662561560240447,0.0044148764598929595,0.0022244908786375537,0.0011135092359347962,0.0005564441674874357,0.0002789463675904596,0.00014095196770175792,7.212757066215622e-05,3.754593212655119e-05,1.9966776149289805e-05,1.0891048878001645e-05,6.115724542013353e-06,3.5473083855106187e-06,2.131721516354921e-06,1.330761756360427e-06,8.650054918540727e-07,5.866166419392602e-07,4.157578423652085e-07,3.083791652019793e-07,2.3965163031547826e-07,1.9530508071410422e-07,1.6702317061698063e-07,1.4996075971224047e-07,1.4139993424890313e-07,1.4004216436700777e-07,1.456856322612114e-07,1.5917830028014797e-07,1.8263282143188466e-07,2.1998048903964762e-07,2.7806860123583923e-07,3.687302504808945e-07,5.126961114613817e-07,7.471258765635915e-07,1.140470520716625e-06],[2,1.983549631612657,1.9334276471805387,1.8475468297159607,1.72328080782968,1.5590362372935194,1.356755858160812,1.1248361666549114,0.8797259175823635,0.6437787492029986,0.4387467112642994,0.27832300400785054,0.16482115908590095,0.0915510633232048,0.047934406877885145,0.023756456937101416,0.011179678237517744,0.005006778816265201,0.002137316838935432,0.0008707998112150665,0.00033901635197139163,0.00012627460572987075,4.506279872393596e-05,1.543289582564386e-05,5.082246402218829e-06,1.6130462765347008e-06,4.947591290417477e-07,1.4711389426760258e-07,4.255775721089451e-08,1.2026060110791285e-08,3.334612098038679e-09,9.118002439134931e-10,2.4718671916741337e-10,6.682227781088924e-11,1.8122495869811876e-11,4.961775749309428e-12,1.380220088436158e-12,3.92574334924775e-13,1.1488960948477668e-13,3.4806069514325875e-14,1.0978454723216897e-14,3.624673632529818e-15,1.2588524624650545e-15,4.619406142403684e-16,1.7980914732014993e-16,7.449742949834825e-17,3.2949582896014374e-17,1.5595833036743325e-17,7.915843521260178e-18,4.3153935094526786e-18,2.5300215273761716e-18],[2,1.98354944650803,1.9334268689545266,1.8475449285649699,1.7232770797240489,1.5590298842968051,1.356746310034134,1.1248233835882622,0.8797093929377212,0.6437537313121814,0.438700596829785,0.2782402874760112,0.1646969762214975,0.09139865720733288,0.04777796634524394,0.023618042067888097,0.011071358616963177,0.004930330147707925,0.002087974619126852,0.0008413885182156718,0.000322712698962318,0.00011782668232330378,4.0954937440701814e-05,1.3552370947919457e-05,4.26948240826585e-06,1.2805242960448217e-06,3.656399786132884e-07,9.939693448960393e-08,2.5724434464717e-08,6.338291825939892e-09,1.4867987306270226e-09,3.3203639454964125e-10,7.059480689975221e-11,1.4289379730433366e-11,2.7536425122788195e-12,5.051906405808404e-13,8.823819014498836e-14,1.467274753726268e-14,2.3228429945500534e-15,3.5009170803578533e-16,5.0233952521076794e-17,6.862248399869329e-18,8.924606491583994e-19,1.1050076257916976e-19,1.3025518854221346e-20,1.461767649318883e-21,1.561763318200764e-22,1.5885674068282068e-23,1.538330444035861e-24,1.4182316718674236e-25,1.2447962813288257e-26]]},\"selected\":{\"id\":\"1050\",\"type\":\"Selection\"},\"selection_policy\":{\"id\":\"1049\",\"type\":\"UnionRenderers\"}},\"id\":\"1038\",\"type\":\"ColumnDataSource\"},{\"attributes\":{\"plot\":null,\"text\":\"Methods Comparison\"},\"id\":\"1002\",\"type\":\"Title\"},{\"attributes\":{},\"id\":\"1028\",\"type\":\"HelpTool\"},{\"attributes\":{},\"id\":\"1049\",\"type\":\"UnionRenderers\"},{\"attributes\":{\"active_drag\":\"auto\",\"active_inspect\":\"auto\",\"active_multi\":null,\"active_scroll\":\"auto\",\"active_tap\":\"auto\",\"tools\":[{\"id\":\"1023\",\"type\":\"PanTool\"},{\"id\":\"1024\",\"type\":\"WheelZoomTool\"},{\"id\":\"1025\",\"type\":\"BoxZoomTool\"},{\"id\":\"1026\",\"type\":\"SaveTool\"},{\"id\":\"1027\",\"type\":\"ResetTool\"},{\"id\":\"1028\",\"type\":\"HelpTool\"}]},\"id\":\"1029\",\"type\":\"Toolbar\"},{\"attributes\":{\"data_source\":{\"id\":\"1038\",\"type\":\"ColumnDataSource\"},\"glyph\":{\"id\":\"1039\",\"type\":\"MultiLine\"},\"hover_glyph\":null,\"muted_glyph\":null,\"nonselection_glyph\":{\"id\":\"1040\",\"type\":\"MultiLine\"},\"selection_glyph\":null,\"view\":{\"id\":\"1042\",\"type\":\"CDSView\"}},\"id\":\"1041\",\"type\":\"GlyphRenderer\"},{\"attributes\":{\"bottom_units\":\"screen\",\"fill_alpha\":{\"value\":0.5},\"fill_color\":{\"value\":\"lightgrey\"},\"left_units\":\"screen\",\"level\":\"overlay\",\"line_alpha\":{\"value\":1.0},\"line_color\":{\"value\":\"black\"},\"line_dash\":[4,4],\"line_width\":{\"value\":2},\"plot\":null,\"render_mode\":\"css\",\"right_units\":\"screen\",\"top_units\":\"screen\"},\"id\":\"1031\",\"type\":\"BoxAnnotation\"},{\"attributes\":{},\"id\":\"1009\",\"type\":\"LinearScale\"},{\"attributes\":{\"source\":{\"id\":\"1038\",\"type\":\"ColumnDataSource\"}},\"id\":\"1042\",\"type\":\"CDSView\"},{\"attributes\":{},\"id\":\"1011\",\"type\":\"LinearScale\"},{\"attributes\":{\"formatter\":{\"id\":\"1044\",\"type\":\"BasicTickFormatter\"},\"plot\":{\"id\":\"1003\",\"subtype\":\"Figure\",\"type\":\"Plot\"},\"ticker\":{\"id\":\"1014\",\"type\":\"BasicTicker\"}},\"id\":\"1013\",\"type\":\"LinearAxis\"},{\"attributes\":{},\"id\":\"1044\",\"type\":\"BasicTickFormatter\"},{\"attributes\":{},\"id\":\"1014\",\"type\":\"BasicTicker\"},{\"attributes\":{},\"id\":\"1046\",\"type\":\"BasicTickFormatter\"},{\"attributes\":{\"plot\":{\"id\":\"1003\",\"subtype\":\"Figure\",\"type\":\"Plot\"},\"ticker\":{\"id\":\"1014\",\"type\":\"BasicTicker\"}},\"id\":\"1017\",\"type\":\"Grid\"},{\"attributes\":{},\"id\":\"1050\",\"type\":\"Selection\"},{\"attributes\":{\"formatter\":{\"id\":\"1046\",\"type\":\"BasicTickFormatter\"},\"plot\":{\"id\":\"1003\",\"subtype\":\"Figure\",\"type\":\"Plot\"},\"ticker\":{\"id\":\"1019\",\"type\":\"BasicTicker\"}},\"id\":\"1018\",\"type\":\"LinearAxis\"},{\"attributes\":{},\"id\":\"1027\",\"type\":\"ResetTool\"}],\"root_ids\":[\"1003\"]},\"title\":\"Bokeh Application\",\"version\":\"1.0.0\"}};\n",
       "  var render_items = [{\"docid\":\"94e09672-d011-46d3-9a93-6352d30fe469\",\"notebook_comms_target\":\"1051\",\"roots\":{\"1003\":\"58629566-0a30-447a-b190-12a574186570\"}}];\n",
       "  root.Bokeh.embed.embed_items_notebook(docs_json, render_items);\n",
       "\n",
       "  }\n",
       "  if (root.Bokeh !== undefined) {\n",
       "    embed_document(root);\n",
       "  } else {\n",
       "    var attempts = 0;\n",
       "    var timer = setInterval(function(root) {\n",
       "      if (root.Bokeh !== undefined) {\n",
       "        embed_document(root);\n",
       "        clearInterval(timer);\n",
       "      }\n",
       "      attempts++;\n",
       "      if (attempts > 100) {\n",
       "        console.log(\"Bokeh: ERROR: Unable to run BokehJS code because BokehJS library is missing\");\n",
       "        clearInterval(timer);\n",
       "      }\n",
       "    }, 10, root)\n",
       "  }\n",
       "})(window);"
      ],
      "application/vnd.bokehjs_exec.v0+json": ""
     },
     "metadata": {
      "application/vnd.bokehjs_exec.v0+json": {
       "id": "1003"
      }
     },
     "output_type": "display_data"
    },
    {
     "data": {
      "text/html": [
       "<p><code>&lt;Bokeh Notebook handle for <strong>In[11]</strong>&gt;</code></p>"
      ],
      "text/plain": [
       "<bokeh.io.notebook.CommsHandle at 0x7fea62703c88>"
      ]
     },
     "execution_count": 11,
     "metadata": {},
     "output_type": "execute_result"
    }
   ],
   "source": [
    "plot = figure(plot_width=400, plot_height=400, title=\"Methods Comparison\")\n",
    "\n",
    "r = plot.multi_line(xs,ys,color=['black','green','yellow','blue'],alpha=[1.0,0.4, 0.4, 0.4], line_width=2)\n",
    "show(plot,notebook_handle=True)"
   ]
  },
  {
   "cell_type": "markdown",
   "metadata": {},
   "source": [
    "# Error Graph\n",
    "Comparison of error for all of the graphs"
   ]
  },
  {
   "cell_type": "code",
   "execution_count": 12,
   "metadata": {},
   "outputs": [
    {
     "data": {
      "text/html": [
       "\n",
       "\n",
       "\n",
       "\n",
       "\n",
       "\n",
       "  <div class=\"bk-root\" id=\"24165fc4-a38b-4b81-bd33-12af3910431d\"></div>\n"
      ]
     },
     "metadata": {},
     "output_type": "display_data"
    },
    {
     "data": {
      "application/javascript": [
       "(function(root) {\n",
       "  function embed_document(root) {\n",
       "    \n",
       "  var docs_json = {\"23410cc6-12d4-408a-9fc3-4cfcba7c04b5\":{\"roots\":{\"references\":[{\"attributes\":{\"below\":[{\"id\":\"1111\",\"type\":\"LinearAxis\"}],\"left\":[{\"id\":\"1116\",\"type\":\"LinearAxis\"}],\"plot_height\":400,\"plot_width\":400,\"renderers\":[{\"id\":\"1111\",\"type\":\"LinearAxis\"},{\"id\":\"1115\",\"type\":\"Grid\"},{\"id\":\"1116\",\"type\":\"LinearAxis\"},{\"id\":\"1120\",\"type\":\"Grid\"},{\"id\":\"1129\",\"type\":\"BoxAnnotation\"},{\"id\":\"1211\",\"type\":\"GlyphRenderer\"}],\"title\":{\"id\":\"1100\",\"type\":\"Title\"},\"toolbar\":{\"id\":\"1127\",\"type\":\"Toolbar\"},\"x_range\":{\"id\":\"1103\",\"type\":\"DataRange1d\"},\"x_scale\":{\"id\":\"1107\",\"type\":\"LinearScale\"},\"y_range\":{\"id\":\"1105\",\"type\":\"DataRange1d\"},\"y_scale\":{\"id\":\"1109\",\"type\":\"LinearScale\"}},\"id\":\"1101\",\"subtype\":\"Figure\",\"type\":\"Plot\"},{\"attributes\":{\"line_alpha\":0.1,\"line_color\":\"#1f77b4\",\"line_width\":2,\"x\":{\"field\":\"x\"},\"y\":{\"field\":\"y\"}},\"id\":\"1210\",\"type\":\"Line\"},{\"attributes\":{\"formatter\":{\"id\":\"1234\",\"type\":\"BasicTickFormatter\"},\"plot\":{\"id\":\"1101\",\"subtype\":\"Figure\",\"type\":\"Plot\"},\"ticker\":{\"id\":\"1117\",\"type\":\"BasicTicker\"}},\"id\":\"1116\",\"type\":\"LinearAxis\"},{\"attributes\":{\"data_source\":{\"id\":\"1208\",\"type\":\"ColumnDataSource\"},\"glyph\":{\"id\":\"1209\",\"type\":\"Line\"},\"hover_glyph\":null,\"muted_glyph\":null,\"nonselection_glyph\":{\"id\":\"1210\",\"type\":\"Line\"},\"selection_glyph\":null,\"view\":{\"id\":\"1212\",\"type\":\"CDSView\"}},\"id\":\"1211\",\"type\":\"GlyphRenderer\"},{\"attributes\":{},\"id\":\"1117\",\"type\":\"BasicTicker\"},{\"attributes\":{\"source\":{\"id\":\"1208\",\"type\":\"ColumnDataSource\"}},\"id\":\"1212\",\"type\":\"CDSView\"},{\"attributes\":{\"dimension\":1,\"plot\":{\"id\":\"1101\",\"subtype\":\"Figure\",\"type\":\"Plot\"},\"ticker\":{\"id\":\"1117\",\"type\":\"BasicTicker\"}},\"id\":\"1120\",\"type\":\"Grid\"},{\"attributes\":{},\"id\":\"1121\",\"type\":\"PanTool\"},{\"attributes\":{\"callback\":null,\"data\":{\"x\":[0,0.128,0.256,0.384,0.512,0.64,0.768,0.896,1.024,1.1520000000000001,1.2800000000000002,1.4080000000000004,1.5360000000000005,1.6640000000000006,1.7920000000000007,1.9200000000000008,2.048000000000001,2.176000000000001,2.304000000000001,2.4320000000000013,2.5600000000000014,2.6880000000000015,2.8160000000000016,2.9440000000000017,3.072000000000002,3.200000000000002,3.328000000000002,3.456000000000002,3.5840000000000023,3.7120000000000024,3.8400000000000025,3.9680000000000026,4.096000000000003,4.224000000000003,4.352000000000003,4.480000000000003,4.608000000000003,4.736000000000003,4.864000000000003,4.9920000000000035,5.120000000000004,5.248000000000004,5.376000000000004,5.504000000000004,5.632000000000004,5.760000000000004,5.888000000000004,6.0160000000000045,6.144000000000005,6.272000000000005,6.400000000000005],\"y\":[0,0.01645055349197011,0.03380513104547345,0.053112513983119,0.07467855576194249,0.09728787740839206,0.11725318674686425,0.12805856926911963,0.12212824977365455,0.0956994905147942,0.054269805779443514,0.012241669799061106,0.016063220531908368,0.026089195208898186,0.023291202858277862,0.015843771952275404,0.009014048815761306,0.004489845077413496,0.0020154977838300076,0.0008330329991312327,0.00032216027715157095,0.00011781731314939545,4.095523905311807e-05,1.3552346413559037e-05,4.269485609901747e-06,1.2805237208773361e-06,3.656401102116091e-07,9.939689791158748e-08,2.5724446429532488e-08,6.338287324106275e-09,1.486800645743058e-09,3.3203548571217554e-10,7.059528286883907e-11,1.4289107064878397e-11,2.753812114616659e-12,5.050768089189573e-13,8.832018536767602e-14,1.4609654509270762e-14,2.3744924614969097e-15,3.0527154020651013e-16,9.133081936843851e-17,3.2840612724029935e-17,4.120007575369696e-17,4.2792279832850054e-17,4.7786816211966165e-17,5.55445513857437e-17,6.731303675613968e-17,8.488098802241911e-17,1.112063395224954e-16,1.5116233025470053e-16,2.1290428193477121e-16]},\"selected\":{\"id\":\"1238\",\"type\":\"Selection\"},\"selection_policy\":{\"id\":\"1237\",\"type\":\"UnionRenderers\"}},\"id\":\"1208\",\"type\":\"ColumnDataSource\"},{\"attributes\":{},\"id\":\"1122\",\"type\":\"WheelZoomTool\"},{\"attributes\":{\"overlay\":{\"id\":\"1129\",\"type\":\"BoxAnnotation\"}},\"id\":\"1123\",\"type\":\"BoxZoomTool\"},{\"attributes\":{},\"id\":\"1232\",\"type\":\"BasicTickFormatter\"},{\"attributes\":{},\"id\":\"1124\",\"type\":\"SaveTool\"},{\"attributes\":{\"plot\":null,\"text\":\"Euler\"},\"id\":\"1100\",\"type\":\"Title\"},{\"attributes\":{},\"id\":\"1125\",\"type\":\"ResetTool\"},{\"attributes\":{\"callback\":null},\"id\":\"1103\",\"type\":\"DataRange1d\"},{\"attributes\":{},\"id\":\"1126\",\"type\":\"HelpTool\"},{\"attributes\":{\"active_drag\":\"auto\",\"active_inspect\":\"auto\",\"active_multi\":null,\"active_scroll\":\"auto\",\"active_tap\":\"auto\",\"tools\":[{\"id\":\"1121\",\"type\":\"PanTool\"},{\"id\":\"1122\",\"type\":\"WheelZoomTool\"},{\"id\":\"1123\",\"type\":\"BoxZoomTool\"},{\"id\":\"1124\",\"type\":\"SaveTool\"},{\"id\":\"1125\",\"type\":\"ResetTool\"},{\"id\":\"1126\",\"type\":\"HelpTool\"}]},\"id\":\"1127\",\"type\":\"Toolbar\"},{\"attributes\":{\"callback\":null},\"id\":\"1105\",\"type\":\"DataRange1d\"},{\"attributes\":{},\"id\":\"1107\",\"type\":\"LinearScale\"},{\"attributes\":{\"bottom_units\":\"screen\",\"fill_alpha\":{\"value\":0.5},\"fill_color\":{\"value\":\"lightgrey\"},\"left_units\":\"screen\",\"level\":\"overlay\",\"line_alpha\":{\"value\":1.0},\"line_color\":{\"value\":\"black\"},\"line_dash\":[4,4],\"line_width\":{\"value\":2},\"plot\":null,\"render_mode\":\"css\",\"right_units\":\"screen\",\"top_units\":\"screen\"},\"id\":\"1129\",\"type\":\"BoxAnnotation\"},{\"attributes\":{},\"id\":\"1109\",\"type\":\"LinearScale\"},{\"attributes\":{},\"id\":\"1234\",\"type\":\"BasicTickFormatter\"},{\"attributes\":{\"formatter\":{\"id\":\"1232\",\"type\":\"BasicTickFormatter\"},\"plot\":{\"id\":\"1101\",\"subtype\":\"Figure\",\"type\":\"Plot\"},\"ticker\":{\"id\":\"1112\",\"type\":\"BasicTicker\"}},\"id\":\"1111\",\"type\":\"LinearAxis\"},{\"attributes\":{},\"id\":\"1237\",\"type\":\"UnionRenderers\"},{\"attributes\":{},\"id\":\"1112\",\"type\":\"BasicTicker\"},{\"attributes\":{\"line_color\":\"red\",\"line_width\":2,\"x\":{\"field\":\"x\"},\"y\":{\"field\":\"y\"}},\"id\":\"1209\",\"type\":\"Line\"},{\"attributes\":{},\"id\":\"1238\",\"type\":\"Selection\"},{\"attributes\":{\"plot\":{\"id\":\"1101\",\"subtype\":\"Figure\",\"type\":\"Plot\"},\"ticker\":{\"id\":\"1112\",\"type\":\"BasicTicker\"}},\"id\":\"1115\",\"type\":\"Grid\"}],\"root_ids\":[\"1101\"]},\"title\":\"Bokeh Application\",\"version\":\"1.0.0\"}};\n",
       "  var render_items = [{\"docid\":\"23410cc6-12d4-408a-9fc3-4cfcba7c04b5\",\"notebook_comms_target\":\"1239\",\"roots\":{\"1101\":\"24165fc4-a38b-4b81-bd33-12af3910431d\"}}];\n",
       "  root.Bokeh.embed.embed_items_notebook(docs_json, render_items);\n",
       "\n",
       "  }\n",
       "  if (root.Bokeh !== undefined) {\n",
       "    embed_document(root);\n",
       "  } else {\n",
       "    var attempts = 0;\n",
       "    var timer = setInterval(function(root) {\n",
       "      if (root.Bokeh !== undefined) {\n",
       "        embed_document(root);\n",
       "        clearInterval(timer);\n",
       "      }\n",
       "      attempts++;\n",
       "      if (attempts > 100) {\n",
       "        console.log(\"Bokeh: ERROR: Unable to run BokehJS code because BokehJS library is missing\");\n",
       "        clearInterval(timer);\n",
       "      }\n",
       "    }, 10, root)\n",
       "  }\n",
       "})(window);"
      ],
      "application/vnd.bokehjs_exec.v0+json": ""
     },
     "metadata": {
      "application/vnd.bokehjs_exec.v0+json": {
       "id": "1101"
      }
     },
     "output_type": "display_data"
    },
    {
     "data": {
      "text/html": [
       "\n",
       "\n",
       "\n",
       "\n",
       "\n",
       "\n",
       "  <div class=\"bk-root\" id=\"13476585-ccbb-4d83-aaac-31a414139967\"></div>\n"
      ]
     },
     "metadata": {},
     "output_type": "display_data"
    },
    {
     "data": {
      "application/javascript": [
       "(function(root) {\n",
       "  function embed_document(root) {\n",
       "    \n",
       "  var docs_json = {\"62c0edc2-f306-45f8-8d54-91cb5b56d78f\":{\"roots\":{\"references\":[{\"attributes\":{\"below\":[{\"id\":\"1147\",\"type\":\"LinearAxis\"}],\"left\":[{\"id\":\"1152\",\"type\":\"LinearAxis\"}],\"plot_height\":400,\"plot_width\":400,\"renderers\":[{\"id\":\"1147\",\"type\":\"LinearAxis\"},{\"id\":\"1151\",\"type\":\"Grid\"},{\"id\":\"1152\",\"type\":\"LinearAxis\"},{\"id\":\"1156\",\"type\":\"Grid\"},{\"id\":\"1165\",\"type\":\"BoxAnnotation\"},{\"id\":\"1216\",\"type\":\"GlyphRenderer\"}],\"title\":{\"id\":\"1136\",\"type\":\"Title\"},\"toolbar\":{\"id\":\"1163\",\"type\":\"Toolbar\"},\"x_range\":{\"id\":\"1139\",\"type\":\"DataRange1d\"},\"x_scale\":{\"id\":\"1143\",\"type\":\"LinearScale\"},\"y_range\":{\"id\":\"1141\",\"type\":\"DataRange1d\"},\"y_scale\":{\"id\":\"1145\",\"type\":\"LinearScale\"}},\"id\":\"1137\",\"subtype\":\"Figure\",\"type\":\"Plot\"},{\"attributes\":{},\"id\":\"1148\",\"type\":\"BasicTicker\"},{\"attributes\":{},\"id\":\"1310\",\"type\":\"UnionRenderers\"},{\"attributes\":{\"plot\":{\"id\":\"1137\",\"subtype\":\"Figure\",\"type\":\"Plot\"},\"ticker\":{\"id\":\"1148\",\"type\":\"BasicTicker\"}},\"id\":\"1151\",\"type\":\"Grid\"},{\"attributes\":{\"formatter\":{\"id\":\"1307\",\"type\":\"BasicTickFormatter\"},\"plot\":{\"id\":\"1137\",\"subtype\":\"Figure\",\"type\":\"Plot\"},\"ticker\":{\"id\":\"1153\",\"type\":\"BasicTicker\"}},\"id\":\"1152\",\"type\":\"LinearAxis\"},{\"attributes\":{},\"id\":\"1153\",\"type\":\"BasicTicker\"},{\"attributes\":{\"line_color\":\"red\",\"line_width\":2,\"x\":{\"field\":\"x\"},\"y\":{\"field\":\"y\"}},\"id\":\"1214\",\"type\":\"Line\"},{\"attributes\":{\"dimension\":1,\"plot\":{\"id\":\"1137\",\"subtype\":\"Figure\",\"type\":\"Plot\"},\"ticker\":{\"id\":\"1153\",\"type\":\"BasicTicker\"}},\"id\":\"1156\",\"type\":\"Grid\"},{\"attributes\":{\"callback\":null,\"data\":{\"x\":[0,0.128,0.256,0.384,0.512,0.64,0.768,0.896,1.024,1.1520000000000001,1.2800000000000002,1.4080000000000004,1.5360000000000005,1.6640000000000006,1.7920000000000007,1.9200000000000008,2.048000000000001,2.176000000000001,2.304000000000001,2.4320000000000013,2.5600000000000014,2.6880000000000015,2.8160000000000016,2.9440000000000017,3.072000000000002,3.200000000000002,3.328000000000002,3.456000000000002,3.5840000000000023,3.7120000000000024,3.8400000000000025,3.9680000000000026,4.096000000000003,4.224000000000003,4.352000000000003,4.480000000000003,4.608000000000003,4.736000000000003,4.864000000000003,4.9920000000000035,5.120000000000004,5.248000000000004,5.376000000000004,5.504000000000004,5.632000000000004,5.760000000000004,5.888000000000004,6.0160000000000045,6.144000000000005,6.272000000000005,6.400000000000005],\"y\":[0,6.655349197015603e-05,0.0001354888066491533,0.0002292272944095508,0.0003824059010557601,0.0006395326418817682,0.0010770850092747253,0.0018661771191561538,0.0033092937168420766,0.005651257067117776,0.008628933739721178,0.01129592003617469,0.012600935310851297,0.012156371991002668,0.01036599860458224,0.00798175301644393,0.005650829567198501,0.003732231412532522,0.0023269018407661075,0.001383102360421882,0.0007907965369724782,0.00043861748516413194,0.0002379914301497578,0.00012739959675383845,6.785808825389037e-05,3.626540783050637e-05,1.960113617067652e-05,1.0791651943512041e-05,6.090000107548636e-06,3.5409700936846786e-06,2.130234717624294e-06,1.3304297199658773e-06,8.64934897047173e-07,5.866023525595297e-07,4.157550887226962e-07,3.083786600113387e-07,2.396515420772881e-07,1.953050660413567e-07,1.6702316829413764e-07,1.4996075936214875e-07,1.4139993419866918e-07,1.4004216436014554e-07,1.4568563226031894e-07,1.5917830028003746e-07,1.8263282143187164e-07,2.1998048903964616e-07,2.780686012358391e-07,3.687302504808945e-07,5.126961114613817e-07,7.471258765635915e-07,1.140470520716625e-06]},\"selected\":{\"id\":\"1311\",\"type\":\"Selection\"},\"selection_policy\":{\"id\":\"1310\",\"type\":\"UnionRenderers\"}},\"id\":\"1213\",\"type\":\"ColumnDataSource\"},{\"attributes\":{\"plot\":null,\"text\":\"Improved Euler\"},\"id\":\"1136\",\"type\":\"Title\"},{\"attributes\":{\"line_alpha\":0.1,\"line_color\":\"#1f77b4\",\"line_width\":2,\"x\":{\"field\":\"x\"},\"y\":{\"field\":\"y\"}},\"id\":\"1215\",\"type\":\"Line\"},{\"attributes\":{},\"id\":\"1307\",\"type\":\"BasicTickFormatter\"},{\"attributes\":{\"data_source\":{\"id\":\"1213\",\"type\":\"ColumnDataSource\"},\"glyph\":{\"id\":\"1214\",\"type\":\"Line\"},\"hover_glyph\":null,\"muted_glyph\":null,\"nonselection_glyph\":{\"id\":\"1215\",\"type\":\"Line\"},\"selection_glyph\":null,\"view\":{\"id\":\"1217\",\"type\":\"CDSView\"}},\"id\":\"1216\",\"type\":\"GlyphRenderer\"},{\"attributes\":{\"source\":{\"id\":\"1213\",\"type\":\"ColumnDataSource\"}},\"id\":\"1217\",\"type\":\"CDSView\"},{\"attributes\":{},\"id\":\"1157\",\"type\":\"PanTool\"},{\"attributes\":{},\"id\":\"1158\",\"type\":\"WheelZoomTool\"},{\"attributes\":{\"overlay\":{\"id\":\"1165\",\"type\":\"BoxAnnotation\"}},\"id\":\"1159\",\"type\":\"BoxZoomTool\"},{\"attributes\":{},\"id\":\"1160\",\"type\":\"SaveTool\"},{\"attributes\":{},\"id\":\"1161\",\"type\":\"ResetTool\"},{\"attributes\":{},\"id\":\"1311\",\"type\":\"Selection\"},{\"attributes\":{\"callback\":null},\"id\":\"1139\",\"type\":\"DataRange1d\"},{\"attributes\":{},\"id\":\"1162\",\"type\":\"HelpTool\"},{\"attributes\":{},\"id\":\"1305\",\"type\":\"BasicTickFormatter\"},{\"attributes\":{\"active_drag\":\"auto\",\"active_inspect\":\"auto\",\"active_multi\":null,\"active_scroll\":\"auto\",\"active_tap\":\"auto\",\"tools\":[{\"id\":\"1157\",\"type\":\"PanTool\"},{\"id\":\"1158\",\"type\":\"WheelZoomTool\"},{\"id\":\"1159\",\"type\":\"BoxZoomTool\"},{\"id\":\"1160\",\"type\":\"SaveTool\"},{\"id\":\"1161\",\"type\":\"ResetTool\"},{\"id\":\"1162\",\"type\":\"HelpTool\"}]},\"id\":\"1163\",\"type\":\"Toolbar\"},{\"attributes\":{\"callback\":null},\"id\":\"1141\",\"type\":\"DataRange1d\"},{\"attributes\":{\"bottom_units\":\"screen\",\"fill_alpha\":{\"value\":0.5},\"fill_color\":{\"value\":\"lightgrey\"},\"left_units\":\"screen\",\"level\":\"overlay\",\"line_alpha\":{\"value\":1.0},\"line_color\":{\"value\":\"black\"},\"line_dash\":[4,4],\"line_width\":{\"value\":2},\"plot\":null,\"render_mode\":\"css\",\"right_units\":\"screen\",\"top_units\":\"screen\"},\"id\":\"1165\",\"type\":\"BoxAnnotation\"},{\"attributes\":{},\"id\":\"1143\",\"type\":\"LinearScale\"},{\"attributes\":{},\"id\":\"1145\",\"type\":\"LinearScale\"},{\"attributes\":{\"formatter\":{\"id\":\"1305\",\"type\":\"BasicTickFormatter\"},\"plot\":{\"id\":\"1137\",\"subtype\":\"Figure\",\"type\":\"Plot\"},\"ticker\":{\"id\":\"1148\",\"type\":\"BasicTicker\"}},\"id\":\"1147\",\"type\":\"LinearAxis\"}],\"root_ids\":[\"1137\"]},\"title\":\"Bokeh Application\",\"version\":\"1.0.0\"}};\n",
       "  var render_items = [{\"docid\":\"62c0edc2-f306-45f8-8d54-91cb5b56d78f\",\"notebook_comms_target\":\"1312\",\"roots\":{\"1137\":\"13476585-ccbb-4d83-aaac-31a414139967\"}}];\n",
       "  root.Bokeh.embed.embed_items_notebook(docs_json, render_items);\n",
       "\n",
       "  }\n",
       "  if (root.Bokeh !== undefined) {\n",
       "    embed_document(root);\n",
       "  } else {\n",
       "    var attempts = 0;\n",
       "    var timer = setInterval(function(root) {\n",
       "      if (root.Bokeh !== undefined) {\n",
       "        embed_document(root);\n",
       "        clearInterval(timer);\n",
       "      }\n",
       "      attempts++;\n",
       "      if (attempts > 100) {\n",
       "        console.log(\"Bokeh: ERROR: Unable to run BokehJS code because BokehJS library is missing\");\n",
       "        clearInterval(timer);\n",
       "      }\n",
       "    }, 10, root)\n",
       "  }\n",
       "})(window);"
      ],
      "application/vnd.bokehjs_exec.v0+json": ""
     },
     "metadata": {
      "application/vnd.bokehjs_exec.v0+json": {
       "id": "1137"
      }
     },
     "output_type": "display_data"
    },
    {
     "data": {
      "text/html": [
       "\n",
       "\n",
       "\n",
       "\n",
       "\n",
       "\n",
       "  <div class=\"bk-root\" id=\"d43c5a6a-4d79-4f44-95e1-0741c8660f6a\"></div>\n"
      ]
     },
     "metadata": {},
     "output_type": "display_data"
    },
    {
     "data": {
      "application/javascript": [
       "(function(root) {\n",
       "  function embed_document(root) {\n",
       "    \n",
       "  var docs_json = {\"8ef4f4b9-bc01-4a3c-ab78-78db1d89cc75\":{\"roots\":{\"references\":[{\"attributes\":{\"below\":[{\"id\":\"1183\",\"type\":\"LinearAxis\"}],\"left\":[{\"id\":\"1188\",\"type\":\"LinearAxis\"}],\"plot_height\":400,\"plot_width\":400,\"renderers\":[{\"id\":\"1183\",\"type\":\"LinearAxis\"},{\"id\":\"1187\",\"type\":\"Grid\"},{\"id\":\"1188\",\"type\":\"LinearAxis\"},{\"id\":\"1192\",\"type\":\"Grid\"},{\"id\":\"1201\",\"type\":\"BoxAnnotation\"},{\"id\":\"1221\",\"type\":\"GlyphRenderer\"}],\"title\":{\"id\":\"1172\",\"type\":\"Title\"},\"toolbar\":{\"id\":\"1199\",\"type\":\"Toolbar\"},\"x_range\":{\"id\":\"1175\",\"type\":\"DataRange1d\"},\"x_scale\":{\"id\":\"1179\",\"type\":\"LinearScale\"},\"y_range\":{\"id\":\"1177\",\"type\":\"DataRange1d\"},\"y_scale\":{\"id\":\"1181\",\"type\":\"LinearScale\"}},\"id\":\"1173\",\"subtype\":\"Figure\",\"type\":\"Plot\"},{\"attributes\":{},\"id\":\"1181\",\"type\":\"LinearScale\"},{\"attributes\":{\"formatter\":{\"id\":\"1386\",\"type\":\"BasicTickFormatter\"},\"plot\":{\"id\":\"1173\",\"subtype\":\"Figure\",\"type\":\"Plot\"},\"ticker\":{\"id\":\"1184\",\"type\":\"BasicTicker\"}},\"id\":\"1183\",\"type\":\"LinearAxis\"},{\"attributes\":{},\"id\":\"1391\",\"type\":\"UnionRenderers\"},{\"attributes\":{},\"id\":\"1184\",\"type\":\"BasicTicker\"},{\"attributes\":{\"plot\":{\"id\":\"1173\",\"subtype\":\"Figure\",\"type\":\"Plot\"},\"ticker\":{\"id\":\"1184\",\"type\":\"BasicTicker\"}},\"id\":\"1187\",\"type\":\"Grid\"},{\"attributes\":{},\"id\":\"1386\",\"type\":\"BasicTickFormatter\"},{\"attributes\":{\"callback\":null,\"data\":{\"x\":[0,0.128,0.256,0.384,0.512,0.64,0.768,0.896,1.024,1.1520000000000001,1.2800000000000002,1.4080000000000004,1.5360000000000005,1.6640000000000006,1.7920000000000007,1.9200000000000008,2.048000000000001,2.176000000000001,2.304000000000001,2.4320000000000013,2.5600000000000014,2.6880000000000015,2.8160000000000016,2.9440000000000017,3.072000000000002,3.200000000000002,3.328000000000002,3.456000000000002,3.5840000000000023,3.7120000000000024,3.8400000000000025,3.9680000000000026,4.096000000000003,4.224000000000003,4.352000000000003,4.480000000000003,4.608000000000003,4.736000000000003,4.864000000000003,4.9920000000000035,5.120000000000004,5.248000000000004,5.376000000000004,5.504000000000004,5.632000000000004,5.760000000000004,5.888000000000004,6.0160000000000045,6.144000000000005,6.272000000000005,6.400000000000005],\"y\":[0,1.8510462718168696e-07,7.78226012076999e-07,1.9011509908573032e-06,3.7281056310956018e-06,6.352996714253933e-06,9.54812667797178e-06,1.2783066649202368e-05,1.6524644642301745e-05,2.501789081721384e-05,4.611443451441044e-05,8.271653183933303e-05,0.00012418286440343818,0.000152406115871917,0.00015644053264120272,0.00013841486921331927,0.00010831962055456688,7.644866855727617e-05,4.9342219808580154e-05,2.9411292999394732e-05,1.6303653009073636e-05,8.447923406566972e-06,4.107861283234145e-06,1.8805248777244024e-06,8.127639939529792e-07,3.3252198048987907e-07,1.291191504284593e-07,4.771695977799865e-08,1.683332274617751e-08,5.687768284851393e-09,1.8478133674116563e-09,5.797638493638518e-10,1.7659191226766114e-10,5.253289808045587e-11,1.5368853357533056e-11,4.456585108728587e-12,1.2919818982911697e-12,3.779015873875123e-13,1.1256676649022662e-13,3.445597780629009e-14,1.092822077069582e-14,3.617811384129948e-15,1.2579600018158961e-15,4.618301134777893e-16,1.797961218012957e-16,7.449596773069893e-17,3.2949426719682553e-17,1.5595817151069255e-17,7.915841982929734e-18,4.315393367629512e-18,2.5300215149282088e-18]},\"selected\":{\"id\":\"1392\",\"type\":\"Selection\"},\"selection_policy\":{\"id\":\"1391\",\"type\":\"UnionRenderers\"}},\"id\":\"1218\",\"type\":\"ColumnDataSource\"},{\"attributes\":{},\"id\":\"1392\",\"type\":\"Selection\"},{\"attributes\":{\"formatter\":{\"id\":\"1388\",\"type\":\"BasicTickFormatter\"},\"plot\":{\"id\":\"1173\",\"subtype\":\"Figure\",\"type\":\"Plot\"},\"ticker\":{\"id\":\"1189\",\"type\":\"BasicTicker\"}},\"id\":\"1188\",\"type\":\"LinearAxis\"},{\"attributes\":{},\"id\":\"1189\",\"type\":\"BasicTicker\"},{\"attributes\":{\"dimension\":1,\"plot\":{\"id\":\"1173\",\"subtype\":\"Figure\",\"type\":\"Plot\"},\"ticker\":{\"id\":\"1189\",\"type\":\"BasicTicker\"}},\"id\":\"1192\",\"type\":\"Grid\"},{\"attributes\":{\"plot\":null,\"text\":\"Runge Kutta\"},\"id\":\"1172\",\"type\":\"Title\"},{\"attributes\":{},\"id\":\"1388\",\"type\":\"BasicTickFormatter\"},{\"attributes\":{\"line_color\":\"red\",\"line_width\":2,\"x\":{\"field\":\"x\"},\"y\":{\"field\":\"y\"}},\"id\":\"1219\",\"type\":\"Line\"},{\"attributes\":{},\"id\":\"1193\",\"type\":\"PanTool\"},{\"attributes\":{\"line_alpha\":0.1,\"line_color\":\"#1f77b4\",\"line_width\":2,\"x\":{\"field\":\"x\"},\"y\":{\"field\":\"y\"}},\"id\":\"1220\",\"type\":\"Line\"},{\"attributes\":{},\"id\":\"1194\",\"type\":\"WheelZoomTool\"},{\"attributes\":{\"data_source\":{\"id\":\"1218\",\"type\":\"ColumnDataSource\"},\"glyph\":{\"id\":\"1219\",\"type\":\"Line\"},\"hover_glyph\":null,\"muted_glyph\":null,\"nonselection_glyph\":{\"id\":\"1220\",\"type\":\"Line\"},\"selection_glyph\":null,\"view\":{\"id\":\"1222\",\"type\":\"CDSView\"}},\"id\":\"1221\",\"type\":\"GlyphRenderer\"},{\"attributes\":{\"overlay\":{\"id\":\"1201\",\"type\":\"BoxAnnotation\"}},\"id\":\"1195\",\"type\":\"BoxZoomTool\"},{\"attributes\":{\"source\":{\"id\":\"1218\",\"type\":\"ColumnDataSource\"}},\"id\":\"1222\",\"type\":\"CDSView\"},{\"attributes\":{},\"id\":\"1196\",\"type\":\"SaveTool\"},{\"attributes\":{},\"id\":\"1197\",\"type\":\"ResetTool\"},{\"attributes\":{\"callback\":null},\"id\":\"1175\",\"type\":\"DataRange1d\"},{\"attributes\":{},\"id\":\"1198\",\"type\":\"HelpTool\"},{\"attributes\":{\"active_drag\":\"auto\",\"active_inspect\":\"auto\",\"active_multi\":null,\"active_scroll\":\"auto\",\"active_tap\":\"auto\",\"tools\":[{\"id\":\"1193\",\"type\":\"PanTool\"},{\"id\":\"1194\",\"type\":\"WheelZoomTool\"},{\"id\":\"1195\",\"type\":\"BoxZoomTool\"},{\"id\":\"1196\",\"type\":\"SaveTool\"},{\"id\":\"1197\",\"type\":\"ResetTool\"},{\"id\":\"1198\",\"type\":\"HelpTool\"}]},\"id\":\"1199\",\"type\":\"Toolbar\"},{\"attributes\":{\"callback\":null},\"id\":\"1177\",\"type\":\"DataRange1d\"},{\"attributes\":{},\"id\":\"1179\",\"type\":\"LinearScale\"},{\"attributes\":{\"bottom_units\":\"screen\",\"fill_alpha\":{\"value\":0.5},\"fill_color\":{\"value\":\"lightgrey\"},\"left_units\":\"screen\",\"level\":\"overlay\",\"line_alpha\":{\"value\":1.0},\"line_color\":{\"value\":\"black\"},\"line_dash\":[4,4],\"line_width\":{\"value\":2},\"plot\":null,\"render_mode\":\"css\",\"right_units\":\"screen\",\"top_units\":\"screen\"},\"id\":\"1201\",\"type\":\"BoxAnnotation\"}],\"root_ids\":[\"1173\"]},\"title\":\"Bokeh Application\",\"version\":\"1.0.0\"}};\n",
       "  var render_items = [{\"docid\":\"8ef4f4b9-bc01-4a3c-ab78-78db1d89cc75\",\"notebook_comms_target\":\"1393\",\"roots\":{\"1173\":\"d43c5a6a-4d79-4f44-95e1-0741c8660f6a\"}}];\n",
       "  root.Bokeh.embed.embed_items_notebook(docs_json, render_items);\n",
       "\n",
       "  }\n",
       "  if (root.Bokeh !== undefined) {\n",
       "    embed_document(root);\n",
       "  } else {\n",
       "    var attempts = 0;\n",
       "    var timer = setInterval(function(root) {\n",
       "      if (root.Bokeh !== undefined) {\n",
       "        embed_document(root);\n",
       "        clearInterval(timer);\n",
       "      }\n",
       "      attempts++;\n",
       "      if (attempts > 100) {\n",
       "        console.log(\"Bokeh: ERROR: Unable to run BokehJS code because BokehJS library is missing\");\n",
       "        clearInterval(timer);\n",
       "      }\n",
       "    }, 10, root)\n",
       "  }\n",
       "})(window);"
      ],
      "application/vnd.bokehjs_exec.v0+json": ""
     },
     "metadata": {
      "application/vnd.bokehjs_exec.v0+json": {
       "id": "1173"
      }
     },
     "output_type": "display_data"
    },
    {
     "data": {
      "text/html": [
       "<p><code>&lt;Bokeh Notebook handle for <strong>In[12]</strong>&gt;</code></p>"
      ],
      "text/plain": [
       "<bokeh.io.notebook.CommsHandle at 0x7fea6268b588>"
      ]
     },
     "execution_count": 12,
     "metadata": {},
     "output_type": "execute_result"
    }
   ],
   "source": [
    "x = xs[0]\n",
    "y1 = [abs(y0-y1) for (y0,y1) in zip(ys[0],ys[-1])]\n",
    "y2 = [abs(y0-y1) for (y0,y1) in zip(ys[1],ys[-1])]\n",
    "y3 = [abs(y0-y1) for (y0,y1) in zip(ys[2],ys[-1])]\n",
    "\n",
    "error_1 = figure(plot_width=400, plot_height=400, title=\"Euler\")\n",
    "error_2 = figure(plot_width=400, plot_height=400, title=\"Improved Euler\")\n",
    "error_3 = figure(plot_width=400, plot_height=400, title=\"Runge Kutta\")\n",
    "\n",
    "error1_r = error_1.line(x,y1,color='red',line_width=2)\n",
    "error2_r = error_2.line(x,y2,color='red',line_width=2)\n",
    "error3_r = error_3.line(x,y3,color='red',line_width=2)\n",
    "\n",
    "show(error_1,notebook_handle=True)\n",
    "show(error_2,notebook_handle=True)\n",
    "show(error_3,notebook_handle=True)"
   ]
  },
  {
   "cell_type": "code",
   "execution_count": 13,
   "metadata": {},
   "outputs": [
    {
     "data": {
      "application/vnd.jupyter.widget-view+json": {
       "model_id": "037e3009a9fa4e3e97e3a24e5f3c0208",
       "version_major": 2,
       "version_minor": 0
      },
      "text/plain": [
       "interactive(children=(FloatSlider(value=0.0, description='x0', min=-100.0), FloatSlider(value=2.0, description…"
      ]
     },
     "metadata": {},
     "output_type": "display_data"
    },
    {
     "data": {
      "text/plain": [
       "<function __main__.update_plot(x0=0, y0=2, X=6.4, N_steps=50)>"
      ]
     },
     "execution_count": 13,
     "metadata": {},
     "output_type": "execute_result"
    }
   ],
   "source": [
    "interact(update_plot, x0=x0_widget, y0=y0_widget, X=X_widget,N_steps=N_steps_widget)\n",
    "\n"
   ]
  },
  {
   "cell_type": "code",
   "execution_count": null,
   "metadata": {},
   "outputs": [],
   "source": []
  }
 ],
 "metadata": {
  "kernelspec": {
   "display_name": "Python 3",
   "language": "python",
   "name": "python3"
  },
  "language_info": {
   "codemirror_mode": {
    "name": "ipython",
    "version": 3
   },
   "file_extension": ".py",
   "mimetype": "text/x-python",
   "name": "python",
   "nbconvert_exporter": "python",
   "pygments_lexer": "ipython3",
   "version": "3.7.0"
  }
 },
 "nbformat": 4,
 "nbformat_minor": 2
}
