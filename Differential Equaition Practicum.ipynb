{
 "cells": [
  {
   "cell_type": "markdown",
   "metadata": {},
   "source": [
    "# Differential Equations Practicum\n",
    "\n",
    "\n",
    "\n",
    "Variant 25.\n",
    "\n",
    "Original Equation:\n",
    "\n",
    "$$\n",
    "y' = xy^2-3xy,\\:y(0)=2\\\\\n",
    "\\dfrac{y'}{y^2}=x-\\dfrac{3x}{y}\\\\\n",
    "z=1/y,\\:dz=-\\dfrac{dy}{y^2}\\\\\n",
    "-z'=x(1-3z)\\\\\n",
    "\\dfrac{z'}{3z-1}=x\\\\\n",
    "\\dfrac{\\ln{(3z-1)}}{3}=\\dfrac{x^2}{2}+C_1\\\\\n",
    "-1+3z=C_2e^{\\dfrac{3x^2}{2}}\\\\\n",
    "\\dfrac{3}{y}=C_2e^{\\frac{3x^2}{2}}+1\\\\\n",
    "y=\\dfrac{3}{1+C_2e^{\\frac{3x^2}{2}}}\\\\\n",
    "For\\:y(0)=2\\:=>\\:2=\\dfrac{3}{C_2+1}\\:=>\\:C_2=\\frac{1}{2}\n",
    "$$\n",
    "\n",
    "Exact Solution:\n",
    "\n",
    "$$\n",
    "y=\\frac{6}{2+e^{\\frac{3x^2}{2}}}\n",
    "$$\n",
    "\n"
   ]
  },
  {
   "cell_type": "code",
   "execution_count": 1,
   "metadata": {},
   "outputs": [
    {
     "data": {
      "text/html": [
       "\n",
       "    <div class=\"bk-root\">\n",
       "        <a href=\"https://bokeh.pydata.org\" target=\"_blank\" class=\"bk-logo bk-logo-small bk-logo-notebook\"></a>\n",
       "        <span id=\"1001\">Loading BokehJS ...</span>\n",
       "    </div>"
      ]
     },
     "metadata": {},
     "output_type": "display_data"
    },
    {
     "data": {
      "application/javascript": [
       "\n",
       "(function(root) {\n",
       "  function now() {\n",
       "    return new Date();\n",
       "  }\n",
       "\n",
       "  var force = true;\n",
       "\n",
       "  if (typeof (root._bokeh_onload_callbacks) === \"undefined\" || force === true) {\n",
       "    root._bokeh_onload_callbacks = [];\n",
       "    root._bokeh_is_loading = undefined;\n",
       "  }\n",
       "\n",
       "  var JS_MIME_TYPE = 'application/javascript';\n",
       "  var HTML_MIME_TYPE = 'text/html';\n",
       "  var EXEC_MIME_TYPE = 'application/vnd.bokehjs_exec.v0+json';\n",
       "  var CLASS_NAME = 'output_bokeh rendered_html';\n",
       "\n",
       "  /**\n",
       "   * Render data to the DOM node\n",
       "   */\n",
       "  function render(props, node) {\n",
       "    var script = document.createElement(\"script\");\n",
       "    node.appendChild(script);\n",
       "  }\n",
       "\n",
       "  /**\n",
       "   * Handle when an output is cleared or removed\n",
       "   */\n",
       "  function handleClearOutput(event, handle) {\n",
       "    var cell = handle.cell;\n",
       "\n",
       "    var id = cell.output_area._bokeh_element_id;\n",
       "    var server_id = cell.output_area._bokeh_server_id;\n",
       "    // Clean up Bokeh references\n",
       "    if (id != null && id in Bokeh.index) {\n",
       "      Bokeh.index[id].model.document.clear();\n",
       "      delete Bokeh.index[id];\n",
       "    }\n",
       "\n",
       "    if (server_id !== undefined) {\n",
       "      // Clean up Bokeh references\n",
       "      var cmd = \"from bokeh.io.state import curstate; print(curstate().uuid_to_server['\" + server_id + \"'].get_sessions()[0].document.roots[0]._id)\";\n",
       "      cell.notebook.kernel.execute(cmd, {\n",
       "        iopub: {\n",
       "          output: function(msg) {\n",
       "            var id = msg.content.text.trim();\n",
       "            if (id in Bokeh.index) {\n",
       "              Bokeh.index[id].model.document.clear();\n",
       "              delete Bokeh.index[id];\n",
       "            }\n",
       "          }\n",
       "        }\n",
       "      });\n",
       "      // Destroy server and session\n",
       "      var cmd = \"import bokeh.io.notebook as ion; ion.destroy_server('\" + server_id + \"')\";\n",
       "      cell.notebook.kernel.execute(cmd);\n",
       "    }\n",
       "  }\n",
       "\n",
       "  /**\n",
       "   * Handle when a new output is added\n",
       "   */\n",
       "  function handleAddOutput(event, handle) {\n",
       "    var output_area = handle.output_area;\n",
       "    var output = handle.output;\n",
       "\n",
       "    // limit handleAddOutput to display_data with EXEC_MIME_TYPE content only\n",
       "    if ((output.output_type != \"display_data\") || (!output.data.hasOwnProperty(EXEC_MIME_TYPE))) {\n",
       "      return\n",
       "    }\n",
       "\n",
       "    var toinsert = output_area.element.find(\".\" + CLASS_NAME.split(' ')[0]);\n",
       "\n",
       "    if (output.metadata[EXEC_MIME_TYPE][\"id\"] !== undefined) {\n",
       "      toinsert[toinsert.length - 1].firstChild.textContent = output.data[JS_MIME_TYPE];\n",
       "      // store reference to embed id on output_area\n",
       "      output_area._bokeh_element_id = output.metadata[EXEC_MIME_TYPE][\"id\"];\n",
       "    }\n",
       "    if (output.metadata[EXEC_MIME_TYPE][\"server_id\"] !== undefined) {\n",
       "      var bk_div = document.createElement(\"div\");\n",
       "      bk_div.innerHTML = output.data[HTML_MIME_TYPE];\n",
       "      var script_attrs = bk_div.children[0].attributes;\n",
       "      for (var i = 0; i < script_attrs.length; i++) {\n",
       "        toinsert[toinsert.length - 1].firstChild.setAttribute(script_attrs[i].name, script_attrs[i].value);\n",
       "      }\n",
       "      // store reference to server id on output_area\n",
       "      output_area._bokeh_server_id = output.metadata[EXEC_MIME_TYPE][\"server_id\"];\n",
       "    }\n",
       "  }\n",
       "\n",
       "  function register_renderer(events, OutputArea) {\n",
       "\n",
       "    function append_mime(data, metadata, element) {\n",
       "      // create a DOM node to render to\n",
       "      var toinsert = this.create_output_subarea(\n",
       "        metadata,\n",
       "        CLASS_NAME,\n",
       "        EXEC_MIME_TYPE\n",
       "      );\n",
       "      this.keyboard_manager.register_events(toinsert);\n",
       "      // Render to node\n",
       "      var props = {data: data, metadata: metadata[EXEC_MIME_TYPE]};\n",
       "      render(props, toinsert[toinsert.length - 1]);\n",
       "      element.append(toinsert);\n",
       "      return toinsert\n",
       "    }\n",
       "\n",
       "    /* Handle when an output is cleared or removed */\n",
       "    events.on('clear_output.CodeCell', handleClearOutput);\n",
       "    events.on('delete.Cell', handleClearOutput);\n",
       "\n",
       "    /* Handle when a new output is added */\n",
       "    events.on('output_added.OutputArea', handleAddOutput);\n",
       "\n",
       "    /**\n",
       "     * Register the mime type and append_mime function with output_area\n",
       "     */\n",
       "    OutputArea.prototype.register_mime_type(EXEC_MIME_TYPE, append_mime, {\n",
       "      /* Is output safe? */\n",
       "      safe: true,\n",
       "      /* Index of renderer in `output_area.display_order` */\n",
       "      index: 0\n",
       "    });\n",
       "  }\n",
       "\n",
       "  // register the mime type if in Jupyter Notebook environment and previously unregistered\n",
       "  if (root.Jupyter !== undefined) {\n",
       "    var events = require('base/js/events');\n",
       "    var OutputArea = require('notebook/js/outputarea').OutputArea;\n",
       "\n",
       "    if (OutputArea.prototype.mime_types().indexOf(EXEC_MIME_TYPE) == -1) {\n",
       "      register_renderer(events, OutputArea);\n",
       "    }\n",
       "  }\n",
       "\n",
       "  \n",
       "  if (typeof (root._bokeh_timeout) === \"undefined\" || force === true) {\n",
       "    root._bokeh_timeout = Date.now() + 5000;\n",
       "    root._bokeh_failed_load = false;\n",
       "  }\n",
       "\n",
       "  var NB_LOAD_WARNING = {'data': {'text/html':\n",
       "     \"<div style='background-color: #fdd'>\\n\"+\n",
       "     \"<p>\\n\"+\n",
       "     \"BokehJS does not appear to have successfully loaded. If loading BokehJS from CDN, this \\n\"+\n",
       "     \"may be due to a slow or bad network connection. Possible fixes:\\n\"+\n",
       "     \"</p>\\n\"+\n",
       "     \"<ul>\\n\"+\n",
       "     \"<li>re-rerun `output_notebook()` to attempt to load from CDN again, or</li>\\n\"+\n",
       "     \"<li>use INLINE resources instead, as so:</li>\\n\"+\n",
       "     \"</ul>\\n\"+\n",
       "     \"<code>\\n\"+\n",
       "     \"from bokeh.resources import INLINE\\n\"+\n",
       "     \"output_notebook(resources=INLINE)\\n\"+\n",
       "     \"</code>\\n\"+\n",
       "     \"</div>\"}};\n",
       "\n",
       "  function display_loaded() {\n",
       "    var el = document.getElementById(\"1001\");\n",
       "    if (el != null) {\n",
       "      el.textContent = \"BokehJS is loading...\";\n",
       "    }\n",
       "    if (root.Bokeh !== undefined) {\n",
       "      if (el != null) {\n",
       "        el.textContent = \"BokehJS \" + root.Bokeh.version + \" successfully loaded.\";\n",
       "      }\n",
       "    } else if (Date.now() < root._bokeh_timeout) {\n",
       "      setTimeout(display_loaded, 100)\n",
       "    }\n",
       "  }\n",
       "\n",
       "\n",
       "  function run_callbacks() {\n",
       "    try {\n",
       "      root._bokeh_onload_callbacks.forEach(function(callback) { callback() });\n",
       "    }\n",
       "    finally {\n",
       "      delete root._bokeh_onload_callbacks\n",
       "    }\n",
       "    console.info(\"Bokeh: all callbacks have finished\");\n",
       "  }\n",
       "\n",
       "  function load_libs(js_urls, callback) {\n",
       "    root._bokeh_onload_callbacks.push(callback);\n",
       "    if (root._bokeh_is_loading > 0) {\n",
       "      console.log(\"Bokeh: BokehJS is being loaded, scheduling callback at\", now());\n",
       "      return null;\n",
       "    }\n",
       "    if (js_urls == null || js_urls.length === 0) {\n",
       "      run_callbacks();\n",
       "      return null;\n",
       "    }\n",
       "    console.log(\"Bokeh: BokehJS not loaded, scheduling load and callback at\", now());\n",
       "    root._bokeh_is_loading = js_urls.length;\n",
       "    for (var i = 0; i < js_urls.length; i++) {\n",
       "      var url = js_urls[i];\n",
       "      var s = document.createElement('script');\n",
       "      s.src = url;\n",
       "      s.async = false;\n",
       "      s.onreadystatechange = s.onload = function() {\n",
       "        root._bokeh_is_loading--;\n",
       "        if (root._bokeh_is_loading === 0) {\n",
       "          console.log(\"Bokeh: all BokehJS libraries loaded\");\n",
       "          run_callbacks()\n",
       "        }\n",
       "      };\n",
       "      s.onerror = function() {\n",
       "        console.warn(\"failed to load library \" + url);\n",
       "      };\n",
       "      console.log(\"Bokeh: injecting script tag for BokehJS library: \", url);\n",
       "      document.getElementsByTagName(\"head\")[0].appendChild(s);\n",
       "    }\n",
       "  };var element = document.getElementById(\"1001\");\n",
       "  if (element == null) {\n",
       "    console.log(\"Bokeh: ERROR: autoload.js configured with elementid '1001' but no matching script tag was found. \")\n",
       "    return false;\n",
       "  }\n",
       "\n",
       "  var js_urls = [\"https://cdn.pydata.org/bokeh/release/bokeh-1.0.0.min.js\", \"https://cdn.pydata.org/bokeh/release/bokeh-widgets-1.0.0.min.js\", \"https://cdn.pydata.org/bokeh/release/bokeh-tables-1.0.0.min.js\", \"https://cdn.pydata.org/bokeh/release/bokeh-gl-1.0.0.min.js\"];\n",
       "\n",
       "  var inline_js = [\n",
       "    function(Bokeh) {\n",
       "      Bokeh.set_log_level(\"info\");\n",
       "    },\n",
       "    \n",
       "    function(Bokeh) {\n",
       "      \n",
       "    },\n",
       "    function(Bokeh) {\n",
       "      console.log(\"Bokeh: injecting CSS: https://cdn.pydata.org/bokeh/release/bokeh-1.0.0.min.css\");\n",
       "      Bokeh.embed.inject_css(\"https://cdn.pydata.org/bokeh/release/bokeh-1.0.0.min.css\");\n",
       "      console.log(\"Bokeh: injecting CSS: https://cdn.pydata.org/bokeh/release/bokeh-widgets-1.0.0.min.css\");\n",
       "      Bokeh.embed.inject_css(\"https://cdn.pydata.org/bokeh/release/bokeh-widgets-1.0.0.min.css\");\n",
       "      console.log(\"Bokeh: injecting CSS: https://cdn.pydata.org/bokeh/release/bokeh-tables-1.0.0.min.css\");\n",
       "      Bokeh.embed.inject_css(\"https://cdn.pydata.org/bokeh/release/bokeh-tables-1.0.0.min.css\");\n",
       "    }\n",
       "  ];\n",
       "\n",
       "  function run_inline_js() {\n",
       "    \n",
       "    if ((root.Bokeh !== undefined) || (force === true)) {\n",
       "      for (var i = 0; i < inline_js.length; i++) {\n",
       "        inline_js[i].call(root, root.Bokeh);\n",
       "      }if (force === true) {\n",
       "        display_loaded();\n",
       "      }} else if (Date.now() < root._bokeh_timeout) {\n",
       "      setTimeout(run_inline_js, 100);\n",
       "    } else if (!root._bokeh_failed_load) {\n",
       "      console.log(\"Bokeh: BokehJS failed to load within specified timeout.\");\n",
       "      root._bokeh_failed_load = true;\n",
       "    } else if (force !== true) {\n",
       "      var cell = $(document.getElementById(\"1001\")).parents('.cell').data().cell;\n",
       "      cell.output_area.append_execute_result(NB_LOAD_WARNING)\n",
       "    }\n",
       "\n",
       "  }\n",
       "\n",
       "  if (root._bokeh_is_loading === 0) {\n",
       "    console.log(\"Bokeh: BokehJS loaded, going straight to plotting\");\n",
       "    run_inline_js();\n",
       "  } else {\n",
       "    load_libs(js_urls, function() {\n",
       "      console.log(\"Bokeh: BokehJS plotting callback run at\", now());\n",
       "      run_inline_js();\n",
       "    });\n",
       "  }\n",
       "}(window));"
      ],
      "application/vnd.bokehjs_load.v0+json": "\n(function(root) {\n  function now() {\n    return new Date();\n  }\n\n  var force = true;\n\n  if (typeof (root._bokeh_onload_callbacks) === \"undefined\" || force === true) {\n    root._bokeh_onload_callbacks = [];\n    root._bokeh_is_loading = undefined;\n  }\n\n  \n\n  \n  if (typeof (root._bokeh_timeout) === \"undefined\" || force === true) {\n    root._bokeh_timeout = Date.now() + 5000;\n    root._bokeh_failed_load = false;\n  }\n\n  var NB_LOAD_WARNING = {'data': {'text/html':\n     \"<div style='background-color: #fdd'>\\n\"+\n     \"<p>\\n\"+\n     \"BokehJS does not appear to have successfully loaded. If loading BokehJS from CDN, this \\n\"+\n     \"may be due to a slow or bad network connection. Possible fixes:\\n\"+\n     \"</p>\\n\"+\n     \"<ul>\\n\"+\n     \"<li>re-rerun `output_notebook()` to attempt to load from CDN again, or</li>\\n\"+\n     \"<li>use INLINE resources instead, as so:</li>\\n\"+\n     \"</ul>\\n\"+\n     \"<code>\\n\"+\n     \"from bokeh.resources import INLINE\\n\"+\n     \"output_notebook(resources=INLINE)\\n\"+\n     \"</code>\\n\"+\n     \"</div>\"}};\n\n  function display_loaded() {\n    var el = document.getElementById(\"1001\");\n    if (el != null) {\n      el.textContent = \"BokehJS is loading...\";\n    }\n    if (root.Bokeh !== undefined) {\n      if (el != null) {\n        el.textContent = \"BokehJS \" + root.Bokeh.version + \" successfully loaded.\";\n      }\n    } else if (Date.now() < root._bokeh_timeout) {\n      setTimeout(display_loaded, 100)\n    }\n  }\n\n\n  function run_callbacks() {\n    try {\n      root._bokeh_onload_callbacks.forEach(function(callback) { callback() });\n    }\n    finally {\n      delete root._bokeh_onload_callbacks\n    }\n    console.info(\"Bokeh: all callbacks have finished\");\n  }\n\n  function load_libs(js_urls, callback) {\n    root._bokeh_onload_callbacks.push(callback);\n    if (root._bokeh_is_loading > 0) {\n      console.log(\"Bokeh: BokehJS is being loaded, scheduling callback at\", now());\n      return null;\n    }\n    if (js_urls == null || js_urls.length === 0) {\n      run_callbacks();\n      return null;\n    }\n    console.log(\"Bokeh: BokehJS not loaded, scheduling load and callback at\", now());\n    root._bokeh_is_loading = js_urls.length;\n    for (var i = 0; i < js_urls.length; i++) {\n      var url = js_urls[i];\n      var s = document.createElement('script');\n      s.src = url;\n      s.async = false;\n      s.onreadystatechange = s.onload = function() {\n        root._bokeh_is_loading--;\n        if (root._bokeh_is_loading === 0) {\n          console.log(\"Bokeh: all BokehJS libraries loaded\");\n          run_callbacks()\n        }\n      };\n      s.onerror = function() {\n        console.warn(\"failed to load library \" + url);\n      };\n      console.log(\"Bokeh: injecting script tag for BokehJS library: \", url);\n      document.getElementsByTagName(\"head\")[0].appendChild(s);\n    }\n  };var element = document.getElementById(\"1001\");\n  if (element == null) {\n    console.log(\"Bokeh: ERROR: autoload.js configured with elementid '1001' but no matching script tag was found. \")\n    return false;\n  }\n\n  var js_urls = [\"https://cdn.pydata.org/bokeh/release/bokeh-1.0.0.min.js\", \"https://cdn.pydata.org/bokeh/release/bokeh-widgets-1.0.0.min.js\", \"https://cdn.pydata.org/bokeh/release/bokeh-tables-1.0.0.min.js\", \"https://cdn.pydata.org/bokeh/release/bokeh-gl-1.0.0.min.js\"];\n\n  var inline_js = [\n    function(Bokeh) {\n      Bokeh.set_log_level(\"info\");\n    },\n    \n    function(Bokeh) {\n      \n    },\n    function(Bokeh) {\n      console.log(\"Bokeh: injecting CSS: https://cdn.pydata.org/bokeh/release/bokeh-1.0.0.min.css\");\n      Bokeh.embed.inject_css(\"https://cdn.pydata.org/bokeh/release/bokeh-1.0.0.min.css\");\n      console.log(\"Bokeh: injecting CSS: https://cdn.pydata.org/bokeh/release/bokeh-widgets-1.0.0.min.css\");\n      Bokeh.embed.inject_css(\"https://cdn.pydata.org/bokeh/release/bokeh-widgets-1.0.0.min.css\");\n      console.log(\"Bokeh: injecting CSS: https://cdn.pydata.org/bokeh/release/bokeh-tables-1.0.0.min.css\");\n      Bokeh.embed.inject_css(\"https://cdn.pydata.org/bokeh/release/bokeh-tables-1.0.0.min.css\");\n    }\n  ];\n\n  function run_inline_js() {\n    \n    if ((root.Bokeh !== undefined) || (force === true)) {\n      for (var i = 0; i < inline_js.length; i++) {\n        inline_js[i].call(root, root.Bokeh);\n      }if (force === true) {\n        display_loaded();\n      }} else if (Date.now() < root._bokeh_timeout) {\n      setTimeout(run_inline_js, 100);\n    } else if (!root._bokeh_failed_load) {\n      console.log(\"Bokeh: BokehJS failed to load within specified timeout.\");\n      root._bokeh_failed_load = true;\n    } else if (force !== true) {\n      var cell = $(document.getElementById(\"1001\")).parents('.cell').data().cell;\n      cell.output_area.append_execute_result(NB_LOAD_WARNING)\n    }\n\n  }\n\n  if (root._bokeh_is_loading === 0) {\n    console.log(\"Bokeh: BokehJS loaded, going straight to plotting\");\n    run_inline_js();\n  } else {\n    load_libs(js_urls, function() {\n      console.log(\"Bokeh: BokehJS plotting callback run at\", now());\n      run_inline_js();\n    });\n  }\n}(window));"
     },
     "metadata": {},
     "output_type": "display_data"
    }
   ],
   "source": [
    "from ipywidgets import interact, interactive, fixed, interact_manual\n",
    "import ipywidgets as widgets\n",
    "from bokeh.plotting import figure, show\n",
    "from bokeh.io import output_notebook, push_notebook\n",
    "import numpy\n",
    "output_notebook()"
   ]
  },
  {
   "cell_type": "markdown",
   "metadata": {},
   "source": [
    "## Definition of original and exact solution functions"
   ]
  },
  {
   "cell_type": "code",
   "execution_count": 2,
   "metadata": {},
   "outputs": [],
   "source": [
    "def my_func(x, y):\n",
    "    return x * y * y - 3 * x * y"
   ]
  },
  {
   "cell_type": "code",
   "execution_count": 3,
   "metadata": {},
   "outputs": [],
   "source": [
    "def exact_func(x,C):\n",
    "    return 3/(C*numpy.exp(3*x*x/2)+1)"
   ]
  },
  {
   "cell_type": "markdown",
   "metadata": {},
   "source": [
    "## Helper function\n",
    "Get array of xs from xs to xf with N number of times\n",
    "\n",
    "Created a separate function for it since use it a lot"
   ]
  },
  {
   "cell_type": "code",
   "execution_count": 4,
   "metadata": {},
   "outputs": [],
   "source": [
    "def get_x(xs, xf, N):\n",
    "    return numpy.linspace(xs, xf, num=N)"
   ]
  },
  {
   "cell_type": "markdown",
   "metadata": {},
   "source": [
    "# Computation for the exact function\n",
    "Receive initial value for x and y, end of the interval [x0,X] and number of steps to perform\n",
    "\n",
    "Returns x and y arrays"
   ]
  },
  {
   "cell_type": "code",
   "execution_count": 5,
   "metadata": {},
   "outputs": [],
   "source": [
    "def exact(x0, y0, X, N_steps):\n",
    "    # F\n",
    "    func = exact_func\n",
    "    x = get_x(x0, X, N_steps)\n",
    "    y = numpy.array(y0)\n",
    "    # Compute the constant of the general solution\n",
    "    C = (3/y0-1)/numpy.exp(3*x0*x0/2)\n",
    "    \n",
    "    # Compute ys and store them into the array\n",
    "    # Loop until 50 elements (from 1 because we start with y0)\n",
    "    for i in range(1, N_steps):\n",
    "        y = numpy.append(y, func(x[i],C))\n",
    "    return x, y"
   ]
  },
  {
   "cell_type": "markdown",
   "metadata": {},
   "source": [
    "## Euler Method\n",
    "Receive function to compute, initial value for x and y, end of the interval [x0,X] and number of steps to perform\n",
    "\n",
    "Returns x and y arrays"
   ]
  },
  {
   "cell_type": "code",
   "execution_count": 6,
   "metadata": {},
   "outputs": [],
   "source": [
    "def euler(func, x0, y0, X, N_steps):\n",
    "    # Resulting pairs of x, y will be stored in arrays\n",
    "    x = get_x(x0, X, N_steps)\n",
    "    y = numpy.array([y0])\n",
    "    \n",
    "    # Calculate the step for x\n",
    "    h = (X - x0) / float(N_steps)\n",
    "    \n",
    "    # Loop until 50 elements (-1 because we start with y0)\n",
    "    for i in range(N_steps-1):\n",
    "        # Perform Euler method\n",
    "        # y(i+1)=yi+h*f(xi,yi)\n",
    "        y = numpy.append(y, y[i] + h * func(x[i], y[i]))\n",
    "    return x, y"
   ]
  },
  {
   "cell_type": "markdown",
   "metadata": {},
   "source": [
    "## Improved Euler Method\n",
    "Receive function to comoute, initial value for x and y, end of the interval [x0,X] and number of steps to perform\n",
    "\n",
    "Returns x and y arrays"
   ]
  },
  {
   "cell_type": "code",
   "execution_count": 7,
   "metadata": {},
   "outputs": [],
   "source": [
    "def improved_euler(func, x0, y0, X, N_steps):\n",
    "    # Resulting pairs of x, y will be stored in arrays\n",
    "    x = get_x(x0, X, N_steps)\n",
    "    y = numpy.array([y0])\n",
    "    \n",
    "    # Calculate the step for x\n",
    "    h = (X - x0) / float(N_steps)\n",
    "\n",
    "    # Loop until 50 elements (-1 because we start with y0)\n",
    "    for i in range(N_steps-1):\n",
    "        # Perform Improved Euler Method\n",
    "        # y(i+1) = yi + h/2 * (f(xi,yi)+f(x(i+1),yi+h*f(xi,yi)))\n",
    "        # where m1 = f(xi,yi) and m2 = f(x(i+1),yi+h*m1)\n",
    "        m1 = func(x[i], y[i])\n",
    "        m2 = func(x[i + 1], y[i] + h * m1)\n",
    "        y = numpy.append(y, y[i] + (h * (m1 + m2)) / 2)\n",
    "    return x, y"
   ]
  },
  {
   "cell_type": "markdown",
   "metadata": {},
   "source": [
    "## Runge Kutta Method\n",
    "Receive function to compute, initial value for x and y, end of the interval [x0,X] and number of steps to perform\n",
    "\n",
    "Returns x and y arrays"
   ]
  },
  {
   "cell_type": "code",
   "execution_count": 8,
   "metadata": {},
   "outputs": [],
   "source": [
    "# Get function, initial value for x and y, end of the interval [x,X0] and number of steps to perform\n",
    "def runge_kutta(func, x0, y0, X, N_steps):\n",
    "    # Resulting pairs of x, y will be stored in arrays  \n",
    "    x = get_x(x0, X, N_steps)\n",
    "    y = numpy.array([y0])\n",
    "    \n",
    "    # Calculate the step for x\n",
    "    h = (X - x0) / float(N_steps)\n",
    "    \n",
    "    # Loop until 50 elements (-1 because we start with y0)\n",
    "    for i in range(N_steps-1):\n",
    "        # Perform Runge-Kutta method\n",
    "        k1 = h * func(x[i], y[i])\n",
    "        k2 = h * func(x[i] + h / 2, y[i] + k1 / 2)\n",
    "        k3 = h * func(x[i] + h / 2, y[i] + k2 / 2)\n",
    "        k4 = h * func(x[i] + h, y[i] + k3)\n",
    "        y = numpy.append(y, y[i] + (k1 + 2 * k2 + 2 * k3 + k4) / 6)\n",
    "    return x, y"
   ]
  },
  {
   "cell_type": "markdown",
   "metadata": {},
   "source": [
    "## Computation of all methods\n",
    "All methods combined in one function since we will compute all of them at the same time a lot\n",
    "\n",
    "Function returns x and y for every method (exact, euler, improved euler, runge-kutta)"
   ]
  },
  {
   "cell_type": "code",
   "execution_count": 9,
   "metadata": {},
   "outputs": [],
   "source": [
    "def all_methods(func, x0, y0, X, N_steps):\n",
    "    x = get_x(x0, X, N_steps)\n",
    "    # We dont save x as it is the same for everyone so it is saved into '_'\n",
    "    _, y_exact = exact(x0, y0, X, N_steps) \n",
    "    _, y_euler = euler(func, x0, y0, X, N_steps)\n",
    "    _, y_improved = improved_euler(func, x0, y0, X, N_steps)\n",
    "    _, y_runge = runge_kutta(func, x0, y0, X, N_steps)\n",
    "    return x, y_exact, y_euler, y_improved, y_runge"
   ]
  },
  {
   "cell_type": "markdown",
   "metadata": {},
   "source": [
    "Create widgets for changable x0, y0, X and number of steps\n",
    "\n",
    "Save default value and result of the methods using them"
   ]
  },
  {
   "cell_type": "code",
   "execution_count": 10,
   "metadata": {},
   "outputs": [],
   "source": [
    "x0_widget = widgets.FloatSlider(value=0, min=-100, max=100)\n",
    "y0_widget = widgets.FloatSlider(value=2, min=-100, max=100)\n",
    "X_widget = widgets.FloatSlider(value=6.4, min=-10, max=8)\n",
    "N_steps_widget = widgets.IntSlider(value=50, min=45, max=200)\n",
    "\n",
    "x0=0\n",
    "y0=2\n",
    "X=6.4\n",
    "N_steps=50\n",
    "\n",
    "# Compute values of x and y for default values\n",
    "x, y_exact, y_euler, y_improved, y_runge = all_methods(my_func, x0, y0, X, N_steps)"
   ]
  },
  {
   "cell_type": "markdown",
   "metadata": {},
   "source": [
    "## Comparison of methods via plotting\n",
    "We will compare different methods by plotting their graphs with the exact solution and absolute error graph"
   ]
  },
  {
   "cell_type": "code",
   "execution_count": 11,
   "metadata": {},
   "outputs": [],
   "source": [
    "# Create figure\n",
    "methods_graph = figure(plot_width=400, plot_height=400, title=\"Methods Comparison\", x_axis_label='x', y_axis_label='y')\n",
    "\n",
    "# Add lines of the method for the figure\n",
    "exact_line = methods_graph.line(x, y_exact,legend='Exact solution', line_color='#000000')\n",
    "euler_line = methods_graph.line(x, y_euler,legend='Euler method', line_color='#FF0000', alpha=0.5)\n",
    "improved_line = methods_graph.line(x, y_improved,legend='Improved Euler method', line_color='#00FF00',alpha=0.5)\n",
    "runge_line = methods_graph.line(x, y_runge,legend ='Runge-Kutta method', line_color='#0000FF', alpha=0.5)"
   ]
  },
  {
   "cell_type": "markdown",
   "metadata": {},
   "source": [
    "## Update plot function\n",
    "Uses jupyter interact to replot graph and error with different steps or/and x0,y0,X"
   ]
  },
  {
   "cell_type": "code",
   "execution_count": 12,
   "metadata": {},
   "outputs": [],
   "source": [
    "def update_plot(x0=0, y0=2, X=6.4,N_steps=50):\n",
    "    # X cannot be less or equal to x0\n",
    "    if X <= x0:\n",
    "        print(\"X must be less or equal to x0\")\n",
    "        return\n",
    "    # y0 != 0 from the solution \n",
    "    if y0 == 0:\n",
    "        print(\"y0 cannot be equal to 0\")\n",
    "        return\n",
    "    # Compute all methods\n",
    "    x, y_exact, y_euler, y_improved, y_runge = all_methods(my_func, x0, y0, X, N_steps)\n",
    "    \n",
    "    exact = {'x': x, 'y': y_exact}\n",
    "    euler = {'x': x, 'y': y_euler}\n",
    "    improved = {'x': x, 'y': y_improved}\n",
    "    runge = {'x': x, 'y': y_runge}\n",
    "    \n",
    "    # Set new data\n",
    "    exact_line.data_source.data = exact\n",
    "    euler_line.data_source.data = euler\n",
    "    improved_line.data_source.data = improved\n",
    "    runge_line.data_source.data = runge\n",
    "    \n",
    "    # Compute absolute error from exact value\n",
    "    y_error_euler = numpy.abs(y_exact-y_euler)\n",
    "    y_error_improved = numpy.abs(y_exact-y_improved)\n",
    "    y_error_runge = numpy.abs(y_exact-y_runge)\n",
    "    \n",
    "    # Create figure, set lines with error and then show it\n",
    "    error = figure(plot_width=400, plot_height=400, title=\"Errors\", x_axis_label='x', y_axis_label='Absolute error')\n",
    "\n",
    "    error1_r = error.line(x, y_error_euler, color='red', legend='Euler method', line_width=2)\n",
    "    error2_r = error.line(x, y_error_improved, color='green', legend='Improved Euler method', line_width=2)\n",
    "    error3_r = error.line(x, y_error_runge, color='blue', legend='Runge-Kutta method', line_width=2)\n",
    "    show(error)\n",
    "    \n",
    "    # Push new values of methods to plotter\n",
    "    push_notebook(method_handle)"
   ]
  },
  {
   "cell_type": "markdown",
   "metadata": {},
   "source": [
    "## Plot of the function\n",
    "Interactive plot of our function\n",
    "\n",
    "You can change initial value or number of steps to see how it affects our methods and then see error for them (lower). Though some lines overlap you can increase scale of the plot and see lines in detail\n",
    "\n",
    "Error in this part shows only absolute difference of every method and exact solution for this particular input\n",
    "### Analysis of methods and error plot\n",
    "As we can see, every method has its own error but still it is a close representation of our function. From the graph it is clear that euler method has worser error than improved euler method and improved euler method has worser error than runge-kutta.\n",
    "\n",
    "We also can note that as we increase number of steps, precision of our method increases and they begin to overlap with our exact solution. This is because our exact solution function as x->infinity equals 0, thus the error will decrease as x increases.\n"
   ]
  },
  {
   "cell_type": "code",
   "execution_count": 13,
   "metadata": {},
   "outputs": [
    {
     "data": {
      "text/html": [
       "\n",
       "\n",
       "\n",
       "\n",
       "\n",
       "\n",
       "  <div class=\"bk-root\" id=\"5cf748f6-a5be-455d-a94f-3b38a69e25a4\"></div>\n"
      ]
     },
     "metadata": {},
     "output_type": "display_data"
    },
    {
     "data": {
      "application/javascript": [
       "(function(root) {\n",
       "  function embed_document(root) {\n",
       "    \n",
       "  var docs_json = {\"1b247220-a059-451c-a1ba-3a1c97e49579\":{\"roots\":{\"references\":[{\"attributes\":{\"below\":[{\"id\":\"1013\",\"type\":\"LinearAxis\"}],\"left\":[{\"id\":\"1018\",\"type\":\"LinearAxis\"}],\"plot_height\":400,\"plot_width\":400,\"renderers\":[{\"id\":\"1013\",\"type\":\"LinearAxis\"},{\"id\":\"1017\",\"type\":\"Grid\"},{\"id\":\"1018\",\"type\":\"LinearAxis\"},{\"id\":\"1022\",\"type\":\"Grid\"},{\"id\":\"1031\",\"type\":\"BoxAnnotation\"},{\"id\":\"1049\",\"type\":\"Legend\"},{\"id\":\"1041\",\"type\":\"GlyphRenderer\"},{\"id\":\"1054\",\"type\":\"GlyphRenderer\"},{\"id\":\"1068\",\"type\":\"GlyphRenderer\"},{\"id\":\"1084\",\"type\":\"GlyphRenderer\"}],\"title\":{\"id\":\"1002\",\"type\":\"Title\"},\"toolbar\":{\"id\":\"1029\",\"type\":\"Toolbar\"},\"x_range\":{\"id\":\"1005\",\"type\":\"DataRange1d\"},\"x_scale\":{\"id\":\"1009\",\"type\":\"LinearScale\"},\"y_range\":{\"id\":\"1007\",\"type\":\"DataRange1d\"},\"y_scale\":{\"id\":\"1011\",\"type\":\"LinearScale\"}},\"id\":\"1003\",\"subtype\":\"Figure\",\"type\":\"Plot\"},{\"attributes\":{\"label\":{\"value\":\"Euler method\"},\"renderers\":[{\"id\":\"1054\",\"type\":\"GlyphRenderer\"}]},\"id\":\"1064\",\"type\":\"LegendItem\"},{\"attributes\":{\"line_alpha\":0.1,\"line_color\":\"#1f77b4\",\"x\":{\"field\":\"x\"},\"y\":{\"field\":\"y\"}},\"id\":\"1040\",\"type\":\"Line\"},{\"attributes\":{},\"id\":\"1024\",\"type\":\"WheelZoomTool\"},{\"attributes\":{\"callback\":null},\"id\":\"1007\",\"type\":\"DataRange1d\"},{\"attributes\":{\"callback\":null},\"id\":\"1005\",\"type\":\"DataRange1d\"},{\"attributes\":{\"callback\":null,\"data\":{\"x\":{\"__ndarray__\":\"AAAAAAAAAADInSXs5rfAP8idJezmt9A/rGw4YtoT2T/InSXs5rfgPzoFL6fg5eQ/rGw4YtoT6T8e1EEd1EHtP8idJezmt/A/gVGqyePO8j86BS+n4OX0P/O4s4Td/PY/rGw4YtoT+T9lIL0/1yr7Px7UQR3UQf0/14fG+tBY/z/InSXs5rcAQKT351plwwFAgVGqyePOAkBeq2w4YtoDQDoFL6fg5QRAFl/xFV/xBUDzuLOE3fwGQNASdvNbCAhArGw4YtoTCUCIxvrQWB8KQGUgvT/XKgtAQnp/rlU2DEAe1EEd1EENQPotBIxSTQ5A14fG+tBYD0DacMS0JzIQQMidJezmtxBAtsqGI6Y9EUCk9+daZcMRQJMkSZIkSRJAgVGqyePOEkBvfgsBo1QTQF6rbDhi2hNATNjNbyFgFEA6BS+n4OUUQCgykN6faxVAFl/xFV/xFUAFjFJNHncWQPO4s4Td/BZA4eUUvJyCF0DQEnbzWwgYQL4/1yobjhhArGw4YtoTGUCamZmZmZkZQA==\",\"dtype\":\"float64\",\"shape\":[50]},\"y\":{\"__ndarray__\":\"AAAAAAAAAECvTtyJnrz/PyEyBbp+7P4/Z7Wx88yG/T+o6NyPeID7P7e3fCYK0/g/QiaQW4GH9T9hXjn408LxPzGisLt/mOs/9+GshNEF5D/8fzHx5QPbP/cicuUQ8dA/Nm665UnRwz9J3eWOabq1P/5yYiREcaY/pXPc5rvtlT+rBfMzOVWEP/PXXUg07nE/1ipg4vAfXj9aaVdWfSNIP6V2juAeeTI/dgp6oqIKGz+6AIPjcfUCP4IfYTIQg+k+pCKV2mKC0D4gLZKHoZq0PhKyXWIF35g+sCnAfqEjfT6aj4fbQ6JgPgCsbsaslkI+4kOz+TxvJD4iYgYK1zcGPoD7X4GOCOg9nNqrwkMGyj14TnHUnWSsPcRaza3/ao89Yj0gAmS/cT2gtCMxXJtUPWiYi69gvzg9VNXWXFLtHj2O3h23VjkEPZLzlu5b0+s8XmVTLac71DxAjao3Oju/PACceQKIrak8LY3UcH6PljzSqYBevDyFPCQhM0Ahd3U85YtwCtRVZzwi/GAhMVJbPA==\",\"dtype\":\"float64\",\"shape\":[50]}},\"selected\":{\"id\":\"1110\",\"type\":\"Selection\"},\"selection_policy\":{\"id\":\"1111\",\"type\":\"UnionRenderers\"}},\"id\":\"1081\",\"type\":\"ColumnDataSource\"},{\"attributes\":{\"overlay\":{\"id\":\"1031\",\"type\":\"BoxAnnotation\"}},\"id\":\"1025\",\"type\":\"BoxZoomTool\"},{\"attributes\":{\"line_alpha\":0.5,\"line_color\":\"#00FF00\",\"x\":{\"field\":\"x\"},\"y\":{\"field\":\"y\"}},\"id\":\"1066\",\"type\":\"Line\"},{\"attributes\":{},\"id\":\"1026\",\"type\":\"SaveTool\"},{\"attributes\":{\"callback\":null,\"data\":{\"x\":{\"__ndarray__\":\"AAAAAAAAAADInSXs5rfAP8idJezmt9A/rGw4YtoT2T/InSXs5rfgPzoFL6fg5eQ/rGw4YtoT6T8e1EEd1EHtP8idJezmt/A/gVGqyePO8j86BS+n4OX0P/O4s4Td/PY/rGw4YtoT+T9lIL0/1yr7Px7UQR3UQf0/14fG+tBY/z/InSXs5rcAQKT351plwwFAgVGqyePOAkBeq2w4YtoDQDoFL6fg5QRAFl/xFV/xBUDzuLOE3fwGQNASdvNbCAhArGw4YtoTCUCIxvrQWB8KQGUgvT/XKgtAQnp/rlU2DEAe1EEd1EENQPotBIxSTQ5A14fG+tBYD0DacMS0JzIQQMidJezmtxBAtsqGI6Y9EUCk9+daZcMRQJMkSZIkSRJAgVGqyePOEkBvfgsBo1QTQF6rbDhi2hNATNjNbyFgFEA6BS+n4OUUQCgykN6faxVAFl/xFV/xFUAFjFJNHncWQPO4s4Td/BZA4eUUvJyCF0DQEnbzWwgYQL4/1yobjhhArGw4YtoTGUCamZmZmZkZQA==\",\"dtype\":\"float64\",\"shape\":[50]},\"y\":{\"__ndarray__\":\"AAAAAAAAAECaN2Yf1Ln/P+sgusTl4/4/ULp14QB1/T+N8N34x2H7P72ogEkMpPg/X6PNsWRG9T/rNE3eMXHxP9Mhcaa94Oo/CSeyb55N4z+rUAa317vZPxkf6iuI2M8/Xl4IChNbwj9B/R1vdM+zP2g5tjUQHaQ/H+kZU/xIkz8WWNUnCIKBP9kSm2HzJW4/Ck77QNqjWD8rn+yxHyBDPwdxe4AoNCw/lI0X+63BEz8FxLjVCEz6PqFjbYPEoOA+bhmDY6T6wz7s9JATzM6mPmRoJUHuvIg+ZMJXei9+aT5ovUOGzfVIPvVti1MjOCc+VunST66FBD4YpjqSwjvhPcHSA83Zf7s9clpY+YXYlD0rcilp/wZuPfV45nonjEQ9gNg7hs23Gj005v5aDYHwPHKF5jpXX8M8dr+E4NCalTw8/qRraORmPLV+a8TVCzc82TLRpDILBjy1RhP5bAjUO6zKM4UWTKE754wtRUVhbDtJr7Uryx42O3EwTdqPYQA7twQovi0NxzoRT69x1dGOOg==\",\"dtype\":\"float64\",\"shape\":[50]}},\"selected\":{\"id\":\"1061\",\"type\":\"Selection\"},\"selection_policy\":{\"id\":\"1062\",\"type\":\"UnionRenderers\"}},\"id\":\"1038\",\"type\":\"ColumnDataSource\"},{\"attributes\":{\"line_alpha\":0.1,\"line_color\":\"#1f77b4\",\"x\":{\"field\":\"x\"},\"y\":{\"field\":\"y\"}},\"id\":\"1067\",\"type\":\"Line\"},{\"attributes\":{},\"id\":\"1027\",\"type\":\"ResetTool\"},{\"attributes\":{},\"id\":\"1111\",\"type\":\"UnionRenderers\"},{\"attributes\":{\"data_source\":{\"id\":\"1065\",\"type\":\"ColumnDataSource\"},\"glyph\":{\"id\":\"1066\",\"type\":\"Line\"},\"hover_glyph\":null,\"muted_glyph\":null,\"nonselection_glyph\":{\"id\":\"1067\",\"type\":\"Line\"},\"selection_glyph\":null,\"view\":{\"id\":\"1069\",\"type\":\"CDSView\"}},\"id\":\"1068\",\"type\":\"GlyphRenderer\"},{\"attributes\":{},\"id\":\"1028\",\"type\":\"HelpTool\"},{\"attributes\":{\"axis_label\":\"x\",\"formatter\":{\"id\":\"1046\",\"type\":\"BasicTickFormatter\"},\"plot\":{\"id\":\"1003\",\"subtype\":\"Figure\",\"type\":\"Plot\"},\"ticker\":{\"id\":\"1014\",\"type\":\"BasicTicker\"}},\"id\":\"1013\",\"type\":\"LinearAxis\"},{\"attributes\":{\"source\":{\"id\":\"1065\",\"type\":\"ColumnDataSource\"}},\"id\":\"1069\",\"type\":\"CDSView\"},{\"attributes\":{\"active_drag\":\"auto\",\"active_inspect\":\"auto\",\"active_multi\":null,\"active_scroll\":\"auto\",\"active_tap\":\"auto\",\"tools\":[{\"id\":\"1023\",\"type\":\"PanTool\"},{\"id\":\"1024\",\"type\":\"WheelZoomTool\"},{\"id\":\"1025\",\"type\":\"BoxZoomTool\"},{\"id\":\"1026\",\"type\":\"SaveTool\"},{\"id\":\"1027\",\"type\":\"ResetTool\"},{\"id\":\"1028\",\"type\":\"HelpTool\"}]},\"id\":\"1029\",\"type\":\"Toolbar\"},{\"attributes\":{\"plot\":null,\"text\":\"Methods Comparison\"},\"id\":\"1002\",\"type\":\"Title\"},{\"attributes\":{\"callback\":null,\"data\":{\"x\":{\"__ndarray__\":\"AAAAAAAAAADInSXs5rfAP8idJezmt9A/rGw4YtoT2T/InSXs5rfgPzoFL6fg5eQ/rGw4YtoT6T8e1EEd1EHtP8idJezmt/A/gVGqyePO8j86BS+n4OX0P/O4s4Td/PY/rGw4YtoT+T9lIL0/1yr7Px7UQR3UQf0/14fG+tBY/z/InSXs5rcAQKT351plwwFAgVGqyePOAkBeq2w4YtoDQDoFL6fg5QRAFl/xFV/xBUDzuLOE3fwGQNASdvNbCAhArGw4YtoTCUCIxvrQWB8KQGUgvT/XKgtAQnp/rlU2DEAe1EEd1EENQPotBIxSTQ5A14fG+tBYD0DacMS0JzIQQMidJezmtxBAtsqGI6Y9EUCk9+daZcMRQJMkSZIkSRJAgVGqyePOEkBvfgsBo1QTQF6rbDhi2hNATNjNbyFgFEA6BS+n4OUUQCgykN6faxVAFl/xFV/xFUAFjFJNHncWQPO4s4Td/BZA4eUUvJyCF0DQEnbzWwgYQL4/1yobjhhArGw4YtoTGUCamZmZmZkZQA==\",\"dtype\":\"float64\",\"shape\":[50]},\"y\":{\"__ndarray__\":\"AAAAAAAAAEDDCXCFhbv/PxsyQ4Q+6v4/aFE22GSD/T+J5RtED3z7P42PzPUPzvg/lhZnaPaC9T8emHI508DxPwgu0CAYoes/RHkKzaok5D9M5dGZzXrbP05KtIjfmtE//zU6kvJXxT87Ms7tcbG4P2H/OQV+e6s/x3fJyHmhnT8E9XXhPiOPP+6SFX64CIA/LDQL7J9EcD9Ic2pi9VdgP5CS+JBYV1A/5bAqefZXQD/yD82e7m4wPzsDP6KvsSA/3A6B8Vk3ET+YHtQMRxsCP347G48LgfM+v2PdgbWa5T4cb3jixbLYPuZxaha5PM0+jv7+y7j4wT4CLmpB2wC3Pn94Ve9hua4+KT1TEk5zpT5PbbZsflyfPhbzN9z4CJg+pLxoEbdUkz6hd7FzGlSQPr3jNhCO/Iw+mQ/4pasLiz7R0ieGDYiKPsG0mu60XYs+TCb2qUGtjT6czfsMMeqQPpOW2LJYQ5Q+dYMS3ieAmT60g6wHjNmgPugZzYA8X6c+6Y/N+EQBsT4b4NzU+/G5Pg==\",\"dtype\":\"float64\",\"shape\":[50]}},\"selected\":{\"id\":\"1095\",\"type\":\"Selection\"},\"selection_policy\":{\"id\":\"1096\",\"type\":\"UnionRenderers\"}},\"id\":\"1065\",\"type\":\"ColumnDataSource\"},{\"attributes\":{},\"id\":\"1077\",\"type\":\"Selection\"},{\"attributes\":{\"bottom_units\":\"screen\",\"fill_alpha\":{\"value\":0.5},\"fill_color\":{\"value\":\"lightgrey\"},\"left_units\":\"screen\",\"level\":\"overlay\",\"line_alpha\":{\"value\":1.0},\"line_color\":{\"value\":\"black\"},\"line_dash\":[4,4],\"line_width\":{\"value\":2},\"plot\":null,\"render_mode\":\"css\",\"right_units\":\"screen\",\"top_units\":\"screen\"},\"id\":\"1031\",\"type\":\"BoxAnnotation\"},{\"attributes\":{},\"id\":\"1078\",\"type\":\"UnionRenderers\"},{\"attributes\":{},\"id\":\"1009\",\"type\":\"LinearScale\"},{\"attributes\":{\"label\":{\"value\":\"Improved Euler method\"},\"renderers\":[{\"id\":\"1068\",\"type\":\"GlyphRenderer\"}]},\"id\":\"1080\",\"type\":\"LegendItem\"},{\"attributes\":{\"source\":{\"id\":\"1038\",\"type\":\"ColumnDataSource\"}},\"id\":\"1042\",\"type\":\"CDSView\"},{\"attributes\":{},\"id\":\"1011\",\"type\":\"LinearScale\"},{\"attributes\":{},\"id\":\"1023\",\"type\":\"PanTool\"},{\"attributes\":{},\"id\":\"1014\",\"type\":\"BasicTicker\"},{\"attributes\":{\"line_alpha\":0.5,\"line_color\":\"#0000FF\",\"x\":{\"field\":\"x\"},\"y\":{\"field\":\"y\"}},\"id\":\"1082\",\"type\":\"Line\"},{\"attributes\":{},\"id\":\"1044\",\"type\":\"BasicTickFormatter\"},{\"attributes\":{\"label\":{\"value\":\"Exact solution\"},\"renderers\":[{\"id\":\"1041\",\"type\":\"GlyphRenderer\"}]},\"id\":\"1050\",\"type\":\"LegendItem\"},{\"attributes\":{\"line_alpha\":0.1,\"line_color\":\"#1f77b4\",\"x\":{\"field\":\"x\"},\"y\":{\"field\":\"y\"}},\"id\":\"1083\",\"type\":\"Line\"},{\"attributes\":{},\"id\":\"1061\",\"type\":\"Selection\"},{\"attributes\":{\"plot\":{\"id\":\"1003\",\"subtype\":\"Figure\",\"type\":\"Plot\"},\"ticker\":{\"id\":\"1014\",\"type\":\"BasicTicker\"}},\"id\":\"1017\",\"type\":\"Grid\"},{\"attributes\":{\"data_source\":{\"id\":\"1081\",\"type\":\"ColumnDataSource\"},\"glyph\":{\"id\":\"1082\",\"type\":\"Line\"},\"hover_glyph\":null,\"muted_glyph\":null,\"nonselection_glyph\":{\"id\":\"1083\",\"type\":\"Line\"},\"selection_glyph\":null,\"view\":{\"id\":\"1085\",\"type\":\"CDSView\"}},\"id\":\"1084\",\"type\":\"GlyphRenderer\"},{\"attributes\":{\"line_alpha\":0.5,\"line_color\":\"#FF0000\",\"x\":{\"field\":\"x\"},\"y\":{\"field\":\"y\"}},\"id\":\"1052\",\"type\":\"Line\"},{\"attributes\":{\"callback\":null,\"data\":{\"x\":{\"__ndarray__\":\"AAAAAAAAAADInSXs5rfAP8idJezmt9A/rGw4YtoT2T/InSXs5rfgPzoFL6fg5eQ/rGw4YtoT6T8e1EEd1EHtP8idJezmt/A/gVGqyePO8j86BS+n4OX0P/O4s4Td/PY/rGw4YtoT+T9lIL0/1yr7Px7UQR3UQf0/14fG+tBY/z/InSXs5rcAQKT351plwwFAgVGqyePOAkBeq2w4YtoDQDoFL6fg5QRAFl/xFV/xBUDzuLOE3fwGQNASdvNbCAhArGw4YtoTCUCIxvrQWB8KQGUgvT/XKgtAQnp/rlU2DEAe1EEd1EENQPotBIxSTQ5A14fG+tBYD0DacMS0JzIQQMidJezmtxBAtsqGI6Y9EUCk9+daZcMRQJMkSZIkSRJAgVGqyePOEkBvfgsBo1QTQF6rbDhi2hNATNjNbyFgFEA6BS+n4OUUQCgykN6faxVAFl/xFV/xFUAFjFJNHncWQPO4s4Td/BZA4eUUvJyCF0DQEnbzWwgYQL4/1yobjhhArGw4YtoTGUCamZmZmZkZQA==\",\"dtype\":\"float64\",\"shape\":[50]},\"y\":{\"__ndarray__\":\"AAAAAAAAAEAAAAAAAAAAQIcT4AoLd/8/o9OPALRg/j+FcDh8HbP8P/o53hNxYvo/gZNnCqpn9z9I/uQQxsvzP8x288ipbO8/3DY+5Gnx5j+oui77lx/ePxmtkMOoYtE/O9vnjhVTwT/uaexf1HitP16B/y+8P5U/5vD5gh26eT+sOSviUaZZP4iMsM3fTjQ/oOAzyqX0Bz8Iyrxm0qHSPiBG9F4gDow+ALKr/VtHBr5Q0kf76fvCPVDwPKAxaY+9mHuyj3VLYz3wgabWOnI/vZBV/S0X7x89oDTaKv1qA71UxFxVp4LrPDRS5RtLP9a8bJNhmv84xDw+AngdLWm0vG513NvwpaY80EVOHBVnm7ya5UaZtfORPCozg7p2Uom8NrKm0QkhgzwcY3HD8tF+vPTYzxS8X3o8qBYz6Vrkd7xYQHz6iNd2PHzq00vQ+3a8BMLkq2tHeDwiBhChc916vI669RTwEn88dxgBXRvAgry39OTqopGHPDFL1YTGzo68ptry5lHolDywf7JqGG2dvA==\",\"dtype\":\"float64\",\"shape\":[50]}},\"selected\":{\"id\":\"1077\",\"type\":\"Selection\"},\"selection_policy\":{\"id\":\"1078\",\"type\":\"UnionRenderers\"}},\"id\":\"1051\",\"type\":\"ColumnDataSource\"},{\"attributes\":{\"axis_label\":\"y\",\"formatter\":{\"id\":\"1044\",\"type\":\"BasicTickFormatter\"},\"plot\":{\"id\":\"1003\",\"subtype\":\"Figure\",\"type\":\"Plot\"},\"ticker\":{\"id\":\"1019\",\"type\":\"BasicTicker\"}},\"id\":\"1018\",\"type\":\"LinearAxis\"},{\"attributes\":{\"source\":{\"id\":\"1081\",\"type\":\"ColumnDataSource\"}},\"id\":\"1085\",\"type\":\"CDSView\"},{\"attributes\":{\"line_alpha\":0.1,\"line_color\":\"#1f77b4\",\"x\":{\"field\":\"x\"},\"y\":{\"field\":\"y\"}},\"id\":\"1053\",\"type\":\"Line\"},{\"attributes\":{},\"id\":\"1019\",\"type\":\"BasicTicker\"},{\"attributes\":{},\"id\":\"1110\",\"type\":\"Selection\"},{\"attributes\":{},\"id\":\"1095\",\"type\":\"Selection\"},{\"attributes\":{\"data_source\":{\"id\":\"1051\",\"type\":\"ColumnDataSource\"},\"glyph\":{\"id\":\"1052\",\"type\":\"Line\"},\"hover_glyph\":null,\"muted_glyph\":null,\"nonselection_glyph\":{\"id\":\"1053\",\"type\":\"Line\"},\"selection_glyph\":null,\"view\":{\"id\":\"1055\",\"type\":\"CDSView\"}},\"id\":\"1054\",\"type\":\"GlyphRenderer\"},{\"attributes\":{\"dimension\":1,\"plot\":{\"id\":\"1003\",\"subtype\":\"Figure\",\"type\":\"Plot\"},\"ticker\":{\"id\":\"1019\",\"type\":\"BasicTicker\"}},\"id\":\"1022\",\"type\":\"Grid\"},{\"attributes\":{},\"id\":\"1096\",\"type\":\"UnionRenderers\"},{\"attributes\":{\"items\":[{\"id\":\"1050\",\"type\":\"LegendItem\"},{\"id\":\"1064\",\"type\":\"LegendItem\"},{\"id\":\"1080\",\"type\":\"LegendItem\"},{\"id\":\"1098\",\"type\":\"LegendItem\"}],\"plot\":{\"id\":\"1003\",\"subtype\":\"Figure\",\"type\":\"Plot\"}},\"id\":\"1049\",\"type\":\"Legend\"},{\"attributes\":{\"source\":{\"id\":\"1051\",\"type\":\"ColumnDataSource\"}},\"id\":\"1055\",\"type\":\"CDSView\"},{\"attributes\":{\"data_source\":{\"id\":\"1038\",\"type\":\"ColumnDataSource\"},\"glyph\":{\"id\":\"1039\",\"type\":\"Line\"},\"hover_glyph\":null,\"muted_glyph\":null,\"nonselection_glyph\":{\"id\":\"1040\",\"type\":\"Line\"},\"selection_glyph\":null,\"view\":{\"id\":\"1042\",\"type\":\"CDSView\"}},\"id\":\"1041\",\"type\":\"GlyphRenderer\"},{\"attributes\":{},\"id\":\"1046\",\"type\":\"BasicTickFormatter\"},{\"attributes\":{\"label\":{\"value\":\"Runge-Kutta method\"},\"renderers\":[{\"id\":\"1084\",\"type\":\"GlyphRenderer\"}]},\"id\":\"1098\",\"type\":\"LegendItem\"},{\"attributes\":{\"line_color\":\"#000000\",\"x\":{\"field\":\"x\"},\"y\":{\"field\":\"y\"}},\"id\":\"1039\",\"type\":\"Line\"},{\"attributes\":{},\"id\":\"1062\",\"type\":\"UnionRenderers\"}],\"root_ids\":[\"1003\"]},\"title\":\"Bokeh Application\",\"version\":\"1.0.0\"}};\n",
       "  var render_items = [{\"docid\":\"1b247220-a059-451c-a1ba-3a1c97e49579\",\"notebook_comms_target\":\"1113\",\"roots\":{\"1003\":\"5cf748f6-a5be-455d-a94f-3b38a69e25a4\"}}];\n",
       "  root.Bokeh.embed.embed_items_notebook(docs_json, render_items);\n",
       "\n",
       "  }\n",
       "  if (root.Bokeh !== undefined) {\n",
       "    embed_document(root);\n",
       "  } else {\n",
       "    var attempts = 0;\n",
       "    var timer = setInterval(function(root) {\n",
       "      if (root.Bokeh !== undefined) {\n",
       "        embed_document(root);\n",
       "        clearInterval(timer);\n",
       "      }\n",
       "      attempts++;\n",
       "      if (attempts > 100) {\n",
       "        console.log(\"Bokeh: ERROR: Unable to run BokehJS code because BokehJS library is missing\");\n",
       "        clearInterval(timer);\n",
       "      }\n",
       "    }, 10, root)\n",
       "  }\n",
       "})(window);"
      ],
      "application/vnd.bokehjs_exec.v0+json": ""
     },
     "metadata": {
      "application/vnd.bokehjs_exec.v0+json": {
       "id": "1003"
      }
     },
     "output_type": "display_data"
    },
    {
     "data": {
      "application/vnd.jupyter.widget-view+json": {
       "model_id": "56028d645b5c4c4a8c4a790c57d7c79b",
       "version_major": 2,
       "version_minor": 0
      },
      "text/plain": [
       "interactive(children=(FloatSlider(value=0.0, description='x0', min=-100.0), FloatSlider(value=2.0, description…"
      ]
     },
     "metadata": {},
     "output_type": "display_data"
    }
   ],
   "source": [
    "# Show solution of our methods\n",
    "method_handle = show(methods_graph, notebook_handle=True)\n",
    "# Interact with initial value and see how it affects our graph\n",
    "_ = interact(update_plot, x0=x0_widget, y0=y0_widget, X=X_widget,N_steps=N_steps_widget)"
   ]
  },
  {
   "cell_type": "markdown",
   "metadata": {},
   "source": [
    "## Error graph\n",
    "Now we will show how the global error changes when we change the number of steps required for our methods using default values"
   ]
  },
  {
   "cell_type": "code",
   "execution_count": 14,
   "metadata": {},
   "outputs": [
    {
     "data": {
      "text/html": [
       "\n",
       "\n",
       "\n",
       "\n",
       "\n",
       "\n",
       "  <div class=\"bk-root\" id=\"43e00338-3538-40a1-be03-dab689905741\"></div>\n"
      ]
     },
     "metadata": {},
     "output_type": "display_data"
    },
    {
     "data": {
      "application/javascript": [
       "(function(root) {\n",
       "  function embed_document(root) {\n",
       "    \n",
       "  var docs_json = {\"b6f45095-2da5-490c-8921-ed5ef1d83925\":{\"roots\":{\"references\":[{\"attributes\":{\"below\":[{\"id\":\"1395\",\"type\":\"LinearAxis\"}],\"left\":[{\"id\":\"1400\",\"type\":\"LinearAxis\"}],\"plot_height\":400,\"plot_width\":400,\"renderers\":[{\"id\":\"1395\",\"type\":\"LinearAxis\"},{\"id\":\"1399\",\"type\":\"Grid\"},{\"id\":\"1400\",\"type\":\"LinearAxis\"},{\"id\":\"1404\",\"type\":\"Grid\"},{\"id\":\"1413\",\"type\":\"BoxAnnotation\"},{\"id\":\"1431\",\"type\":\"Legend\"},{\"id\":\"1423\",\"type\":\"GlyphRenderer\"},{\"id\":\"1436\",\"type\":\"GlyphRenderer\"},{\"id\":\"1450\",\"type\":\"GlyphRenderer\"}],\"title\":{\"id\":\"1384\",\"type\":\"Title\"},\"toolbar\":{\"id\":\"1411\",\"type\":\"Toolbar\"},\"x_range\":{\"id\":\"1387\",\"type\":\"DataRange1d\"},\"x_scale\":{\"id\":\"1391\",\"type\":\"LinearScale\"},\"y_range\":{\"id\":\"1389\",\"type\":\"DataRange1d\"},\"y_scale\":{\"id\":\"1393\",\"type\":\"LinearScale\"}},\"id\":\"1385\",\"subtype\":\"Figure\",\"type\":\"Plot\"},{\"attributes\":{\"line_alpha\":0.1,\"line_color\":\"#1f77b4\",\"line_width\":2,\"x\":{\"field\":\"x\"},\"y\":{\"field\":\"y\"}},\"id\":\"1449\",\"type\":\"Line\"},{\"attributes\":{},\"id\":\"1409\",\"type\":\"ResetTool\"},{\"attributes\":{\"callback\":null},\"id\":\"1387\",\"type\":\"DataRange1d\"},{\"attributes\":{\"callback\":null,\"data\":{\"x\":[50,51,52,53,54,55,56,57,58,59,60,61,62,63,64,65,66,67,68,69,70,71,72,73,74,75,76,77,78,79,80,81,82,83,84,85,86,87,88,89,90,91,92,93,94,95,96,97,98,99,100,101,102,103,104,105,106,107,108,109,110,111,112,113,114,115,116,117,118,119,120,121,122,123,124,125,126,127,128,129,130,131,132,133,134,135,136,137,138,139,140,141,142,143,144,145,146,147,148,149,150,151,152,153,154,155,156,157,158,159,160,161,162,163,164,165,166,167,168,169,170,171,172,173,174,175,176,177,178,179,180,181,182,183,184,185,186,187,188,189,190,191,192,193,194,195,196,197,198,199,200,201,202,203,204,205,206,207,208,209,210,211,212,213,214,215,216,217,218,219,220,221,222,223,224,225,226,227,228,229,230,231,232,233,234,235,236,237,238,239,240,241,242,243,244,245,246,247,248,249,250,251,252,253,254,255,256,257,258,259,260,261,262,263,264,265,266,267,268,269,270,271,272,273,274,275,276,277,278,279,280,281,282,283,284,285,286,287,288,289,290,291,292,293,294,295,296,297,298,299,300],\"y\":{\"__ndarray__\":\"6Eq+lKHUwj9wBM6Y/FDCPxhAMLYp6cE/KJ9ITz2uwT/YH/GDg2fBPyje7r94F8E/WBOC3z7AwD8YQGR7pmPAP+galCg4A8A/yEP/aKhYvz9QfrCy6/q+P5B2mo5Vjb4/gJyks+ASvj/QnbIfKI69P1D1yIBvAb0/sJH3tqtuvD8gMBL1Uty7PxCwR1cKkLs/8Ku0S544uz8wBSSx8te6P3AmQx+1b7o/MKApDWEBuj+ABsQQRI65P1C4xhKCF7k/kGdgqajSuD9ADxcdSIu4P3ANfsEKPbg/8GUDYBHptz9g+wxiXpC3PxALrxXYM7c/sKil8krUtj8gI0V/5ZO2PwDOXNGCWLY/4E5Le+UXtj9wWHia1tK1P/CZOw0MirU/sJjPuik+tT/waC/ewu+0PxBrd9hYtLQ/YJBcPCmCtD8QTBSh5ku0PwDWdUwhErQ/0OI621zVsz+AvSIDEZazPzAaFFiqVLM/AAk11S8esz9w7EeyNvOyP5AU+GIBxbI/wLiiCvqTsj/Ax4EzgmCyP8CGTkbzKrI/EC5YBJ/zsT8gUMhAyMGxP7AWVcSRnLE/0IdD4b50sT8AlB5jn0qxP2A5ARV9HrE/MO/oDZzwsD8wF+b+OsGwP7AQLV6kk7A/oMvaWxpzsD/g2pozbVCwP0DyIQfaK7A/kJXMrZkFsD+AKJrNwbuvP2AOdxnBaa8/AGVhd0MWrz9A547U39yuP8AoXzbxn64/wJ0t19Zfrj9gadGt6RyuP+DIXbF8160/AErqHt2PrT8g/13AUkatP0C8A+BJEK0/QCqB7VTarD/A9+01s6GsP0BFGFSrZqw/YDFGaX8prD+AjIVNbeqrP2D80MCuqas/QPzYvWt2qz+AvDKDTkarP+AcfmXqE6s/wCZRInjfqj9grPkSLamqPwAQoE47cao/QKIUzdE3qj8gRx2jVQeqP+D/LbUp3Kk/YEIskQmvqT/AMHlUI4CpPyAwx4CiT6k/YJqqFLAdqT/g6LCkcuqoP+D7BIWqvKg/IC8IeraVqD8AKsoAEm2oP2CB0/XiQqg/wGCILU0XqD8AbyGGcuqnP0AWDvpyvKc/gBstDUGRpz8gwI0D7m2nP4COQKIiSac/wI7DSP4ipz+AZ5O8nvumPwAphDYg06Y/QLRscJ2ppj8gDX0/3oCmP2AR2y+wYKY/QJRjlzg/pj8Awk6tkRymPwAYKGLU+KU/QLLaaRjUpT/AYP5FdK6lP8CeQhECiKU/gBWmFpJqpT/gjUvx/0ulP0C5bLRhLKU/oOxqbMwLpT9g6XcmVOqkP0CqcfgLyKQ/oDbhCAalpD+AiZXHuIikP8CpTfyvbKQ/4BxaF7lPpD+g6ar75TGkPyCcsbxHE6Q/4HlxpO7zoz9gUqw56tOjP6Cmrtu8uKM/wPQs8e+eoz8AfumdToSjPyCdri3oaKM/wA8uQstMoz/gCbvXBTCjP6C5G0qlEqM/IIqEgZT4oj9AcoTUweCiP+DWs+AwyKI/IKptzu6uoj/ge445CJWiP6DwLDWJeqI/AGllT31foj/gsmtbgkaiP+A8D/JxMKI/AF3nbLYZoj9AkTMtWwKiP6DmVx9r6qE/gGjRvfDRoT+AQjoU9rihP+Cp0v4HoaE/ABA50omMoT9AzpQ4cXehP6BsTxbIYaE/oLH97ZdLoT+AVb3i6TShP+Ckn7rGHaE/AIr/NtsGoT8gIdHWxfOgP6Bav58k4KA/QDKRNQDMoD9gD6fpYLegPyCW47xOoqA/QA6fYdGMoD9A4aI98HagP2BwDeMMZaA/gMpkVr1SoD8AHjpW9j+gPwDWCTG/LKA/QFIR8R4ZoD9gA+VdHAWgP4COGvx74Z8/wMQvNdO+nz8Ajd/BlZyfP4CTrS9+eZ8/wK0RYplVnz/A8S3I8zCfPwCDZ1+ZC58/gM4KtpXlnj8A5fK/CcSePwBmEn/0o54/QACfkReDnj+AP8FgfmGePwAk/fEzP54/ALpV6UIcnj8AZHqLtfidP8C/Sp9C2J0/gE8aGSO6nT9A5z1UTJudP4AINnTIe50/wH7FRqFbnT9AJrdF4DqdP4DPq5iOGZ0/QIK+CC/6nD+AhC262N2cP8C78drZwJw/gMv+dDujnD8AiS5IBoWcP0AWu8tCZpw/QMe/L/lGnD/Aj4j6pSicPwBSJHvxDZw/QEgbk6Hymz/AafZXvtabPwC18J5Pups/gNMz/lydmz8AmxrO7X+bP8Ak6QyfYps/gD4fWWlJmz+ApukPpC+bP0Bh0HFWFZs/QBNWh4f6mj8AkQIiPt+aP4Bgct2Aw5o/AGVqIFanmj8Aqsb4V4+aP8BDkOz8dpo/AM+DeSNemj8A79300USaPwCrwIMOK5o/QCUZHN8Qmj9A1oiFSfaZPwDm7RHt3pk/gOkrUd/HmT+AZXYnXLCZP0A6g0xpmJk/AH7MTQyAmT/AsFOPSmeZP4DhZ0wpTpk/gEDjZW03mT/Ajsv9kiGZP0DZElZLC5k/ABORm5v0mD/Ar+rViN2YP0AWN+gXxpg/QNCpkU2umD/AQo4oMJiYP8D5pcRxg5g/AB7FjU1umD8A9fc1yFiYP8DKa07mQpg/gI79R6wsmD9AtcpzHhaYP8ABEsmcAJg/gEvnYOXslz8AFITqztiXPwBADatdxJc/wBuGypWvlz8A/kpUe5qXPw==\",\"dtype\":\"float64\",\"shape\":[251]}},\"selected\":{\"id\":\"1443\",\"type\":\"Selection\"},\"selection_policy\":{\"id\":\"1444\",\"type\":\"UnionRenderers\"}},\"id\":\"1420\",\"type\":\"ColumnDataSource\"},{\"attributes\":{\"data_source\":{\"id\":\"1447\",\"type\":\"ColumnDataSource\"},\"glyph\":{\"id\":\"1448\",\"type\":\"Line\"},\"hover_glyph\":null,\"muted_glyph\":null,\"nonselection_glyph\":{\"id\":\"1449\",\"type\":\"Line\"},\"selection_glyph\":null,\"view\":{\"id\":\"1451\",\"type\":\"CDSView\"}},\"id\":\"1450\",\"type\":\"GlyphRenderer\"},{\"attributes\":{},\"id\":\"1410\",\"type\":\"HelpTool\"},{\"attributes\":{\"callback\":null},\"id\":\"1389\",\"type\":\"DataRange1d\"},{\"attributes\":{\"source\":{\"id\":\"1447\",\"type\":\"ColumnDataSource\"}},\"id\":\"1451\",\"type\":\"CDSView\"},{\"attributes\":{\"active_drag\":\"auto\",\"active_inspect\":\"auto\",\"active_multi\":null,\"active_scroll\":\"auto\",\"active_tap\":\"auto\",\"tools\":[{\"id\":\"1405\",\"type\":\"PanTool\"},{\"id\":\"1406\",\"type\":\"WheelZoomTool\"},{\"id\":\"1407\",\"type\":\"BoxZoomTool\"},{\"id\":\"1408\",\"type\":\"SaveTool\"},{\"id\":\"1409\",\"type\":\"ResetTool\"},{\"id\":\"1410\",\"type\":\"HelpTool\"}]},\"id\":\"1411\",\"type\":\"Toolbar\"},{\"attributes\":{},\"id\":\"1391\",\"type\":\"LinearScale\"},{\"attributes\":{},\"id\":\"1426\",\"type\":\"BasicTickFormatter\"},{\"attributes\":{},\"id\":\"1459\",\"type\":\"Selection\"},{\"attributes\":{},\"id\":\"1393\",\"type\":\"LinearScale\"},{\"attributes\":{\"bottom_units\":\"screen\",\"fill_alpha\":{\"value\":0.5},\"fill_color\":{\"value\":\"lightgrey\"},\"left_units\":\"screen\",\"level\":\"overlay\",\"line_alpha\":{\"value\":1.0},\"line_color\":{\"value\":\"black\"},\"line_dash\":[4,4],\"line_width\":{\"value\":2},\"plot\":null,\"render_mode\":\"css\",\"right_units\":\"screen\",\"top_units\":\"screen\"},\"id\":\"1413\",\"type\":\"BoxAnnotation\"},{\"attributes\":{},\"id\":\"1460\",\"type\":\"UnionRenderers\"},{\"attributes\":{\"axis_label\":\"Number of steps\",\"formatter\":{\"id\":\"1428\",\"type\":\"BasicTickFormatter\"},\"plot\":{\"id\":\"1385\",\"subtype\":\"Figure\",\"type\":\"Plot\"},\"ticker\":{\"id\":\"1396\",\"type\":\"BasicTicker\"}},\"id\":\"1395\",\"type\":\"LinearAxis\"},{\"attributes\":{\"label\":{\"value\":\"Runge-Kutta method\"},\"renderers\":[{\"id\":\"1450\",\"type\":\"GlyphRenderer\"}]},\"id\":\"1462\",\"type\":\"LegendItem\"},{\"attributes\":{},\"id\":\"1428\",\"type\":\"BasicTickFormatter\"},{\"attributes\":{\"items\":[{\"id\":\"1432\",\"type\":\"LegendItem\"},{\"id\":\"1446\",\"type\":\"LegendItem\"},{\"id\":\"1462\",\"type\":\"LegendItem\"}],\"plot\":{\"id\":\"1385\",\"subtype\":\"Figure\",\"type\":\"Plot\"}},\"id\":\"1431\",\"type\":\"Legend\"},{\"attributes\":{},\"id\":\"1396\",\"type\":\"BasicTicker\"},{\"attributes\":{},\"id\":\"1498\",\"type\":\"Selection\"},{\"attributes\":{\"label\":{\"value\":\"Euler method\"},\"renderers\":[{\"id\":\"1423\",\"type\":\"GlyphRenderer\"}]},\"id\":\"1432\",\"type\":\"LegendItem\"},{\"attributes\":{\"plot\":{\"id\":\"1385\",\"subtype\":\"Figure\",\"type\":\"Plot\"},\"ticker\":{\"id\":\"1396\",\"type\":\"BasicTicker\"}},\"id\":\"1399\",\"type\":\"Grid\"},{\"attributes\":{},\"id\":\"1499\",\"type\":\"UnionRenderers\"},{\"attributes\":{\"callback\":null,\"data\":{\"x\":[50,51,52,53,54,55,56,57,58,59,60,61,62,63,64,65,66,67,68,69,70,71,72,73,74,75,76,77,78,79,80,81,82,83,84,85,86,87,88,89,90,91,92,93,94,95,96,97,98,99,100,101,102,103,104,105,106,107,108,109,110,111,112,113,114,115,116,117,118,119,120,121,122,123,124,125,126,127,128,129,130,131,132,133,134,135,136,137,138,139,140,141,142,143,144,145,146,147,148,149,150,151,152,153,154,155,156,157,158,159,160,161,162,163,164,165,166,167,168,169,170,171,172,173,174,175,176,177,178,179,180,181,182,183,184,185,186,187,188,189,190,191,192,193,194,195,196,197,198,199,200,201,202,203,204,205,206,207,208,209,210,211,212,213,214,215,216,217,218,219,220,221,222,223,224,225,226,227,228,229,230,231,232,233,234,235,236,237,238,239,240,241,242,243,244,245,246,247,248,249,250,251,252,253,254,255,256,257,258,259,260,261,262,263,264,265,266,267,268,269,270,271,272,273,274,275,276,277,278,279,280,281,282,283,284,285,286,287,288,289,290,291,292,293,294,295,296,297,298,299,300],\"y\":{\"__ndarray__\":\"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\",\"dtype\":\"float64\",\"shape\":[251]}},\"selected\":{\"id\":\"1498\",\"type\":\"Selection\"},\"selection_policy\":{\"id\":\"1499\",\"type\":\"UnionRenderers\"}},\"id\":\"1447\",\"type\":\"ColumnDataSource\"},{\"attributes\":{\"axis_label\":\"Global Error\",\"formatter\":{\"id\":\"1426\",\"type\":\"BasicTickFormatter\"},\"plot\":{\"id\":\"1385\",\"subtype\":\"Figure\",\"type\":\"Plot\"},\"ticker\":{\"id\":\"1401\",\"type\":\"BasicTicker\"}},\"id\":\"1400\",\"type\":\"LinearAxis\"},{\"attributes\":{\"line_color\":\"green\",\"line_width\":2,\"x\":{\"field\":\"x\"},\"y\":{\"field\":\"y\"}},\"id\":\"1434\",\"type\":\"Line\"},{\"attributes\":{},\"id\":\"1401\",\"type\":\"BasicTicker\"},{\"attributes\":{\"line_alpha\":0.1,\"line_color\":\"#1f77b4\",\"line_width\":2,\"x\":{\"field\":\"x\"},\"y\":{\"field\":\"y\"}},\"id\":\"1435\",\"type\":\"Line\"},{\"attributes\":{\"line_color\":\"blue\",\"line_width\":2,\"x\":{\"field\":\"x\"},\"y\":{\"field\":\"y\"}},\"id\":\"1448\",\"type\":\"Line\"},{\"attributes\":{\"dimension\":1,\"plot\":{\"id\":\"1385\",\"subtype\":\"Figure\",\"type\":\"Plot\"},\"ticker\":{\"id\":\"1401\",\"type\":\"BasicTicker\"}},\"id\":\"1404\",\"type\":\"Grid\"},{\"attributes\":{\"data_source\":{\"id\":\"1433\",\"type\":\"ColumnDataSource\"},\"glyph\":{\"id\":\"1434\",\"type\":\"Line\"},\"hover_glyph\":null,\"muted_glyph\":null,\"nonselection_glyph\":{\"id\":\"1435\",\"type\":\"Line\"},\"selection_glyph\":null,\"view\":{\"id\":\"1437\",\"type\":\"CDSView\"}},\"id\":\"1436\",\"type\":\"GlyphRenderer\"},{\"attributes\":{\"data_source\":{\"id\":\"1420\",\"type\":\"ColumnDataSource\"},\"glyph\":{\"id\":\"1421\",\"type\":\"Line\"},\"hover_glyph\":null,\"muted_glyph\":null,\"nonselection_glyph\":{\"id\":\"1422\",\"type\":\"Line\"},\"selection_glyph\":null,\"view\":{\"id\":\"1424\",\"type\":\"CDSView\"}},\"id\":\"1423\",\"type\":\"GlyphRenderer\"},{\"attributes\":{\"source\":{\"id\":\"1433\",\"type\":\"ColumnDataSource\"}},\"id\":\"1437\",\"type\":\"CDSView\"},{\"attributes\":{\"callback\":null,\"data\":{\"x\":[50,51,52,53,54,55,56,57,58,59,60,61,62,63,64,65,66,67,68,69,70,71,72,73,74,75,76,77,78,79,80,81,82,83,84,85,86,87,88,89,90,91,92,93,94,95,96,97,98,99,100,101,102,103,104,105,106,107,108,109,110,111,112,113,114,115,116,117,118,119,120,121,122,123,124,125,126,127,128,129,130,131,132,133,134,135,136,137,138,139,140,141,142,143,144,145,146,147,148,149,150,151,152,153,154,155,156,157,158,159,160,161,162,163,164,165,166,167,168,169,170,171,172,173,174,175,176,177,178,179,180,181,182,183,184,185,186,187,188,189,190,191,192,193,194,195,196,197,198,199,200,201,202,203,204,205,206,207,208,209,210,211,212,213,214,215,216,217,218,219,220,221,222,223,224,225,226,227,228,229,230,231,232,233,234,235,236,237,238,239,240,241,242,243,244,245,246,247,248,249,250,251,252,253,254,255,256,257,258,259,260,261,262,263,264,265,266,267,268,269,270,271,272,273,274,275,276,277,278,279,280,281,282,283,284,285,286,287,288,289,290,291,292,293,294,295,296,297,298,299,300],\"y\":{\"__ndarray__\":\"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\",\"dtype\":\"float64\",\"shape\":[251]}},\"selected\":{\"id\":\"1459\",\"type\":\"Selection\"},\"selection_policy\":{\"id\":\"1460\",\"type\":\"UnionRenderers\"}},\"id\":\"1433\",\"type\":\"ColumnDataSource\"},{\"attributes\":{\"line_alpha\":0.1,\"line_color\":\"#1f77b4\",\"line_width\":2,\"x\":{\"field\":\"x\"},\"y\":{\"field\":\"y\"}},\"id\":\"1422\",\"type\":\"Line\"},{\"attributes\":{},\"id\":\"1443\",\"type\":\"Selection\"},{\"attributes\":{},\"id\":\"1405\",\"type\":\"PanTool\"},{\"attributes\":{},\"id\":\"1444\",\"type\":\"UnionRenderers\"},{\"attributes\":{},\"id\":\"1406\",\"type\":\"WheelZoomTool\"},{\"attributes\":{\"label\":{\"value\":\"Improved Euler method\"},\"renderers\":[{\"id\":\"1436\",\"type\":\"GlyphRenderer\"}]},\"id\":\"1446\",\"type\":\"LegendItem\"},{\"attributes\":{\"overlay\":{\"id\":\"1413\",\"type\":\"BoxAnnotation\"}},\"id\":\"1407\",\"type\":\"BoxZoomTool\"},{\"attributes\":{\"line_color\":\"red\",\"line_width\":2,\"x\":{\"field\":\"x\"},\"y\":{\"field\":\"y\"}},\"id\":\"1421\",\"type\":\"Line\"},{\"attributes\":{\"source\":{\"id\":\"1420\",\"type\":\"ColumnDataSource\"}},\"id\":\"1424\",\"type\":\"CDSView\"},{\"attributes\":{},\"id\":\"1408\",\"type\":\"SaveTool\"},{\"attributes\":{\"plot\":null,\"text\":\"Error change\"},\"id\":\"1384\",\"type\":\"Title\"}],\"root_ids\":[\"1385\"]},\"title\":\"Bokeh Application\",\"version\":\"1.0.0\"}};\n",
       "  var render_items = [{\"docid\":\"b6f45095-2da5-490c-8921-ed5ef1d83925\",\"roots\":{\"1385\":\"43e00338-3538-40a1-be03-dab689905741\"}}];\n",
       "  root.Bokeh.embed.embed_items_notebook(docs_json, render_items);\n",
       "\n",
       "  }\n",
       "  if (root.Bokeh !== undefined) {\n",
       "    embed_document(root);\n",
       "  } else {\n",
       "    var attempts = 0;\n",
       "    var timer = setInterval(function(root) {\n",
       "      if (root.Bokeh !== undefined) {\n",
       "        embed_document(root);\n",
       "        clearInterval(timer);\n",
       "      }\n",
       "      attempts++;\n",
       "      if (attempts > 100) {\n",
       "        console.log(\"Bokeh: ERROR: Unable to run BokehJS code because BokehJS library is missing\");\n",
       "        clearInterval(timer);\n",
       "      }\n",
       "    }, 10, root)\n",
       "  }\n",
       "})(window);"
      ],
      "application/vnd.bokehjs_exec.v0+json": ""
     },
     "metadata": {
      "application/vnd.bokehjs_exec.v0+json": {
       "id": "1385"
      }
     },
     "output_type": "display_data"
    }
   ],
   "source": [
    "# We will take maximum of 300 steps (from initial 50)\n",
    "max_steps = 300\n",
    "\n",
    "# Create figure for global error graph\n",
    "error_change = figure(plot_width=400, plot_height=400, title=\"Error change\", x_axis_label='Number of steps', y_axis_label='Global Error')\n",
    "# Create array of steps from 50 to 300 \n",
    "x_change = list(range(N_steps, max_steps+1))\n",
    "\n",
    "# We will save global error for every step in arrays\n",
    "y_euler_global = numpy.array([])\n",
    "y_improved_global = numpy.array([])\n",
    "y_runge_global = numpy.array([])\n",
    "\n",
    "# For every step compute all methods and save the global error for it (step) to our array\n",
    "for x in x_change:\n",
    "    _, y1, y2, y3, y4 = all_methods(my_func, x0, y0, X, x)\n",
    "    y_euler_global = numpy.append(y_euler_global, max(numpy.abs(y1-y2)))\n",
    "    y_improved_global = numpy.append(y_improved_global, max(numpy.abs(y1-y3)))\n",
    "    y_runge_global = numpy.append(y_runge_global, max(numpy.abs(y1-y4)))\n",
    "\n",
    "# Add line for every method and show\n",
    "error_change.line(x_change, y_euler_global, color='red', legend='Euler method', line_width=2)\n",
    "error_change.line(x_change, y_improved_global, color='green', legend='Improved Euler method', line_width=2)\n",
    "error_change.line(x_change, y_runge_global, color='blue', legend='Runge-Kutta method', line_width=2)\n",
    "show(error_change)\n",
    "\n",
    "    \n",
    "    \n",
    "    \n",
    "    "
   ]
  },
  {
   "cell_type": "markdown",
   "metadata": {},
   "source": [
    "### Analysis of global error graph\n",
    "From the graph we can notice that if we increase our step the global (maximum) error for each method decreases and approaches 0. This is, as was noticed before, because value of our function is approaching 0 (from 2) as x approaches infinity, thus the error decreases as all methods goes to very small numbers."
   ]
  }
 ],
 "metadata": {
  "kernelspec": {
   "display_name": "Python 3",
   "language": "python",
   "name": "python3"
  },
  "language_info": {
   "codemirror_mode": {
    "name": "ipython",
    "version": 3
   },
   "file_extension": ".py",
   "mimetype": "text/x-python",
   "name": "python",
   "nbconvert_exporter": "python",
   "pygments_lexer": "ipython3",
   "version": "3.7.0"
  }
 },
 "nbformat": 4,
 "nbformat_minor": 2
}
