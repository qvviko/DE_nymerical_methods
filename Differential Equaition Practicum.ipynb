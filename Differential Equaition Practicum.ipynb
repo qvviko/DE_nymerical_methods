{
 "cells": [
  {
   "cell_type": "markdown",
   "metadata": {},
   "source": [
    "# TODO\n",
    "2. Better compare???\n",
    "3. Pretify"
   ]
  },
  {
   "cell_type": "markdown",
   "metadata": {},
   "source": [
    "# Differential Equations Practicum\n",
    "The purpose of this activity is to implement and/or understand the principles of numerical methods in differential equations.\n",
    "\n",
    "Variant 24.\n",
    "\n",
    "Original Equation:\n",
    "\n",
    "$$\n",
    "y' = xy^2-3xy,\\:y(0)=2\\\\\n",
    "\\dfrac{y'}{y^2}=x-\\dfrac{3x}{y}\\\\\n",
    "z=1/y,\\:dz=-\\dfrac{dy}{y^2}\\\\\n",
    "-z'=x(1-3z)\\\\\n",
    "\\dfrac{z'}{3z-1}=x\\\\\n",
    "\\dfrac{\\ln{(3z-1)}}{3}=\\dfrac{x^2}{2}+C_1\\\\\n",
    "-1+3z=C_2e^{\\dfrac{3x^2}{2}}\\\\\n",
    "\\dfrac{3}{y}=C_2e^{\\frac{3x^2}{2}}+1\\\\\n",
    "y=\\dfrac{3}{1+C_2e^{\\frac{3x^2}{2}}}\\\\\n",
    "For\\:y(0)=2\\:=>\\:2=\\dfrac{3}{C_2+1}\\:=>\\:C_2=\\frac{1}{2}\n",
    "$$\n",
    "\n",
    "Exact Solution:\n",
    "\n",
    "$$\n",
    "y=\\frac{6}{2+e^{\\frac{3x^2}{2}}}\n",
    "$$\n",
    "\n"
   ]
  },
  {
   "cell_type": "code",
   "execution_count": 1,
   "metadata": {},
   "outputs": [
    {
     "data": {
      "text/html": [
       "\n",
       "    <div class=\"bk-root\">\n",
       "        <a href=\"https://bokeh.pydata.org\" target=\"_blank\" class=\"bk-logo bk-logo-small bk-logo-notebook\"></a>\n",
       "        <span id=\"1001\">Loading BokehJS ...</span>\n",
       "    </div>"
      ]
     },
     "metadata": {},
     "output_type": "display_data"
    },
    {
     "data": {
      "application/javascript": [
       "\n",
       "(function(root) {\n",
       "  function now() {\n",
       "    return new Date();\n",
       "  }\n",
       "\n",
       "  var force = true;\n",
       "\n",
       "  if (typeof (root._bokeh_onload_callbacks) === \"undefined\" || force === true) {\n",
       "    root._bokeh_onload_callbacks = [];\n",
       "    root._bokeh_is_loading = undefined;\n",
       "  }\n",
       "\n",
       "  var JS_MIME_TYPE = 'application/javascript';\n",
       "  var HTML_MIME_TYPE = 'text/html';\n",
       "  var EXEC_MIME_TYPE = 'application/vnd.bokehjs_exec.v0+json';\n",
       "  var CLASS_NAME = 'output_bokeh rendered_html';\n",
       "\n",
       "  /**\n",
       "   * Render data to the DOM node\n",
       "   */\n",
       "  function render(props, node) {\n",
       "    var script = document.createElement(\"script\");\n",
       "    node.appendChild(script);\n",
       "  }\n",
       "\n",
       "  /**\n",
       "   * Handle when an output is cleared or removed\n",
       "   */\n",
       "  function handleClearOutput(event, handle) {\n",
       "    var cell = handle.cell;\n",
       "\n",
       "    var id = cell.output_area._bokeh_element_id;\n",
       "    var server_id = cell.output_area._bokeh_server_id;\n",
       "    // Clean up Bokeh references\n",
       "    if (id != null && id in Bokeh.index) {\n",
       "      Bokeh.index[id].model.document.clear();\n",
       "      delete Bokeh.index[id];\n",
       "    }\n",
       "\n",
       "    if (server_id !== undefined) {\n",
       "      // Clean up Bokeh references\n",
       "      var cmd = \"from bokeh.io.state import curstate; print(curstate().uuid_to_server['\" + server_id + \"'].get_sessions()[0].document.roots[0]._id)\";\n",
       "      cell.notebook.kernel.execute(cmd, {\n",
       "        iopub: {\n",
       "          output: function(msg) {\n",
       "            var id = msg.content.text.trim();\n",
       "            if (id in Bokeh.index) {\n",
       "              Bokeh.index[id].model.document.clear();\n",
       "              delete Bokeh.index[id];\n",
       "            }\n",
       "          }\n",
       "        }\n",
       "      });\n",
       "      // Destroy server and session\n",
       "      var cmd = \"import bokeh.io.notebook as ion; ion.destroy_server('\" + server_id + \"')\";\n",
       "      cell.notebook.kernel.execute(cmd);\n",
       "    }\n",
       "  }\n",
       "\n",
       "  /**\n",
       "   * Handle when a new output is added\n",
       "   */\n",
       "  function handleAddOutput(event, handle) {\n",
       "    var output_area = handle.output_area;\n",
       "    var output = handle.output;\n",
       "\n",
       "    // limit handleAddOutput to display_data with EXEC_MIME_TYPE content only\n",
       "    if ((output.output_type != \"display_data\") || (!output.data.hasOwnProperty(EXEC_MIME_TYPE))) {\n",
       "      return\n",
       "    }\n",
       "\n",
       "    var toinsert = output_area.element.find(\".\" + CLASS_NAME.split(' ')[0]);\n",
       "\n",
       "    if (output.metadata[EXEC_MIME_TYPE][\"id\"] !== undefined) {\n",
       "      toinsert[toinsert.length - 1].firstChild.textContent = output.data[JS_MIME_TYPE];\n",
       "      // store reference to embed id on output_area\n",
       "      output_area._bokeh_element_id = output.metadata[EXEC_MIME_TYPE][\"id\"];\n",
       "    }\n",
       "    if (output.metadata[EXEC_MIME_TYPE][\"server_id\"] !== undefined) {\n",
       "      var bk_div = document.createElement(\"div\");\n",
       "      bk_div.innerHTML = output.data[HTML_MIME_TYPE];\n",
       "      var script_attrs = bk_div.children[0].attributes;\n",
       "      for (var i = 0; i < script_attrs.length; i++) {\n",
       "        toinsert[toinsert.length - 1].firstChild.setAttribute(script_attrs[i].name, script_attrs[i].value);\n",
       "      }\n",
       "      // store reference to server id on output_area\n",
       "      output_area._bokeh_server_id = output.metadata[EXEC_MIME_TYPE][\"server_id\"];\n",
       "    }\n",
       "  }\n",
       "\n",
       "  function register_renderer(events, OutputArea) {\n",
       "\n",
       "    function append_mime(data, metadata, element) {\n",
       "      // create a DOM node to render to\n",
       "      var toinsert = this.create_output_subarea(\n",
       "        metadata,\n",
       "        CLASS_NAME,\n",
       "        EXEC_MIME_TYPE\n",
       "      );\n",
       "      this.keyboard_manager.register_events(toinsert);\n",
       "      // Render to node\n",
       "      var props = {data: data, metadata: metadata[EXEC_MIME_TYPE]};\n",
       "      render(props, toinsert[toinsert.length - 1]);\n",
       "      element.append(toinsert);\n",
       "      return toinsert\n",
       "    }\n",
       "\n",
       "    /* Handle when an output is cleared or removed */\n",
       "    events.on('clear_output.CodeCell', handleClearOutput);\n",
       "    events.on('delete.Cell', handleClearOutput);\n",
       "\n",
       "    /* Handle when a new output is added */\n",
       "    events.on('output_added.OutputArea', handleAddOutput);\n",
       "\n",
       "    /**\n",
       "     * Register the mime type and append_mime function with output_area\n",
       "     */\n",
       "    OutputArea.prototype.register_mime_type(EXEC_MIME_TYPE, append_mime, {\n",
       "      /* Is output safe? */\n",
       "      safe: true,\n",
       "      /* Index of renderer in `output_area.display_order` */\n",
       "      index: 0\n",
       "    });\n",
       "  }\n",
       "\n",
       "  // register the mime type if in Jupyter Notebook environment and previously unregistered\n",
       "  if (root.Jupyter !== undefined) {\n",
       "    var events = require('base/js/events');\n",
       "    var OutputArea = require('notebook/js/outputarea').OutputArea;\n",
       "\n",
       "    if (OutputArea.prototype.mime_types().indexOf(EXEC_MIME_TYPE) == -1) {\n",
       "      register_renderer(events, OutputArea);\n",
       "    }\n",
       "  }\n",
       "\n",
       "  \n",
       "  if (typeof (root._bokeh_timeout) === \"undefined\" || force === true) {\n",
       "    root._bokeh_timeout = Date.now() + 5000;\n",
       "    root._bokeh_failed_load = false;\n",
       "  }\n",
       "\n",
       "  var NB_LOAD_WARNING = {'data': {'text/html':\n",
       "     \"<div style='background-color: #fdd'>\\n\"+\n",
       "     \"<p>\\n\"+\n",
       "     \"BokehJS does not appear to have successfully loaded. If loading BokehJS from CDN, this \\n\"+\n",
       "     \"may be due to a slow or bad network connection. Possible fixes:\\n\"+\n",
       "     \"</p>\\n\"+\n",
       "     \"<ul>\\n\"+\n",
       "     \"<li>re-rerun `output_notebook()` to attempt to load from CDN again, or</li>\\n\"+\n",
       "     \"<li>use INLINE resources instead, as so:</li>\\n\"+\n",
       "     \"</ul>\\n\"+\n",
       "     \"<code>\\n\"+\n",
       "     \"from bokeh.resources import INLINE\\n\"+\n",
       "     \"output_notebook(resources=INLINE)\\n\"+\n",
       "     \"</code>\\n\"+\n",
       "     \"</div>\"}};\n",
       "\n",
       "  function display_loaded() {\n",
       "    var el = document.getElementById(\"1001\");\n",
       "    if (el != null) {\n",
       "      el.textContent = \"BokehJS is loading...\";\n",
       "    }\n",
       "    if (root.Bokeh !== undefined) {\n",
       "      if (el != null) {\n",
       "        el.textContent = \"BokehJS \" + root.Bokeh.version + \" successfully loaded.\";\n",
       "      }\n",
       "    } else if (Date.now() < root._bokeh_timeout) {\n",
       "      setTimeout(display_loaded, 100)\n",
       "    }\n",
       "  }\n",
       "\n",
       "\n",
       "  function run_callbacks() {\n",
       "    try {\n",
       "      root._bokeh_onload_callbacks.forEach(function(callback) { callback() });\n",
       "    }\n",
       "    finally {\n",
       "      delete root._bokeh_onload_callbacks\n",
       "    }\n",
       "    console.info(\"Bokeh: all callbacks have finished\");\n",
       "  }\n",
       "\n",
       "  function load_libs(js_urls, callback) {\n",
       "    root._bokeh_onload_callbacks.push(callback);\n",
       "    if (root._bokeh_is_loading > 0) {\n",
       "      console.log(\"Bokeh: BokehJS is being loaded, scheduling callback at\", now());\n",
       "      return null;\n",
       "    }\n",
       "    if (js_urls == null || js_urls.length === 0) {\n",
       "      run_callbacks();\n",
       "      return null;\n",
       "    }\n",
       "    console.log(\"Bokeh: BokehJS not loaded, scheduling load and callback at\", now());\n",
       "    root._bokeh_is_loading = js_urls.length;\n",
       "    for (var i = 0; i < js_urls.length; i++) {\n",
       "      var url = js_urls[i];\n",
       "      var s = document.createElement('script');\n",
       "      s.src = url;\n",
       "      s.async = false;\n",
       "      s.onreadystatechange = s.onload = function() {\n",
       "        root._bokeh_is_loading--;\n",
       "        if (root._bokeh_is_loading === 0) {\n",
       "          console.log(\"Bokeh: all BokehJS libraries loaded\");\n",
       "          run_callbacks()\n",
       "        }\n",
       "      };\n",
       "      s.onerror = function() {\n",
       "        console.warn(\"failed to load library \" + url);\n",
       "      };\n",
       "      console.log(\"Bokeh: injecting script tag for BokehJS library: \", url);\n",
       "      document.getElementsByTagName(\"head\")[0].appendChild(s);\n",
       "    }\n",
       "  };var element = document.getElementById(\"1001\");\n",
       "  if (element == null) {\n",
       "    console.log(\"Bokeh: ERROR: autoload.js configured with elementid '1001' but no matching script tag was found. \")\n",
       "    return false;\n",
       "  }\n",
       "\n",
       "  var js_urls = [\"https://cdn.pydata.org/bokeh/release/bokeh-1.0.0.min.js\", \"https://cdn.pydata.org/bokeh/release/bokeh-widgets-1.0.0.min.js\", \"https://cdn.pydata.org/bokeh/release/bokeh-tables-1.0.0.min.js\", \"https://cdn.pydata.org/bokeh/release/bokeh-gl-1.0.0.min.js\"];\n",
       "\n",
       "  var inline_js = [\n",
       "    function(Bokeh) {\n",
       "      Bokeh.set_log_level(\"info\");\n",
       "    },\n",
       "    \n",
       "    function(Bokeh) {\n",
       "      \n",
       "    },\n",
       "    function(Bokeh) {\n",
       "      console.log(\"Bokeh: injecting CSS: https://cdn.pydata.org/bokeh/release/bokeh-1.0.0.min.css\");\n",
       "      Bokeh.embed.inject_css(\"https://cdn.pydata.org/bokeh/release/bokeh-1.0.0.min.css\");\n",
       "      console.log(\"Bokeh: injecting CSS: https://cdn.pydata.org/bokeh/release/bokeh-widgets-1.0.0.min.css\");\n",
       "      Bokeh.embed.inject_css(\"https://cdn.pydata.org/bokeh/release/bokeh-widgets-1.0.0.min.css\");\n",
       "      console.log(\"Bokeh: injecting CSS: https://cdn.pydata.org/bokeh/release/bokeh-tables-1.0.0.min.css\");\n",
       "      Bokeh.embed.inject_css(\"https://cdn.pydata.org/bokeh/release/bokeh-tables-1.0.0.min.css\");\n",
       "    }\n",
       "  ];\n",
       "\n",
       "  function run_inline_js() {\n",
       "    \n",
       "    if ((root.Bokeh !== undefined) || (force === true)) {\n",
       "      for (var i = 0; i < inline_js.length; i++) {\n",
       "        inline_js[i].call(root, root.Bokeh);\n",
       "      }if (force === true) {\n",
       "        display_loaded();\n",
       "      }} else if (Date.now() < root._bokeh_timeout) {\n",
       "      setTimeout(run_inline_js, 100);\n",
       "    } else if (!root._bokeh_failed_load) {\n",
       "      console.log(\"Bokeh: BokehJS failed to load within specified timeout.\");\n",
       "      root._bokeh_failed_load = true;\n",
       "    } else if (force !== true) {\n",
       "      var cell = $(document.getElementById(\"1001\")).parents('.cell').data().cell;\n",
       "      cell.output_area.append_execute_result(NB_LOAD_WARNING)\n",
       "    }\n",
       "\n",
       "  }\n",
       "\n",
       "  if (root._bokeh_is_loading === 0) {\n",
       "    console.log(\"Bokeh: BokehJS loaded, going straight to plotting\");\n",
       "    run_inline_js();\n",
       "  } else {\n",
       "    load_libs(js_urls, function() {\n",
       "      console.log(\"Bokeh: BokehJS plotting callback run at\", now());\n",
       "      run_inline_js();\n",
       "    });\n",
       "  }\n",
       "}(window));"
      ],
      "application/vnd.bokehjs_load.v0+json": "\n(function(root) {\n  function now() {\n    return new Date();\n  }\n\n  var force = true;\n\n  if (typeof (root._bokeh_onload_callbacks) === \"undefined\" || force === true) {\n    root._bokeh_onload_callbacks = [];\n    root._bokeh_is_loading = undefined;\n  }\n\n  \n\n  \n  if (typeof (root._bokeh_timeout) === \"undefined\" || force === true) {\n    root._bokeh_timeout = Date.now() + 5000;\n    root._bokeh_failed_load = false;\n  }\n\n  var NB_LOAD_WARNING = {'data': {'text/html':\n     \"<div style='background-color: #fdd'>\\n\"+\n     \"<p>\\n\"+\n     \"BokehJS does not appear to have successfully loaded. If loading BokehJS from CDN, this \\n\"+\n     \"may be due to a slow or bad network connection. Possible fixes:\\n\"+\n     \"</p>\\n\"+\n     \"<ul>\\n\"+\n     \"<li>re-rerun `output_notebook()` to attempt to load from CDN again, or</li>\\n\"+\n     \"<li>use INLINE resources instead, as so:</li>\\n\"+\n     \"</ul>\\n\"+\n     \"<code>\\n\"+\n     \"from bokeh.resources import INLINE\\n\"+\n     \"output_notebook(resources=INLINE)\\n\"+\n     \"</code>\\n\"+\n     \"</div>\"}};\n\n  function display_loaded() {\n    var el = document.getElementById(\"1001\");\n    if (el != null) {\n      el.textContent = \"BokehJS is loading...\";\n    }\n    if (root.Bokeh !== undefined) {\n      if (el != null) {\n        el.textContent = \"BokehJS \" + root.Bokeh.version + \" successfully loaded.\";\n      }\n    } else if (Date.now() < root._bokeh_timeout) {\n      setTimeout(display_loaded, 100)\n    }\n  }\n\n\n  function run_callbacks() {\n    try {\n      root._bokeh_onload_callbacks.forEach(function(callback) { callback() });\n    }\n    finally {\n      delete root._bokeh_onload_callbacks\n    }\n    console.info(\"Bokeh: all callbacks have finished\");\n  }\n\n  function load_libs(js_urls, callback) {\n    root._bokeh_onload_callbacks.push(callback);\n    if (root._bokeh_is_loading > 0) {\n      console.log(\"Bokeh: BokehJS is being loaded, scheduling callback at\", now());\n      return null;\n    }\n    if (js_urls == null || js_urls.length === 0) {\n      run_callbacks();\n      return null;\n    }\n    console.log(\"Bokeh: BokehJS not loaded, scheduling load and callback at\", now());\n    root._bokeh_is_loading = js_urls.length;\n    for (var i = 0; i < js_urls.length; i++) {\n      var url = js_urls[i];\n      var s = document.createElement('script');\n      s.src = url;\n      s.async = false;\n      s.onreadystatechange = s.onload = function() {\n        root._bokeh_is_loading--;\n        if (root._bokeh_is_loading === 0) {\n          console.log(\"Bokeh: all BokehJS libraries loaded\");\n          run_callbacks()\n        }\n      };\n      s.onerror = function() {\n        console.warn(\"failed to load library \" + url);\n      };\n      console.log(\"Bokeh: injecting script tag for BokehJS library: \", url);\n      document.getElementsByTagName(\"head\")[0].appendChild(s);\n    }\n  };var element = document.getElementById(\"1001\");\n  if (element == null) {\n    console.log(\"Bokeh: ERROR: autoload.js configured with elementid '1001' but no matching script tag was found. \")\n    return false;\n  }\n\n  var js_urls = [\"https://cdn.pydata.org/bokeh/release/bokeh-1.0.0.min.js\", \"https://cdn.pydata.org/bokeh/release/bokeh-widgets-1.0.0.min.js\", \"https://cdn.pydata.org/bokeh/release/bokeh-tables-1.0.0.min.js\", \"https://cdn.pydata.org/bokeh/release/bokeh-gl-1.0.0.min.js\"];\n\n  var inline_js = [\n    function(Bokeh) {\n      Bokeh.set_log_level(\"info\");\n    },\n    \n    function(Bokeh) {\n      \n    },\n    function(Bokeh) {\n      console.log(\"Bokeh: injecting CSS: https://cdn.pydata.org/bokeh/release/bokeh-1.0.0.min.css\");\n      Bokeh.embed.inject_css(\"https://cdn.pydata.org/bokeh/release/bokeh-1.0.0.min.css\");\n      console.log(\"Bokeh: injecting CSS: https://cdn.pydata.org/bokeh/release/bokeh-widgets-1.0.0.min.css\");\n      Bokeh.embed.inject_css(\"https://cdn.pydata.org/bokeh/release/bokeh-widgets-1.0.0.min.css\");\n      console.log(\"Bokeh: injecting CSS: https://cdn.pydata.org/bokeh/release/bokeh-tables-1.0.0.min.css\");\n      Bokeh.embed.inject_css(\"https://cdn.pydata.org/bokeh/release/bokeh-tables-1.0.0.min.css\");\n    }\n  ];\n\n  function run_inline_js() {\n    \n    if ((root.Bokeh !== undefined) || (force === true)) {\n      for (var i = 0; i < inline_js.length; i++) {\n        inline_js[i].call(root, root.Bokeh);\n      }if (force === true) {\n        display_loaded();\n      }} else if (Date.now() < root._bokeh_timeout) {\n      setTimeout(run_inline_js, 100);\n    } else if (!root._bokeh_failed_load) {\n      console.log(\"Bokeh: BokehJS failed to load within specified timeout.\");\n      root._bokeh_failed_load = true;\n    } else if (force !== true) {\n      var cell = $(document.getElementById(\"1001\")).parents('.cell').data().cell;\n      cell.output_area.append_execute_result(NB_LOAD_WARNING)\n    }\n\n  }\n\n  if (root._bokeh_is_loading === 0) {\n    console.log(\"Bokeh: BokehJS loaded, going straight to plotting\");\n    run_inline_js();\n  } else {\n    load_libs(js_urls, function() {\n      console.log(\"Bokeh: BokehJS plotting callback run at\", now());\n      run_inline_js();\n    });\n  }\n}(window));"
     },
     "metadata": {},
     "output_type": "display_data"
    }
   ],
   "source": [
    "from math import exp\n",
    "from ipywidgets import interact, interactive, fixed, interact_manual\n",
    "import ipywidgets as widgets\n",
    "from bokeh.plotting import figure, show\n",
    "from bokeh.io import output_notebook, push_notebook\n",
    "import numpy\n",
    "output_notebook()"
   ]
  },
  {
   "cell_type": "markdown",
   "metadata": {},
   "source": [
    "## Definition of original and exact solution functions"
   ]
  },
  {
   "cell_type": "code",
   "execution_count": 2,
   "metadata": {},
   "outputs": [],
   "source": [
    "def my_func(x, y):\n",
    "    return x * y * y - 3 * x * y"
   ]
  },
  {
   "cell_type": "code",
   "execution_count": 3,
   "metadata": {},
   "outputs": [],
   "source": [
    "def exact_func(x,C):\n",
    "    return 3/(C*exp(3*x*x/2)+1)"
   ]
  },
  {
   "cell_type": "markdown",
   "metadata": {},
   "source": [
    "## Helper functions"
   ]
  },
  {
   "cell_type": "code",
   "execution_count": 4,
   "metadata": {},
   "outputs": [],
   "source": [
    "def get_x(xs, xf, N):\n",
    "    return numpy.linspace(xs, xf, num=N)"
   ]
  },
  {
   "cell_type": "markdown",
   "metadata": {},
   "source": [
    "# Computation for the exact function\n",
    "Receive initial value for x and y, end of the interval [x0,X] and number of steps to perform"
   ]
  },
  {
   "cell_type": "code",
   "execution_count": 5,
   "metadata": {},
   "outputs": [],
   "source": [
    "def exact(func, x0, y0, X, N_steps):\n",
    "    func = exact_func\n",
    "    x = get_x(x0, X, N_steps)\n",
    "    y = numpy.array(y0)\n",
    "    # Compute the constant of the general solution\n",
    "    C = (3/y0-1)/exp(3*x0*x0/2)\n",
    "    \n",
    "    # Compute ys and store them into the array\n",
    "    # Loop until 50 elements (from 1 because we start with y0)\n",
    "    for i in range(1, N_steps):\n",
    "        y = numpy.append(y,func(x[i],C))\n",
    "    return x, y"
   ]
  },
  {
   "cell_type": "markdown",
   "metadata": {},
   "source": [
    "## Euler Method"
   ]
  },
  {
   "cell_type": "code",
   "execution_count": 6,
   "metadata": {},
   "outputs": [],
   "source": [
    "# Get function, initial value for x and y, end of the interval [x0,X] and number of steps to perform\n",
    "def euler(func, x0, y0, X, N_steps):\n",
    "    # Resulting pairs of x, y will be stored in arrays\n",
    "    x = get_x(x0, X, N_steps)\n",
    "    y = numpy.array([y0])\n",
    "    \n",
    "    # Calculate the step for x\n",
    "    h = (X - x0) / float(N_steps)\n",
    "    \n",
    "    # Loop until 50 elements (-1 because we start with y0)\n",
    "    for i in range(N_steps-1):\n",
    "        # Perform Euler method\n",
    "        # y(i+1)=yi+h*f(xi,yi)\n",
    "        y = numpy.append(y, y[i] + h * func(x[i], y[i]))\n",
    "    return x, y"
   ]
  },
  {
   "cell_type": "markdown",
   "metadata": {},
   "source": [
    "## Improved Euler Method"
   ]
  },
  {
   "cell_type": "code",
   "execution_count": 7,
   "metadata": {},
   "outputs": [],
   "source": [
    "# Get function, initial value for x and y, end of the interval [x0,X] and number of steps to perform\n",
    "def improved_euler(func, x0, y0, X, N_steps):\n",
    "    # Resulting pairs of x, y will be stored in arrays\n",
    "    x = get_x(x0, X, N_steps)\n",
    "    y = numpy.array([y0])\n",
    "    \n",
    "    # Calculate the step for x\n",
    "    h = (X - x0) / float(N_steps)\n",
    "\n",
    "    # Loop until 50 elements (-1 because we start with y0)\n",
    "    for i in range(N_steps-1):\n",
    "        # Perform Improved Euler Method\n",
    "        # y(i+1) = yi + h/2 * (f(xi,yi)+f(x(i+1),yi+h*f(xi,yi)))\n",
    "        # where m1 = f(xi,yi) and m2 = f(x(i+1),yi+h*m1)\n",
    "        m1 = func(x[i], y[i])\n",
    "        m2 = func(x[i + 1], y[i] + h * m1)\n",
    "        y = numpy.append(y, y[i] + (h * (m1 + m2)) / 2)\n",
    "    return x, y"
   ]
  },
  {
   "cell_type": "markdown",
   "metadata": {},
   "source": [
    "## Runge Kutta Method"
   ]
  },
  {
   "cell_type": "code",
   "execution_count": 8,
   "metadata": {},
   "outputs": [],
   "source": [
    "# Get function, initial value for x and y, end of the interval [x,X0] and number of steps to perform\n",
    "def runge_kutta(func, x0, y0, X, N_steps):\n",
    "    # Resulting pairs of x, y will be stored in arrays  \n",
    "    x = get_x(x0, X, N_steps)\n",
    "    y = numpy.array([y0])\n",
    "    \n",
    "    # Calculate the step for x\n",
    "    h = (X - x0) / float(N_steps)\n",
    "    \n",
    "    # Loop until 50 elements (-1 because we start with y0)\n",
    "    for i in range(N_steps-1):\n",
    "        # Perform Runge-Kutta method\n",
    "        k1 = h * func(x[i], y[i])\n",
    "        k2 = h * func(x[i] + h / 2, y[i] + k1 / 2)\n",
    "        k3 = h * func(x[i] + h / 2, y[i] + k2 / 2)\n",
    "        k4 = h * func(x[i] + h, y[i] + k3)\n",
    "        y = numpy.append(y, y[i] + (k1 + 2 * k2 + 2 * k3 + k4) / 6)\n",
    "    return x, y"
   ]
  },
  {
   "cell_type": "markdown",
   "metadata": {},
   "source": [
    "## Computation of all methods"
   ]
  },
  {
   "cell_type": "code",
   "execution_count": 9,
   "metadata": {},
   "outputs": [],
   "source": [
    "def all_methods(func, x0, y0, X, N_steps):\n",
    "    x = get_x(x0, X, N_steps)\n",
    "    _, y_exact = exact(func, x0, y0, X, N_steps) \n",
    "    _, y_euler = euler(func, x0, y0, X, N_steps)\n",
    "    _, y_improved = improved_euler(func, x0, y0, X, N_steps)\n",
    "    _, y_runge = runge_kutta(func, x0, y0, X, N_steps)\n",
    "    return x, y_exact, y_euler, y_improved, y_runge"
   ]
  },
  {
   "cell_type": "markdown",
   "metadata": {},
   "source": [
    "Create widgets for changable x0, y0, X and number of steps"
   ]
  },
  {
   "cell_type": "code",
   "execution_count": 10,
   "metadata": {},
   "outputs": [],
   "source": [
    "x0_widget = widgets.FloatSlider(value=0, min=-100, max=100)\n",
    "y0_widget = widgets.FloatSlider(value=2, min=-100, max=100)\n",
    "X_widget = widgets.FloatSlider(value=6.4, min=-100, max=100)\n",
    "N_steps_widget = widgets.IntSlider(value=50, min=0, max=200)\n",
    "x0=0\n",
    "y0=2\n",
    "X=6.4\n",
    "N_steps=50\n",
    "x, y_exact, y_euler, y_improved, y_runge = all_methods(my_func, x0, y0, X, N_steps)"
   ]
  },
  {
   "cell_type": "markdown",
   "metadata": {},
   "source": [
    "## Comparison of methods via plotting\n",
    "We will compare different methods by plotting their graphs with the exact solution"
   ]
  },
  {
   "cell_type": "code",
   "execution_count": 11,
   "metadata": {},
   "outputs": [],
   "source": [
    "methods_graph = figure(plot_width=400, plot_height=400, title=\"Methods Comparison\", x_axis_label='x', y_axis_label='y')\n",
    "\n",
    "exact_line = methods_graph.line(x, y_exact,legend='Exact solution', line_color='#000000')\n",
    "euler_line = methods_graph.line(x, y_euler,legend='Euler method', line_color='#FF0000')\n",
    "improved_line = methods_graph.line(x, y_improved,legend='Improved Euler method', line_color='#00FF00')\n",
    "runge_line = methods_graph.line(x, y_runge,legend ='Runge-Kutta method', line_color='#0000FF')"
   ]
  },
  {
   "cell_type": "markdown",
   "metadata": {},
   "source": [
    "# Error Graph\n",
    "Comparison of error for all of the graphs"
   ]
  },
  {
   "cell_type": "code",
   "execution_count": 12,
   "metadata": {},
   "outputs": [],
   "source": [
    "y_error_euler = numpy.abs(y_exact-y_euler)\n",
    "y_error_improved = numpy.abs(y_exact-y_improved)\n",
    "y_error_runge = numpy.abs(y_exact-y_runge)\n",
    "\n",
    "error_1 = figure(plot_width=400, plot_height=400, title=\"Euler\")\n",
    "error_2 = figure(plot_width=400, plot_height=400, title=\"Improved Euler\")\n",
    "error_3 = figure(plot_width=400, plot_height=400, title=\"Runge Kutta\")\n",
    "\n",
    "error1_r = error_1.line(x, y_error_euler, color='red', line_width=2)\n",
    "error2_r = error_2.line(x, y_error_improved, color='red', line_width=2)\n",
    "error3_r = error_3.line(x, y_error_runge, color='red', line_width=2)"
   ]
  },
  {
   "cell_type": "code",
   "execution_count": 13,
   "metadata": {},
   "outputs": [],
   "source": [
    "def update_plot(x0=0, y0=2, X=6.4,N_steps=50):\n",
    "    if X <= x0:\n",
    "        return\n",
    "    if y0 == 0:\n",
    "        return\n",
    "    x, y_exact, y_euler, y_improved, y_runge = all_methods(my_func, x0, y0, X, N_steps)\n",
    "    exact = {'x': x, 'y': y_exact}\n",
    "    euler = {'x': x, 'y': y_euler}\n",
    "    improved = {'x': x, 'y': y_improved}\n",
    "    runge = {'x': x, 'y': y_runge}\n",
    "\n",
    "    ex_er={'x':x,'y':numpy.abs(y_exact-y_euler)}\n",
    "    ex_er={'x':x,'y':numpy.abs(y_exact-y_improved)}\n",
    "    ex_er={'x':x,'y':numpy.abs(y_exact-y_runge)}\n",
    "\n",
    "    exact_line.data_source.data = exact\n",
    "    euler_line.data_source.data = euler\n",
    "    improved_line.data_source.data = improved\n",
    "    runge_line.data_source.data = runge\n",
    "\n",
    "    push_notebook()"
   ]
  },
  {
   "cell_type": "code",
   "execution_count": 14,
   "metadata": {},
   "outputs": [
    {
     "data": {
      "text/html": [
       "\n",
       "\n",
       "\n",
       "\n",
       "\n",
       "\n",
       "  <div class=\"bk-root\" id=\"46dd3208-49ef-4183-bb6d-710bfe3cf721\"></div>\n"
      ]
     },
     "metadata": {},
     "output_type": "display_data"
    },
    {
     "data": {
      "application/javascript": [
       "(function(root) {\n",
       "  function embed_document(root) {\n",
       "    \n",
       "  var docs_json = {\"4e584062-41a2-4d06-b9f3-539679ca2233\":{\"roots\":{\"references\":[{\"attributes\":{\"below\":[{\"id\":\"1013\",\"type\":\"LinearAxis\"}],\"left\":[{\"id\":\"1018\",\"type\":\"LinearAxis\"}],\"plot_height\":400,\"plot_width\":400,\"renderers\":[{\"id\":\"1013\",\"type\":\"LinearAxis\"},{\"id\":\"1017\",\"type\":\"Grid\"},{\"id\":\"1018\",\"type\":\"LinearAxis\"},{\"id\":\"1022\",\"type\":\"Grid\"},{\"id\":\"1031\",\"type\":\"BoxAnnotation\"},{\"id\":\"1049\",\"type\":\"Legend\"},{\"id\":\"1041\",\"type\":\"GlyphRenderer\"},{\"id\":\"1054\",\"type\":\"GlyphRenderer\"},{\"id\":\"1068\",\"type\":\"GlyphRenderer\"},{\"id\":\"1084\",\"type\":\"GlyphRenderer\"}],\"title\":{\"id\":\"1002\",\"type\":\"Title\"},\"toolbar\":{\"id\":\"1029\",\"type\":\"Toolbar\"},\"x_range\":{\"id\":\"1005\",\"type\":\"DataRange1d\"},\"x_scale\":{\"id\":\"1009\",\"type\":\"LinearScale\"},\"y_range\":{\"id\":\"1007\",\"type\":\"DataRange1d\"},\"y_scale\":{\"id\":\"1011\",\"type\":\"LinearScale\"}},\"id\":\"1003\",\"subtype\":\"Figure\",\"type\":\"Plot\"},{\"attributes\":{},\"id\":\"1023\",\"type\":\"PanTool\"},{\"attributes\":{\"callback\":null},\"id\":\"1007\",\"type\":\"DataRange1d\"},{\"attributes\":{},\"id\":\"1062\",\"type\":\"Selection\"},{\"attributes\":{},\"id\":\"1024\",\"type\":\"WheelZoomTool\"},{\"attributes\":{\"data_source\":{\"id\":\"1038\",\"type\":\"ColumnDataSource\"},\"glyph\":{\"id\":\"1039\",\"type\":\"Line\"},\"hover_glyph\":null,\"muted_glyph\":null,\"nonselection_glyph\":{\"id\":\"1040\",\"type\":\"Line\"},\"selection_glyph\":null,\"view\":{\"id\":\"1042\",\"type\":\"CDSView\"}},\"id\":\"1041\",\"type\":\"GlyphRenderer\"},{\"attributes\":{\"label\":{\"value\":\"Euler method\"},\"renderers\":[{\"id\":\"1054\",\"type\":\"GlyphRenderer\"}]},\"id\":\"1064\",\"type\":\"LegendItem\"},{\"attributes\":{\"plot\":{\"id\":\"1003\",\"subtype\":\"Figure\",\"type\":\"Plot\"},\"ticker\":{\"id\":\"1014\",\"type\":\"BasicTicker\"}},\"id\":\"1017\",\"type\":\"Grid\"},{\"attributes\":{\"overlay\":{\"id\":\"1031\",\"type\":\"BoxAnnotation\"}},\"id\":\"1025\",\"type\":\"BoxZoomTool\"},{\"attributes\":{\"axis_label\":\"x\",\"formatter\":{\"id\":\"1045\",\"type\":\"BasicTickFormatter\"},\"plot\":{\"id\":\"1003\",\"subtype\":\"Figure\",\"type\":\"Plot\"},\"ticker\":{\"id\":\"1014\",\"type\":\"BasicTicker\"}},\"id\":\"1013\",\"type\":\"LinearAxis\"},{\"attributes\":{\"callback\":null},\"id\":\"1005\",\"type\":\"DataRange1d\"},{\"attributes\":{\"line_color\":\"#00FF00\",\"x\":{\"field\":\"x\"},\"y\":{\"field\":\"y\"}},\"id\":\"1066\",\"type\":\"Line\"},{\"attributes\":{},\"id\":\"1026\",\"type\":\"SaveTool\"},{\"attributes\":{\"callback\":null,\"data\":{\"x\":{\"__ndarray__\":\"AAAAAAAAAADInSXs5rfAP8idJezmt9A/rGw4YtoT2T/InSXs5rfgPzoFL6fg5eQ/rGw4YtoT6T8e1EEd1EHtP8idJezmt/A/gVGqyePO8j86BS+n4OX0P/O4s4Td/PY/rGw4YtoT+T9lIL0/1yr7Px7UQR3UQf0/14fG+tBY/z/InSXs5rcAQKT351plwwFAgVGqyePOAkBeq2w4YtoDQDoFL6fg5QRAFl/xFV/xBUDzuLOE3fwGQNASdvNbCAhArGw4YtoTCUCIxvrQWB8KQGUgvT/XKgtAQnp/rlU2DEAe1EEd1EENQPotBIxSTQ5A14fG+tBYD0DacMS0JzIQQMidJezmtxBAtsqGI6Y9EUCk9+daZcMRQJMkSZIkSRJAgVGqyePOEkBvfgsBo1QTQF6rbDhi2hNATNjNbyFgFEA6BS+n4OUUQCgykN6faxVAFl/xFV/xFUAFjFJNHncWQPO4s4Td/BZA4eUUvJyCF0DQEnbzWwgYQL4/1yobjhhArGw4YtoTGUCamZmZmZkZQA==\",\"dtype\":\"float64\",\"shape\":[50]},\"y\":{\"__ndarray__\":\"AAAAAAAAAECvTtyJnrz/PyEyBbp+7P4/Z7Wx88yG/T+o6NyPeID7P7e3fCYK0/g/QiaQW4GH9T9hXjn408LxPzGisLt/mOs/9+GshNEF5D/8fzHx5QPbP/cicuUQ8dA/Nm665UnRwz9J3eWOabq1P/5yYiREcaY/pXPc5rvtlT+rBfMzOVWEP/PXXUg07nE/1ipg4vAfXj9aaVdWfSNIP6V2juAeeTI/dgp6oqIKGz+6AIPjcfUCP4IfYTIQg+k+pCKV2mKC0D4gLZKHoZq0PhKyXWIF35g+sCnAfqEjfT6aj4fbQ6JgPgCsbsaslkI+4kOz+TxvJD4iYgYK1zcGPoD7X4GOCOg9nNqrwkMGyj14TnHUnWSsPcRaza3/ao89Yj0gAmS/cT2gtCMxXJtUPWiYi69gvzg9VNXWXFLtHj2O3h23VjkEPZLzlu5b0+s8XmVTLac71DxAjao3Oju/PACceQKIrak8LY3UcH6PljzSqYBevDyFPCQhM0Ahd3U85YtwCtRVZzwi/GAhMVJbPA==\",\"dtype\":\"float64\",\"shape\":[50]}},\"selected\":{\"id\":\"1234\",\"type\":\"Selection\"},\"selection_policy\":{\"id\":\"1233\",\"type\":\"UnionRenderers\"}},\"id\":\"1081\",\"type\":\"ColumnDataSource\"},{\"attributes\":{},\"id\":\"1234\",\"type\":\"Selection\"},{\"attributes\":{},\"id\":\"1027\",\"type\":\"ResetTool\"},{\"attributes\":{\"plot\":null,\"text\":\"Methods Comparison\"},\"id\":\"1002\",\"type\":\"Title\"},{\"attributes\":{\"line_alpha\":0.1,\"line_color\":\"#1f77b4\",\"x\":{\"field\":\"x\"},\"y\":{\"field\":\"y\"}},\"id\":\"1067\",\"type\":\"Line\"},{\"attributes\":{},\"id\":\"1028\",\"type\":\"HelpTool\"},{\"attributes\":{\"dimension\":1,\"plot\":{\"id\":\"1003\",\"subtype\":\"Figure\",\"type\":\"Plot\"},\"ticker\":{\"id\":\"1019\",\"type\":\"BasicTicker\"}},\"id\":\"1022\",\"type\":\"Grid\"},{\"attributes\":{\"data_source\":{\"id\":\"1065\",\"type\":\"ColumnDataSource\"},\"glyph\":{\"id\":\"1066\",\"type\":\"Line\"},\"hover_glyph\":null,\"muted_glyph\":null,\"nonselection_glyph\":{\"id\":\"1067\",\"type\":\"Line\"},\"selection_glyph\":null,\"view\":{\"id\":\"1069\",\"type\":\"CDSView\"}},\"id\":\"1068\",\"type\":\"GlyphRenderer\"},{\"attributes\":{\"active_drag\":\"auto\",\"active_inspect\":\"auto\",\"active_multi\":null,\"active_scroll\":\"auto\",\"active_tap\":\"auto\",\"tools\":[{\"id\":\"1023\",\"type\":\"PanTool\"},{\"id\":\"1024\",\"type\":\"WheelZoomTool\"},{\"id\":\"1025\",\"type\":\"BoxZoomTool\"},{\"id\":\"1026\",\"type\":\"SaveTool\"},{\"id\":\"1027\",\"type\":\"ResetTool\"},{\"id\":\"1028\",\"type\":\"HelpTool\"}]},\"id\":\"1029\",\"type\":\"Toolbar\"},{\"attributes\":{\"items\":[{\"id\":\"1050\",\"type\":\"LegendItem\"},{\"id\":\"1064\",\"type\":\"LegendItem\"},{\"id\":\"1080\",\"type\":\"LegendItem\"},{\"id\":\"1098\",\"type\":\"LegendItem\"}],\"plot\":{\"id\":\"1003\",\"subtype\":\"Figure\",\"type\":\"Plot\"}},\"id\":\"1049\",\"type\":\"Legend\"},{\"attributes\":{\"source\":{\"id\":\"1065\",\"type\":\"ColumnDataSource\"}},\"id\":\"1069\",\"type\":\"CDSView\"},{\"attributes\":{},\"id\":\"1014\",\"type\":\"BasicTicker\"},{\"attributes\":{},\"id\":\"1077\",\"type\":\"UnionRenderers\"},{\"attributes\":{\"bottom_units\":\"screen\",\"fill_alpha\":{\"value\":0.5},\"fill_color\":{\"value\":\"lightgrey\"},\"left_units\":\"screen\",\"level\":\"overlay\",\"line_alpha\":{\"value\":1.0},\"line_color\":{\"value\":\"black\"},\"line_dash\":[4,4],\"line_width\":{\"value\":2},\"plot\":null,\"render_mode\":\"css\",\"right_units\":\"screen\",\"top_units\":\"screen\"},\"id\":\"1031\",\"type\":\"BoxAnnotation\"},{\"attributes\":{},\"id\":\"1011\",\"type\":\"LinearScale\"},{\"attributes\":{\"line_alpha\":0.1,\"line_color\":\"#1f77b4\",\"x\":{\"field\":\"x\"},\"y\":{\"field\":\"y\"}},\"id\":\"1040\",\"type\":\"Line\"},{\"attributes\":{},\"id\":\"1078\",\"type\":\"Selection\"},{\"attributes\":{\"label\":{\"value\":\"Improved Euler method\"},\"renderers\":[{\"id\":\"1068\",\"type\":\"GlyphRenderer\"}]},\"id\":\"1080\",\"type\":\"LegendItem\"},{\"attributes\":{},\"id\":\"1045\",\"type\":\"BasicTickFormatter\"},{\"attributes\":{},\"id\":\"1047\",\"type\":\"BasicTickFormatter\"},{\"attributes\":{},\"id\":\"1009\",\"type\":\"LinearScale\"},{\"attributes\":{\"line_color\":\"#0000FF\",\"x\":{\"field\":\"x\"},\"y\":{\"field\":\"y\"}},\"id\":\"1082\",\"type\":\"Line\"},{\"attributes\":{\"label\":{\"value\":\"Exact solution\"},\"renderers\":[{\"id\":\"1041\",\"type\":\"GlyphRenderer\"}]},\"id\":\"1050\",\"type\":\"LegendItem\"},{\"attributes\":{\"line_alpha\":0.1,\"line_color\":\"#1f77b4\",\"x\":{\"field\":\"x\"},\"y\":{\"field\":\"y\"}},\"id\":\"1083\",\"type\":\"Line\"},{\"attributes\":{},\"id\":\"1233\",\"type\":\"UnionRenderers\"},{\"attributes\":{\"source\":{\"id\":\"1038\",\"type\":\"ColumnDataSource\"}},\"id\":\"1042\",\"type\":\"CDSView\"},{\"attributes\":{\"line_color\":\"#FF0000\",\"x\":{\"field\":\"x\"},\"y\":{\"field\":\"y\"}},\"id\":\"1052\",\"type\":\"Line\"},{\"attributes\":{\"data_source\":{\"id\":\"1081\",\"type\":\"ColumnDataSource\"},\"glyph\":{\"id\":\"1082\",\"type\":\"Line\"},\"hover_glyph\":null,\"muted_glyph\":null,\"nonselection_glyph\":{\"id\":\"1083\",\"type\":\"Line\"},\"selection_glyph\":null,\"view\":{\"id\":\"1085\",\"type\":\"CDSView\"}},\"id\":\"1084\",\"type\":\"GlyphRenderer\"},{\"attributes\":{\"callback\":null,\"data\":{\"x\":{\"__ndarray__\":\"AAAAAAAAAADInSXs5rfAP8idJezmt9A/rGw4YtoT2T/InSXs5rfgPzoFL6fg5eQ/rGw4YtoT6T8e1EEd1EHtP8idJezmt/A/gVGqyePO8j86BS+n4OX0P/O4s4Td/PY/rGw4YtoT+T9lIL0/1yr7Px7UQR3UQf0/14fG+tBY/z/InSXs5rcAQKT351plwwFAgVGqyePOAkBeq2w4YtoDQDoFL6fg5QRAFl/xFV/xBUDzuLOE3fwGQNASdvNbCAhArGw4YtoTCUCIxvrQWB8KQGUgvT/XKgtAQnp/rlU2DEAe1EEd1EENQPotBIxSTQ5A14fG+tBYD0DacMS0JzIQQMidJezmtxBAtsqGI6Y9EUCk9+daZcMRQJMkSZIkSRJAgVGqyePOEkBvfgsBo1QTQF6rbDhi2hNATNjNbyFgFEA6BS+n4OUUQCgykN6faxVAFl/xFV/xFUAFjFJNHncWQPO4s4Td/BZA4eUUvJyCF0DQEnbzWwgYQL4/1yobjhhArGw4YtoTGUCamZmZmZkZQA==\",\"dtype\":\"float64\",\"shape\":[50]},\"y\":{\"__ndarray__\":\"AAAAAAAAAEDDCXCFhbv/PxsyQ4Q+6v4/aFE22GSD/T+J5RtED3z7P42PzPUPzvg/lhZnaPaC9T8emHI508DxPwgu0CAYoes/RHkKzaok5D9M5dGZzXrbP05KtIjfmtE//zU6kvJXxT87Ms7tcbG4P2H/OQV+e6s/x3fJyHmhnT8E9XXhPiOPP+6SFX64CIA/LDQL7J9EcD9Ic2pi9VdgP5CS+JBYV1A/5bAqefZXQD/yD82e7m4wPzsDP6KvsSA/3A6B8Vk3ET+YHtQMRxsCP347G48LgfM+v2PdgbWa5T4cb3jixbLYPuZxaha5PM0+jv7+y7j4wT4CLmpB2wC3Pn94Ve9hua4+KT1TEk5zpT5PbbZsflyfPhbzN9z4CJg+pLxoEbdUkz6hd7FzGlSQPr3jNhCO/Iw+mQ/4pasLiz7R0ieGDYiKPsG0mu60XYs+TCb2qUGtjT6czfsMMeqQPpOW2LJYQ5Q+dYMS3ieAmT60g6wHjNmgPugZzYA8X6c+6Y/N+EQBsT4b4NzU+/G5Pg==\",\"dtype\":\"float64\",\"shape\":[50]}},\"selected\":{\"id\":\"1096\",\"type\":\"Selection\"},\"selection_policy\":{\"id\":\"1095\",\"type\":\"UnionRenderers\"}},\"id\":\"1065\",\"type\":\"ColumnDataSource\"},{\"attributes\":{\"axis_label\":\"y\",\"formatter\":{\"id\":\"1047\",\"type\":\"BasicTickFormatter\"},\"plot\":{\"id\":\"1003\",\"subtype\":\"Figure\",\"type\":\"Plot\"},\"ticker\":{\"id\":\"1019\",\"type\":\"BasicTicker\"}},\"id\":\"1018\",\"type\":\"LinearAxis\"},{\"attributes\":{\"source\":{\"id\":\"1081\",\"type\":\"ColumnDataSource\"}},\"id\":\"1085\",\"type\":\"CDSView\"},{\"attributes\":{\"callback\":null,\"data\":{\"x\":{\"__ndarray__\":\"AAAAAAAAAADInSXs5rfAP8idJezmt9A/rGw4YtoT2T/InSXs5rfgPzoFL6fg5eQ/rGw4YtoT6T8e1EEd1EHtP8idJezmt/A/gVGqyePO8j86BS+n4OX0P/O4s4Td/PY/rGw4YtoT+T9lIL0/1yr7Px7UQR3UQf0/14fG+tBY/z/InSXs5rcAQKT351plwwFAgVGqyePOAkBeq2w4YtoDQDoFL6fg5QRAFl/xFV/xBUDzuLOE3fwGQNASdvNbCAhArGw4YtoTCUCIxvrQWB8KQGUgvT/XKgtAQnp/rlU2DEAe1EEd1EENQPotBIxSTQ5A14fG+tBYD0DacMS0JzIQQMidJezmtxBAtsqGI6Y9EUCk9+daZcMRQJMkSZIkSRJAgVGqyePOEkBvfgsBo1QTQF6rbDhi2hNATNjNbyFgFEA6BS+n4OUUQCgykN6faxVAFl/xFV/xFUAFjFJNHncWQPO4s4Td/BZA4eUUvJyCF0DQEnbzWwgYQL4/1yobjhhArGw4YtoTGUCamZmZmZkZQA==\",\"dtype\":\"float64\",\"shape\":[50]},\"y\":{\"__ndarray__\":\"AAAAAAAAAECaN2Yf1Ln/P+sgusTl4/4/ULp14QB1/T+N8N34x2H7P72ogEkMpPg/X6PNsWRG9T/rNE3eMXHxP9Mhcaa94Oo/CSeyb55N4z+rUAa317vZPxkf6iuI2M8/Xl4IChNbwj9B/R1vdM+zP2g5tjUQHaQ/H+kZU/xIkz8WWNUnCIKBP9kSm2HzJW4/Ck77QNqjWD8rn+yxHyBDPwdxe4AoNCw/lI0X+63BEz8FxLjVCEz6PqFjbYPEoOA+bhmDY6T6wz7s9JATzM6mPmRoJUHuvIg+ZMJXei9+aT5ovUOGzfVIPvVti1MjOCc+VunST66FBD4YpjqSwjvhPcHSA83Zf7s9clpY+YXYlD0rcilp/wZuPfV45nonjEQ9gNg7hs23Gj005v5aDYHwPHKF5jpXX8M8dr+E4NCalTw8/qRraORmPLV+a8TVCzc82TLRpDILBjy1RhP5bAjUO6zKM4UWTKE754wtRUVhbDtJr7Uryx42O3EwTdqPYQA7twQovi0NxzoRT69x1dGOOg==\",\"dtype\":\"float64\",\"shape\":[50]}},\"selected\":{\"id\":\"1062\",\"type\":\"Selection\"},\"selection_policy\":{\"id\":\"1061\",\"type\":\"UnionRenderers\"}},\"id\":\"1038\",\"type\":\"ColumnDataSource\"},{\"attributes\":{\"line_alpha\":0.1,\"line_color\":\"#1f77b4\",\"x\":{\"field\":\"x\"},\"y\":{\"field\":\"y\"}},\"id\":\"1053\",\"type\":\"Line\"},{\"attributes\":{},\"id\":\"1061\",\"type\":\"UnionRenderers\"},{\"attributes\":{},\"id\":\"1019\",\"type\":\"BasicTicker\"},{\"attributes\":{},\"id\":\"1095\",\"type\":\"UnionRenderers\"},{\"attributes\":{\"data_source\":{\"id\":\"1051\",\"type\":\"ColumnDataSource\"},\"glyph\":{\"id\":\"1052\",\"type\":\"Line\"},\"hover_glyph\":null,\"muted_glyph\":null,\"nonselection_glyph\":{\"id\":\"1053\",\"type\":\"Line\"},\"selection_glyph\":null,\"view\":{\"id\":\"1055\",\"type\":\"CDSView\"}},\"id\":\"1054\",\"type\":\"GlyphRenderer\"},{\"attributes\":{\"callback\":null,\"data\":{\"x\":{\"__ndarray__\":\"AAAAAAAAAADInSXs5rfAP8idJezmt9A/rGw4YtoT2T/InSXs5rfgPzoFL6fg5eQ/rGw4YtoT6T8e1EEd1EHtP8idJezmt/A/gVGqyePO8j86BS+n4OX0P/O4s4Td/PY/rGw4YtoT+T9lIL0/1yr7Px7UQR3UQf0/14fG+tBY/z/InSXs5rcAQKT351plwwFAgVGqyePOAkBeq2w4YtoDQDoFL6fg5QRAFl/xFV/xBUDzuLOE3fwGQNASdvNbCAhArGw4YtoTCUCIxvrQWB8KQGUgvT/XKgtAQnp/rlU2DEAe1EEd1EENQPotBIxSTQ5A14fG+tBYD0DacMS0JzIQQMidJezmtxBAtsqGI6Y9EUCk9+daZcMRQJMkSZIkSRJAgVGqyePOEkBvfgsBo1QTQF6rbDhi2hNATNjNbyFgFEA6BS+n4OUUQCgykN6faxVAFl/xFV/xFUAFjFJNHncWQPO4s4Td/BZA4eUUvJyCF0DQEnbzWwgYQL4/1yobjhhArGw4YtoTGUCamZmZmZkZQA==\",\"dtype\":\"float64\",\"shape\":[50]},\"y\":{\"__ndarray__\":\"AAAAAAAAAEAAAAAAAAAAQIcT4AoLd/8/o9OPALRg/j+FcDh8HbP8P/o53hNxYvo/gZNnCqpn9z9I/uQQxsvzP8x288ipbO8/3DY+5Gnx5j+oui77lx/ePxmtkMOoYtE/O9vnjhVTwT/uaexf1HitP16B/y+8P5U/5vD5gh26eT+sOSviUaZZP4iMsM3fTjQ/oOAzyqX0Bz8Iyrxm0qHSPiBG9F4gDow+ALKr/VtHBr5Q0kf76fvCPVDwPKAxaY+9mHuyj3VLYz3wgabWOnI/vZBV/S0X7x89oDTaKv1qA71UxFxVp4LrPDRS5RtLP9a8bJNhmv84xDw+AngdLWm0vG513NvwpaY80EVOHBVnm7ya5UaZtfORPCozg7p2Uom8NrKm0QkhgzwcY3HD8tF+vPTYzxS8X3o8qBYz6Vrkd7xYQHz6iNd2PHzq00vQ+3a8BMLkq2tHeDwiBhChc916vI669RTwEn88dxgBXRvAgry39OTqopGHPDFL1YTGzo68ptry5lHolDywf7JqGG2dvA==\",\"dtype\":\"float64\",\"shape\":[50]}},\"selected\":{\"id\":\"1078\",\"type\":\"Selection\"},\"selection_policy\":{\"id\":\"1077\",\"type\":\"UnionRenderers\"}},\"id\":\"1051\",\"type\":\"ColumnDataSource\"},{\"attributes\":{},\"id\":\"1096\",\"type\":\"Selection\"},{\"attributes\":{\"source\":{\"id\":\"1051\",\"type\":\"ColumnDataSource\"}},\"id\":\"1055\",\"type\":\"CDSView\"},{\"attributes\":{\"line_color\":\"#000000\",\"x\":{\"field\":\"x\"},\"y\":{\"field\":\"y\"}},\"id\":\"1039\",\"type\":\"Line\"},{\"attributes\":{\"label\":{\"value\":\"Runge-Kutta method\"},\"renderers\":[{\"id\":\"1084\",\"type\":\"GlyphRenderer\"}]},\"id\":\"1098\",\"type\":\"LegendItem\"}],\"root_ids\":[\"1003\"]},\"title\":\"Bokeh Application\",\"version\":\"1.0.0\"}};\n",
       "  var render_items = [{\"docid\":\"4e584062-41a2-4d06-b9f3-539679ca2233\",\"notebook_comms_target\":\"1236\",\"roots\":{\"1003\":\"46dd3208-49ef-4183-bb6d-710bfe3cf721\"}}];\n",
       "  root.Bokeh.embed.embed_items_notebook(docs_json, render_items);\n",
       "\n",
       "  }\n",
       "  if (root.Bokeh !== undefined) {\n",
       "    embed_document(root);\n",
       "  } else {\n",
       "    var attempts = 0;\n",
       "    var timer = setInterval(function(root) {\n",
       "      if (root.Bokeh !== undefined) {\n",
       "        embed_document(root);\n",
       "        clearInterval(timer);\n",
       "      }\n",
       "      attempts++;\n",
       "      if (attempts > 100) {\n",
       "        console.log(\"Bokeh: ERROR: Unable to run BokehJS code because BokehJS library is missing\");\n",
       "        clearInterval(timer);\n",
       "      }\n",
       "    }, 10, root)\n",
       "  }\n",
       "})(window);"
      ],
      "application/vnd.bokehjs_exec.v0+json": ""
     },
     "metadata": {
      "application/vnd.bokehjs_exec.v0+json": {
       "id": "1003"
      }
     },
     "output_type": "display_data"
    },
    {
     "data": {
      "text/html": [
       "\n",
       "\n",
       "\n",
       "\n",
       "\n",
       "\n",
       "  <div class=\"bk-root\" id=\"927cd8c0-c368-4b37-9f0a-8ec80e2bda17\"></div>\n"
      ]
     },
     "metadata": {},
     "output_type": "display_data"
    },
    {
     "data": {
      "application/javascript": [
       "(function(root) {\n",
       "  function embed_document(root) {\n",
       "    \n",
       "  var docs_json = {\"575f30ff-7f33-4cbb-b4c0-d3ef7279a7b6\":{\"roots\":{\"references\":[{\"attributes\":{\"below\":[{\"id\":\"1110\",\"type\":\"LinearAxis\"}],\"left\":[{\"id\":\"1115\",\"type\":\"LinearAxis\"}],\"plot_height\":400,\"plot_width\":400,\"renderers\":[{\"id\":\"1110\",\"type\":\"LinearAxis\"},{\"id\":\"1114\",\"type\":\"Grid\"},{\"id\":\"1115\",\"type\":\"LinearAxis\"},{\"id\":\"1119\",\"type\":\"Grid\"},{\"id\":\"1128\",\"type\":\"BoxAnnotation\"},{\"id\":\"1210\",\"type\":\"GlyphRenderer\"}],\"title\":{\"id\":\"1099\",\"type\":\"Title\"},\"toolbar\":{\"id\":\"1126\",\"type\":\"Toolbar\"},\"x_range\":{\"id\":\"1102\",\"type\":\"DataRange1d\"},\"x_scale\":{\"id\":\"1106\",\"type\":\"LinearScale\"},\"y_range\":{\"id\":\"1104\",\"type\":\"DataRange1d\"},\"y_scale\":{\"id\":\"1108\",\"type\":\"LinearScale\"}},\"id\":\"1100\",\"subtype\":\"Figure\",\"type\":\"Plot\"},{\"attributes\":{},\"id\":\"1340\",\"type\":\"UnionRenderers\"},{\"attributes\":{},\"id\":\"1339\",\"type\":\"BasicTickFormatter\"},{\"attributes\":{},\"id\":\"1120\",\"type\":\"PanTool\"},{\"attributes\":{\"line_color\":\"red\",\"line_width\":2,\"x\":{\"field\":\"x\"},\"y\":{\"field\":\"y\"}},\"id\":\"1208\",\"type\":\"Line\"},{\"attributes\":{},\"id\":\"1121\",\"type\":\"WheelZoomTool\"},{\"attributes\":{\"plot\":null,\"text\":\"Euler\"},\"id\":\"1099\",\"type\":\"Title\"},{\"attributes\":{\"overlay\":{\"id\":\"1128\",\"type\":\"BoxAnnotation\"}},\"id\":\"1122\",\"type\":\"BoxZoomTool\"},{\"attributes\":{\"line_alpha\":0.1,\"line_color\":\"#1f77b4\",\"line_width\":2,\"x\":{\"field\":\"x\"},\"y\":{\"field\":\"y\"}},\"id\":\"1209\",\"type\":\"Line\"},{\"attributes\":{\"callback\":null,\"data\":{\"x\":{\"__ndarray__\":\"AAAAAAAAAADInSXs5rfAP8idJezmt9A/rGw4YtoT2T/InSXs5rfgPzoFL6fg5eQ/rGw4YtoT6T8e1EEd1EHtP8idJezmt/A/gVGqyePO8j86BS+n4OX0P/O4s4Td/PY/rGw4YtoT+T9lIL0/1yr7Px7UQR3UQf0/14fG+tBY/z/InSXs5rcAQKT351plwwFAgVGqyePOAkBeq2w4YtoDQDoFL6fg5QRAFl/xFV/xBUDzuLOE3fwGQNASdvNbCAhArGw4YtoTCUCIxvrQWB8KQGUgvT/XKgtAQnp/rlU2DEAe1EEd1EENQPotBIxSTQ5A14fG+tBYD0DacMS0JzIQQMidJezmtxBAtsqGI6Y9EUCk9+daZcMRQJMkSZIkSRJAgVGqyePOEkBvfgsBo1QTQF6rbDhi2hNATNjNbyFgFEA6BS+n4OUUQCgykN6faxVAFl/xFV/xFUAFjFJNHncWQPO4s4Td/BZA4eUUvJyCF0DQEnbzWwgYQL4/1yobjhhArGw4YtoTGUCamZmZmZkZQA==\",\"dtype\":\"float64\",\"shape\":[50]},\"y\":{\"__ndarray__\":\"AAAAAAAAAACAGXIm+IqRP4BTvsSoZKI/YCpD42N2rT+A/6c1WBW1P9AT2aVM5rs/EIHPxCoKwT/oSr6UodTCP+RTCYqwL8I/mH5gpFsevT/0p6EQAY+xP8jYudlKZpc/MDIIstd/gD8oIZ/8KEyUP3LxbDtk+pI/y9m25Om0iT/B4R/Xe5p8P0gB5WcXnGs/Ba+pEjXkVz+XJR8N3PpCP/WzY/gkLSw/aozFHrnBEz+chDt2Bkz6PiIqEgHFoOA+L0NVFqT6wz6ZanVSzM6mPgg6RwHuvIg+D7cDyC9+aT4TIDkYzfVIPtTGhQUkOCc+sO9CDK2FBD7HSWAfxTvhPdNkC3rOf7s9wHZtYKHYlD30p3zLbwZuPSghUqK8jUQ9JwVTAT2uGj2XV8JN35/wPKoGQFpZjMI8IIXRmueTmzx0glOJqcpmPGeiGqiNbHg8nh+bRlUbeDz0Sk68deJ6PPCQQbRlEn88wmlSdSLAgjxZm+45opGHPAvbNpXGzo48OHE65lHolDyb6MFqGG2dPA==\",\"dtype\":\"float64\",\"shape\":[50]}},\"selected\":{\"id\":\"1341\",\"type\":\"Selection\"},\"selection_policy\":{\"id\":\"1340\",\"type\":\"UnionRenderers\"}},\"id\":\"1207\",\"type\":\"ColumnDataSource\"},{\"attributes\":{},\"id\":\"1123\",\"type\":\"SaveTool\"},{\"attributes\":{},\"id\":\"1337\",\"type\":\"BasicTickFormatter\"},{\"attributes\":{},\"id\":\"1124\",\"type\":\"ResetTool\"},{\"attributes\":{\"callback\":null},\"id\":\"1102\",\"type\":\"DataRange1d\"},{\"attributes\":{},\"id\":\"1125\",\"type\":\"HelpTool\"},{\"attributes\":{\"callback\":null},\"id\":\"1104\",\"type\":\"DataRange1d\"},{\"attributes\":{\"active_drag\":\"auto\",\"active_inspect\":\"auto\",\"active_multi\":null,\"active_scroll\":\"auto\",\"active_tap\":\"auto\",\"tools\":[{\"id\":\"1120\",\"type\":\"PanTool\"},{\"id\":\"1121\",\"type\":\"WheelZoomTool\"},{\"id\":\"1122\",\"type\":\"BoxZoomTool\"},{\"id\":\"1123\",\"type\":\"SaveTool\"},{\"id\":\"1124\",\"type\":\"ResetTool\"},{\"id\":\"1125\",\"type\":\"HelpTool\"}]},\"id\":\"1126\",\"type\":\"Toolbar\"},{\"attributes\":{},\"id\":\"1106\",\"type\":\"LinearScale\"},{\"attributes\":{\"bottom_units\":\"screen\",\"fill_alpha\":{\"value\":0.5},\"fill_color\":{\"value\":\"lightgrey\"},\"left_units\":\"screen\",\"level\":\"overlay\",\"line_alpha\":{\"value\":1.0},\"line_color\":{\"value\":\"black\"},\"line_dash\":[4,4],\"line_width\":{\"value\":2},\"plot\":null,\"render_mode\":\"css\",\"right_units\":\"screen\",\"top_units\":\"screen\"},\"id\":\"1128\",\"type\":\"BoxAnnotation\"},{\"attributes\":{},\"id\":\"1108\",\"type\":\"LinearScale\"},{\"attributes\":{\"formatter\":{\"id\":\"1337\",\"type\":\"BasicTickFormatter\"},\"plot\":{\"id\":\"1100\",\"subtype\":\"Figure\",\"type\":\"Plot\"},\"ticker\":{\"id\":\"1111\",\"type\":\"BasicTicker\"}},\"id\":\"1110\",\"type\":\"LinearAxis\"},{\"attributes\":{},\"id\":\"1111\",\"type\":\"BasicTicker\"},{\"attributes\":{\"plot\":{\"id\":\"1100\",\"subtype\":\"Figure\",\"type\":\"Plot\"},\"ticker\":{\"id\":\"1111\",\"type\":\"BasicTicker\"}},\"id\":\"1114\",\"type\":\"Grid\"},{\"attributes\":{\"data_source\":{\"id\":\"1207\",\"type\":\"ColumnDataSource\"},\"glyph\":{\"id\":\"1208\",\"type\":\"Line\"},\"hover_glyph\":null,\"muted_glyph\":null,\"nonselection_glyph\":{\"id\":\"1209\",\"type\":\"Line\"},\"selection_glyph\":null,\"view\":{\"id\":\"1211\",\"type\":\"CDSView\"}},\"id\":\"1210\",\"type\":\"GlyphRenderer\"},{\"attributes\":{\"formatter\":{\"id\":\"1339\",\"type\":\"BasicTickFormatter\"},\"plot\":{\"id\":\"1100\",\"subtype\":\"Figure\",\"type\":\"Plot\"},\"ticker\":{\"id\":\"1116\",\"type\":\"BasicTicker\"}},\"id\":\"1115\",\"type\":\"LinearAxis\"},{\"attributes\":{\"source\":{\"id\":\"1207\",\"type\":\"ColumnDataSource\"}},\"id\":\"1211\",\"type\":\"CDSView\"},{\"attributes\":{},\"id\":\"1116\",\"type\":\"BasicTicker\"},{\"attributes\":{\"dimension\":1,\"plot\":{\"id\":\"1100\",\"subtype\":\"Figure\",\"type\":\"Plot\"},\"ticker\":{\"id\":\"1116\",\"type\":\"BasicTicker\"}},\"id\":\"1119\",\"type\":\"Grid\"},{\"attributes\":{},\"id\":\"1341\",\"type\":\"Selection\"}],\"root_ids\":[\"1100\"]},\"title\":\"Bokeh Application\",\"version\":\"1.0.0\"}};\n",
       "  var render_items = [{\"docid\":\"575f30ff-7f33-4cbb-b4c0-d3ef7279a7b6\",\"notebook_comms_target\":\"1343\",\"roots\":{\"1100\":\"927cd8c0-c368-4b37-9f0a-8ec80e2bda17\"}}];\n",
       "  root.Bokeh.embed.embed_items_notebook(docs_json, render_items);\n",
       "\n",
       "  }\n",
       "  if (root.Bokeh !== undefined) {\n",
       "    embed_document(root);\n",
       "  } else {\n",
       "    var attempts = 0;\n",
       "    var timer = setInterval(function(root) {\n",
       "      if (root.Bokeh !== undefined) {\n",
       "        embed_document(root);\n",
       "        clearInterval(timer);\n",
       "      }\n",
       "      attempts++;\n",
       "      if (attempts > 100) {\n",
       "        console.log(\"Bokeh: ERROR: Unable to run BokehJS code because BokehJS library is missing\");\n",
       "        clearInterval(timer);\n",
       "      }\n",
       "    }, 10, root)\n",
       "  }\n",
       "})(window);"
      ],
      "application/vnd.bokehjs_exec.v0+json": ""
     },
     "metadata": {
      "application/vnd.bokehjs_exec.v0+json": {
       "id": "1100"
      }
     },
     "output_type": "display_data"
    },
    {
     "data": {
      "text/html": [
       "\n",
       "\n",
       "\n",
       "\n",
       "\n",
       "\n",
       "  <div class=\"bk-root\" id=\"3f8a9011-e6be-4d07-aff5-5a1c21eba782\"></div>\n"
      ]
     },
     "metadata": {},
     "output_type": "display_data"
    },
    {
     "data": {
      "application/javascript": [
       "(function(root) {\n",
       "  function embed_document(root) {\n",
       "    \n",
       "  var docs_json = {\"7045e2eb-0e28-4816-9b47-4c45b24c8b3c\":{\"roots\":{\"references\":[{\"attributes\":{\"below\":[{\"id\":\"1146\",\"type\":\"LinearAxis\"}],\"left\":[{\"id\":\"1151\",\"type\":\"LinearAxis\"}],\"plot_height\":400,\"plot_width\":400,\"renderers\":[{\"id\":\"1146\",\"type\":\"LinearAxis\"},{\"id\":\"1150\",\"type\":\"Grid\"},{\"id\":\"1151\",\"type\":\"LinearAxis\"},{\"id\":\"1155\",\"type\":\"Grid\"},{\"id\":\"1164\",\"type\":\"BoxAnnotation\"},{\"id\":\"1215\",\"type\":\"GlyphRenderer\"}],\"title\":{\"id\":\"1135\",\"type\":\"Title\"},\"toolbar\":{\"id\":\"1162\",\"type\":\"Toolbar\"},\"x_range\":{\"id\":\"1138\",\"type\":\"DataRange1d\"},\"x_scale\":{\"id\":\"1142\",\"type\":\"LinearScale\"},\"y_range\":{\"id\":\"1140\",\"type\":\"DataRange1d\"},\"y_scale\":{\"id\":\"1144\",\"type\":\"LinearScale\"}},\"id\":\"1136\",\"subtype\":\"Figure\",\"type\":\"Plot\"},{\"attributes\":{\"line_alpha\":0.1,\"line_color\":\"#1f77b4\",\"line_width\":2,\"x\":{\"field\":\"x\"},\"y\":{\"field\":\"y\"}},\"id\":\"1214\",\"type\":\"Line\"},{\"attributes\":{\"plot\":null,\"text\":\"Improved Euler\"},\"id\":\"1135\",\"type\":\"Title\"},{\"attributes\":{\"dimension\":1,\"plot\":{\"id\":\"1136\",\"subtype\":\"Figure\",\"type\":\"Plot\"},\"ticker\":{\"id\":\"1152\",\"type\":\"BasicTicker\"}},\"id\":\"1155\",\"type\":\"Grid\"},{\"attributes\":{\"callback\":null,\"data\":{\"x\":{\"__ndarray__\":\"AAAAAAAAAADInSXs5rfAP8idJezmt9A/rGw4YtoT2T/InSXs5rfgPzoFL6fg5eQ/rGw4YtoT6T8e1EEd1EHtP8idJezmt/A/gVGqyePO8j86BS+n4OX0P/O4s4Td/PY/rGw4YtoT+T9lIL0/1yr7Px7UQR3UQf0/14fG+tBY/z/InSXs5rcAQKT351plwwFAgVGqyePOAkBeq2w4YtoDQDoFL6fg5QRAFl/xFV/xBUDzuLOE3fwGQNASdvNbCAhArGw4YtoTCUCIxvrQWB8KQGUgvT/XKgtAQnp/rlU2DEAe1EEd1EENQPotBIxSTQ5A14fG+tBYD0DacMS0JzIQQMidJezmtxBAtsqGI6Y9EUCk9+daZcMRQJMkSZIkSRJAgVGqyePOEkBvfgsBo1QTQF6rbDhi2hNATNjNbyFgFEA6BS+n4OUUQCgykN6faxVAFl/xFV/xFUAFjFJNHncWQPO4s4Td/BZA4eUUvJyCF0DQEnbzWwgYQL4/1yobjhhArGw4YtoTGUCamZmZmZkZQA==\",\"dtype\":\"float64\",\"shape\":[50]},\"y\":{\"__ndarray__\":\"AAAAAAAAAAAAkCKdYBY7PwDARCT+Ylk/ADAuge3HbD8A/PQ9S0d6PwBo8yXWAYU/gJu5TNtIjj/AzFjJVuiTP6CG4UtPC5g/YEcKq4vhmj8QSrksXu+bPxis8yu36Zo/CL2OQfzmlz/o08D69YeTP+QXDz63eY0/UB1f6/qwhD/cOUFzbUJ7P3CcXUt3/nA/U8GYt1I3ZD/6lt7r2h9XP95I0gGnoUk/ZX6Pc4G/Oz9jB+MiXJQtPwJaELRGTx8/EfZkzoSXED/E2oXcC8ABP63wmLKRT/M+/QtjUjeB5T49TbX7SqbYPguPlQ3rNs0+XwEacXD3wT4tnFVjUQC3Pnfeoe8qua4+fUAQpkNzpT4qgNarelyfPj+31jf4CJg+Hu+w9rZUkz5KNJFvGlSQPknuAA+O/Iw+99nMpasLiz63GSKGDYiKPmL8me60XYs+QRD2qUGtjT5bzPsMMeqQPnCW2LJYQ5Q+cYMS3ieAmT60g6wHjNmgPugZzYA8X6c+6Y/N+EQBsT4b4NzU+/G5Pg==\",\"dtype\":\"float64\",\"shape\":[50]}},\"selected\":{\"id\":\"1420\",\"type\":\"Selection\"},\"selection_policy\":{\"id\":\"1419\",\"type\":\"UnionRenderers\"}},\"id\":\"1212\",\"type\":\"ColumnDataSource\"},{\"attributes\":{\"data_source\":{\"id\":\"1212\",\"type\":\"ColumnDataSource\"},\"glyph\":{\"id\":\"1213\",\"type\":\"Line\"},\"hover_glyph\":null,\"muted_glyph\":null,\"nonselection_glyph\":{\"id\":\"1214\",\"type\":\"Line\"},\"selection_glyph\":null,\"view\":{\"id\":\"1216\",\"type\":\"CDSView\"}},\"id\":\"1215\",\"type\":\"GlyphRenderer\"},{\"attributes\":{},\"id\":\"1419\",\"type\":\"UnionRenderers\"},{\"attributes\":{\"source\":{\"id\":\"1212\",\"type\":\"ColumnDataSource\"}},\"id\":\"1216\",\"type\":\"CDSView\"},{\"attributes\":{},\"id\":\"1156\",\"type\":\"PanTool\"},{\"attributes\":{},\"id\":\"1416\",\"type\":\"BasicTickFormatter\"},{\"attributes\":{},\"id\":\"1157\",\"type\":\"WheelZoomTool\"},{\"attributes\":{\"overlay\":{\"id\":\"1164\",\"type\":\"BoxAnnotation\"}},\"id\":\"1158\",\"type\":\"BoxZoomTool\"},{\"attributes\":{},\"id\":\"1159\",\"type\":\"SaveTool\"},{\"attributes\":{},\"id\":\"1160\",\"type\":\"ResetTool\"},{\"attributes\":{\"callback\":null},\"id\":\"1138\",\"type\":\"DataRange1d\"},{\"attributes\":{},\"id\":\"1161\",\"type\":\"HelpTool\"},{\"attributes\":{},\"id\":\"1420\",\"type\":\"Selection\"},{\"attributes\":{\"active_drag\":\"auto\",\"active_inspect\":\"auto\",\"active_multi\":null,\"active_scroll\":\"auto\",\"active_tap\":\"auto\",\"tools\":[{\"id\":\"1156\",\"type\":\"PanTool\"},{\"id\":\"1157\",\"type\":\"WheelZoomTool\"},{\"id\":\"1158\",\"type\":\"BoxZoomTool\"},{\"id\":\"1159\",\"type\":\"SaveTool\"},{\"id\":\"1160\",\"type\":\"ResetTool\"},{\"id\":\"1161\",\"type\":\"HelpTool\"}]},\"id\":\"1162\",\"type\":\"Toolbar\"},{\"attributes\":{\"callback\":null},\"id\":\"1140\",\"type\":\"DataRange1d\"},{\"attributes\":{},\"id\":\"1142\",\"type\":\"LinearScale\"},{\"attributes\":{\"bottom_units\":\"screen\",\"fill_alpha\":{\"value\":0.5},\"fill_color\":{\"value\":\"lightgrey\"},\"left_units\":\"screen\",\"level\":\"overlay\",\"line_alpha\":{\"value\":1.0},\"line_color\":{\"value\":\"black\"},\"line_dash\":[4,4],\"line_width\":{\"value\":2},\"plot\":null,\"render_mode\":\"css\",\"right_units\":\"screen\",\"top_units\":\"screen\"},\"id\":\"1164\",\"type\":\"BoxAnnotation\"},{\"attributes\":{},\"id\":\"1144\",\"type\":\"LinearScale\"},{\"attributes\":{\"formatter\":{\"id\":\"1416\",\"type\":\"BasicTickFormatter\"},\"plot\":{\"id\":\"1136\",\"subtype\":\"Figure\",\"type\":\"Plot\"},\"ticker\":{\"id\":\"1147\",\"type\":\"BasicTicker\"}},\"id\":\"1146\",\"type\":\"LinearAxis\"},{\"attributes\":{},\"id\":\"1147\",\"type\":\"BasicTicker\"},{\"attributes\":{\"plot\":{\"id\":\"1136\",\"subtype\":\"Figure\",\"type\":\"Plot\"},\"ticker\":{\"id\":\"1147\",\"type\":\"BasicTicker\"}},\"id\":\"1150\",\"type\":\"Grid\"},{\"attributes\":{\"formatter\":{\"id\":\"1418\",\"type\":\"BasicTickFormatter\"},\"plot\":{\"id\":\"1136\",\"subtype\":\"Figure\",\"type\":\"Plot\"},\"ticker\":{\"id\":\"1152\",\"type\":\"BasicTicker\"}},\"id\":\"1151\",\"type\":\"LinearAxis\"},{\"attributes\":{\"line_color\":\"red\",\"line_width\":2,\"x\":{\"field\":\"x\"},\"y\":{\"field\":\"y\"}},\"id\":\"1213\",\"type\":\"Line\"},{\"attributes\":{},\"id\":\"1418\",\"type\":\"BasicTickFormatter\"},{\"attributes\":{},\"id\":\"1152\",\"type\":\"BasicTicker\"}],\"root_ids\":[\"1136\"]},\"title\":\"Bokeh Application\",\"version\":\"1.0.0\"}};\n",
       "  var render_items = [{\"docid\":\"7045e2eb-0e28-4816-9b47-4c45b24c8b3c\",\"notebook_comms_target\":\"1422\",\"roots\":{\"1136\":\"3f8a9011-e6be-4d07-aff5-5a1c21eba782\"}}];\n",
       "  root.Bokeh.embed.embed_items_notebook(docs_json, render_items);\n",
       "\n",
       "  }\n",
       "  if (root.Bokeh !== undefined) {\n",
       "    embed_document(root);\n",
       "  } else {\n",
       "    var attempts = 0;\n",
       "    var timer = setInterval(function(root) {\n",
       "      if (root.Bokeh !== undefined) {\n",
       "        embed_document(root);\n",
       "        clearInterval(timer);\n",
       "      }\n",
       "      attempts++;\n",
       "      if (attempts > 100) {\n",
       "        console.log(\"Bokeh: ERROR: Unable to run BokehJS code because BokehJS library is missing\");\n",
       "        clearInterval(timer);\n",
       "      }\n",
       "    }, 10, root)\n",
       "  }\n",
       "})(window);"
      ],
      "application/vnd.bokehjs_exec.v0+json": ""
     },
     "metadata": {
      "application/vnd.bokehjs_exec.v0+json": {
       "id": "1136"
      }
     },
     "output_type": "display_data"
    },
    {
     "data": {
      "text/html": [
       "\n",
       "\n",
       "\n",
       "\n",
       "\n",
       "\n",
       "  <div class=\"bk-root\" id=\"abf6a514-0086-436a-964b-2a35b2f0b700\"></div>\n"
      ]
     },
     "metadata": {},
     "output_type": "display_data"
    },
    {
     "data": {
      "application/javascript": [
       "(function(root) {\n",
       "  function embed_document(root) {\n",
       "    \n",
       "  var docs_json = {\"0e1bea2d-a8d0-4e82-a2c2-fce4df9043f5\":{\"roots\":{\"references\":[{\"attributes\":{\"below\":[{\"id\":\"1182\",\"type\":\"LinearAxis\"}],\"left\":[{\"id\":\"1187\",\"type\":\"LinearAxis\"}],\"plot_height\":400,\"plot_width\":400,\"renderers\":[{\"id\":\"1182\",\"type\":\"LinearAxis\"},{\"id\":\"1186\",\"type\":\"Grid\"},{\"id\":\"1187\",\"type\":\"LinearAxis\"},{\"id\":\"1191\",\"type\":\"Grid\"},{\"id\":\"1200\",\"type\":\"BoxAnnotation\"},{\"id\":\"1220\",\"type\":\"GlyphRenderer\"}],\"title\":{\"id\":\"1171\",\"type\":\"Title\"},\"toolbar\":{\"id\":\"1198\",\"type\":\"Toolbar\"},\"x_range\":{\"id\":\"1174\",\"type\":\"DataRange1d\"},\"x_scale\":{\"id\":\"1178\",\"type\":\"LinearScale\"},\"y_range\":{\"id\":\"1176\",\"type\":\"DataRange1d\"},\"y_scale\":{\"id\":\"1180\",\"type\":\"LinearScale\"}},\"id\":\"1172\",\"subtype\":\"Figure\",\"type\":\"Plot\"},{\"attributes\":{},\"id\":\"1188\",\"type\":\"BasicTicker\"},{\"attributes\":{\"dimension\":1,\"plot\":{\"id\":\"1172\",\"subtype\":\"Figure\",\"type\":\"Plot\"},\"ticker\":{\"id\":\"1188\",\"type\":\"BasicTicker\"}},\"id\":\"1191\",\"type\":\"Grid\"},{\"attributes\":{\"plot\":null,\"text\":\"Runge Kutta\"},\"id\":\"1171\",\"type\":\"Title\"},{\"attributes\":{\"line_color\":\"red\",\"line_width\":2,\"x\":{\"field\":\"x\"},\"y\":{\"field\":\"y\"}},\"id\":\"1218\",\"type\":\"Line\"},{\"attributes\":{},\"id\":\"1192\",\"type\":\"PanTool\"},{\"attributes\":{\"line_alpha\":0.1,\"line_color\":\"#1f77b4\",\"line_width\":2,\"x\":{\"field\":\"x\"},\"y\":{\"field\":\"y\"}},\"id\":\"1219\",\"type\":\"Line\"},{\"attributes\":{},\"id\":\"1507\",\"type\":\"Selection\"},{\"attributes\":{},\"id\":\"1193\",\"type\":\"WheelZoomTool\"},{\"attributes\":{\"data_source\":{\"id\":\"1217\",\"type\":\"ColumnDataSource\"},\"glyph\":{\"id\":\"1218\",\"type\":\"Line\"},\"hover_glyph\":null,\"muted_glyph\":null,\"nonselection_glyph\":{\"id\":\"1219\",\"type\":\"Line\"},\"selection_glyph\":null,\"view\":{\"id\":\"1221\",\"type\":\"CDSView\"}},\"id\":\"1220\",\"type\":\"GlyphRenderer\"},{\"attributes\":{\"overlay\":{\"id\":\"1200\",\"type\":\"BoxAnnotation\"}},\"id\":\"1194\",\"type\":\"BoxZoomTool\"},{\"attributes\":{\"source\":{\"id\":\"1217\",\"type\":\"ColumnDataSource\"}},\"id\":\"1221\",\"type\":\"CDSView\"},{\"attributes\":{},\"id\":\"1195\",\"type\":\"SaveTool\"},{\"attributes\":{},\"id\":\"1506\",\"type\":\"UnionRenderers\"},{\"attributes\":{},\"id\":\"1196\",\"type\":\"ResetTool\"},{\"attributes\":{},\"id\":\"1197\",\"type\":\"HelpTool\"},{\"attributes\":{\"callback\":null},\"id\":\"1176\",\"type\":\"DataRange1d\"},{\"attributes\":{\"active_drag\":\"auto\",\"active_inspect\":\"auto\",\"active_multi\":null,\"active_scroll\":\"auto\",\"active_tap\":\"auto\",\"tools\":[{\"id\":\"1192\",\"type\":\"PanTool\"},{\"id\":\"1193\",\"type\":\"WheelZoomTool\"},{\"id\":\"1194\",\"type\":\"BoxZoomTool\"},{\"id\":\"1195\",\"type\":\"SaveTool\"},{\"id\":\"1196\",\"type\":\"ResetTool\"},{\"id\":\"1197\",\"type\":\"HelpTool\"}]},\"id\":\"1198\",\"type\":\"Toolbar\"},{\"attributes\":{},\"id\":\"1503\",\"type\":\"BasicTickFormatter\"},{\"attributes\":{\"bottom_units\":\"screen\",\"fill_alpha\":{\"value\":0.5},\"fill_color\":{\"value\":\"lightgrey\"},\"left_units\":\"screen\",\"level\":\"overlay\",\"line_alpha\":{\"value\":1.0},\"line_color\":{\"value\":\"black\"},\"line_dash\":[4,4],\"line_width\":{\"value\":2},\"plot\":null,\"render_mode\":\"css\",\"right_units\":\"screen\",\"top_units\":\"screen\"},\"id\":\"1200\",\"type\":\"BoxAnnotation\"},{\"attributes\":{},\"id\":\"1178\",\"type\":\"LinearScale\"},{\"attributes\":{},\"id\":\"1180\",\"type\":\"LinearScale\"},{\"attributes\":{},\"id\":\"1505\",\"type\":\"BasicTickFormatter\"},{\"attributes\":{\"formatter\":{\"id\":\"1503\",\"type\":\"BasicTickFormatter\"},\"plot\":{\"id\":\"1172\",\"subtype\":\"Figure\",\"type\":\"Plot\"},\"ticker\":{\"id\":\"1183\",\"type\":\"BasicTicker\"}},\"id\":\"1182\",\"type\":\"LinearAxis\"},{\"attributes\":{},\"id\":\"1183\",\"type\":\"BasicTicker\"},{\"attributes\":{\"callback\":null},\"id\":\"1174\",\"type\":\"DataRange1d\"},{\"attributes\":{\"plot\":{\"id\":\"1172\",\"subtype\":\"Figure\",\"type\":\"Plot\"},\"ticker\":{\"id\":\"1183\",\"type\":\"BasicTicker\"}},\"id\":\"1186\",\"type\":\"Grid\"},{\"attributes\":{\"callback\":null,\"data\":{\"x\":{\"__ndarray__\":\"AAAAAAAAAADInSXs5rfAP8idJezmt9A/rGw4YtoT2T/InSXs5rfgPzoFL6fg5eQ/rGw4YtoT6T8e1EEd1EHtP8idJezmt/A/gVGqyePO8j86BS+n4OX0P/O4s4Td/PY/rGw4YtoT+T9lIL0/1yr7Px7UQR3UQf0/14fG+tBY/z/InSXs5rcAQKT351plwwFAgVGqyePOAkBeq2w4YtoDQDoFL6fg5QRAFl/xFV/xBUDzuLOE3fwGQNASdvNbCAhArGw4YtoTCUCIxvrQWB8KQGUgvT/XKgtAQnp/rlU2DEAe1EEd1EENQPotBIxSTQ5A14fG+tBYD0DacMS0JzIQQMidJezmtxBAtsqGI6Y9EUCk9+daZcMRQJMkSZIkSRJAgVGqyePOEkBvfgsBo1QTQF6rbDhi2hNATNjNbyFgFEA6BS+n4OUUQCgykN6faxVAFl/xFV/xFUAFjFJNHncWQPO4s4Td/BZA4eUUvJyCF0DQEnbzWwgYQL4/1yobjhhArGw4YtoTGUCamZmZmZkZQA==\",\"dtype\":\"float64\",\"shape\":[50]},\"y\":{\"__ndarray__\":\"AAAAAAAAAAAAqLiwU1NGPwBsIpbqMWE/ABf7OxLMcT8AG/j+lrB+PwB9B37ufoc/wLigcCpHkD+AXQp7hmiUP8AL8KdC+JY/wF1Xn2IGlz8Q9bKi44CUP6g20ffMTJA/gP0gu21jhz+AAH78Ua9+P7DMYXWfoXI/MFQUnvwlZT+obO1giJlWPzR0grzU2UY/MHOThVrwNT+8KKuRdg0kP4b4QoEqfBE/iPOJndIj/T7eepritT3nPsJ3512XxNE+tFdOo0IUuj5UZZP7dmaiPsD7lYMcAYk+fkiUwYlkcD6AQO3zoMlUPgahF+NHkTk+GRN9y6KbHj6cuHdl5ugBPiiBv0eTmOQ9Ts+AAzNrxz1Vt97dLYSqPTXzHjY9Io49AE4HzIRUcT0Hubf7V1lUPV3LFQGimDg9lVD2i7fXHj1O9QKdnTMEPSJm3nN60Os81D6+0/Y61DzzqPYV6jq/PMwWY7Z2rak8h+Sr5HqPljx0UIqtuzyFPG8BcB8hd3U8dUCtBNRVZzx2bWogMVJbPA==\",\"dtype\":\"float64\",\"shape\":[50]}},\"selected\":{\"id\":\"1507\",\"type\":\"Selection\"},\"selection_policy\":{\"id\":\"1506\",\"type\":\"UnionRenderers\"}},\"id\":\"1217\",\"type\":\"ColumnDataSource\"},{\"attributes\":{\"formatter\":{\"id\":\"1505\",\"type\":\"BasicTickFormatter\"},\"plot\":{\"id\":\"1172\",\"subtype\":\"Figure\",\"type\":\"Plot\"},\"ticker\":{\"id\":\"1188\",\"type\":\"BasicTicker\"}},\"id\":\"1187\",\"type\":\"LinearAxis\"}],\"root_ids\":[\"1172\"]},\"title\":\"Bokeh Application\",\"version\":\"1.0.0\"}};\n",
       "  var render_items = [{\"docid\":\"0e1bea2d-a8d0-4e82-a2c2-fce4df9043f5\",\"notebook_comms_target\":\"1509\",\"roots\":{\"1172\":\"abf6a514-0086-436a-964b-2a35b2f0b700\"}}];\n",
       "  root.Bokeh.embed.embed_items_notebook(docs_json, render_items);\n",
       "\n",
       "  }\n",
       "  if (root.Bokeh !== undefined) {\n",
       "    embed_document(root);\n",
       "  } else {\n",
       "    var attempts = 0;\n",
       "    var timer = setInterval(function(root) {\n",
       "      if (root.Bokeh !== undefined) {\n",
       "        embed_document(root);\n",
       "        clearInterval(timer);\n",
       "      }\n",
       "      attempts++;\n",
       "      if (attempts > 100) {\n",
       "        console.log(\"Bokeh: ERROR: Unable to run BokehJS code because BokehJS library is missing\");\n",
       "        clearInterval(timer);\n",
       "      }\n",
       "    }, 10, root)\n",
       "  }\n",
       "})(window);"
      ],
      "application/vnd.bokehjs_exec.v0+json": ""
     },
     "metadata": {
      "application/vnd.bokehjs_exec.v0+json": {
       "id": "1172"
      }
     },
     "output_type": "display_data"
    },
    {
     "data": {
      "text/html": [
       "<p><code>&lt;Bokeh Notebook handle for <strong>In[14]</strong>&gt;</code></p>"
      ],
      "text/plain": [
       "<bokeh.io.notebook.CommsHandle at 0x7ff26b9c7160>"
      ]
     },
     "execution_count": 14,
     "metadata": {},
     "output_type": "execute_result"
    }
   ],
   "source": [
    "show(methods_graph, notebook_handle=True)\n",
    "show(error_1, notebook_handle=True)\n",
    "show(error_2, notebook_handle=True)\n",
    "show(error_3, notebook_handle=True)"
   ]
  },
  {
   "cell_type": "code",
   "execution_count": 15,
   "metadata": {},
   "outputs": [
    {
     "data": {
      "application/vnd.jupyter.widget-view+json": {
       "model_id": "59bfbbf0121c4c4f9df5858b2db67b1a",
       "version_major": 2,
       "version_minor": 0
      },
      "text/plain": [
       "interactive(children=(FloatSlider(value=0.0, description='x0', min=-100.0), FloatSlider(value=2.0, description…"
      ]
     },
     "metadata": {},
     "output_type": "display_data"
    },
    {
     "data": {
      "text/plain": [
       "<function __main__.update_plot(x0=0, y0=2, X=6.4, N_steps=50)>"
      ]
     },
     "execution_count": 15,
     "metadata": {},
     "output_type": "execute_result"
    }
   ],
   "source": [
    "interact(update_plot, x0=x0_widget, y0=y0_widget, X=X_widget,N_steps=N_steps_widget)\n",
    "\n"
   ]
  }
 ],
 "metadata": {
  "kernelspec": {
   "display_name": "Python 3",
   "language": "python",
   "name": "python3"
  },
  "language_info": {
   "codemirror_mode": {
    "name": "ipython",
    "version": 3
   },
   "file_extension": ".py",
   "mimetype": "text/x-python",
   "name": "python",
   "nbconvert_exporter": "python",
   "pygments_lexer": "ipython3",
   "version": "3.7.0"
  }
 },
 "nbformat": 4,
 "nbformat_minor": 2
}
