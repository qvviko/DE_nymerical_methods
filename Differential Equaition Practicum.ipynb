{
 "cells": [
  {
   "cell_type": "markdown",
   "metadata": {},
   "source": [
    "# Differential Equations Practicum\n",
    "The purpose of this activity is to implement and/or understand the principles of numerical methods in differential equations.\n",
    "\n",
    "Variant 24.\n",
    "\n",
    "Original Equation:\n",
    "\n",
    "$$\n",
    "y' = xy^2-3xy,\\:y(0)=2\\\\\n",
    "\\dfrac{y'}{y^2}=x-\\dfrac{3x}{y}\\\\\n",
    "z=1/y,\\:dz=-\\dfrac{dy}{y^2}\\\\\n",
    "-z'=x(1-3z)\\\\\n",
    "\\dfrac{z'}{3z-1}=x\\\\\n",
    "\\dfrac{\\ln{(3z-1)}}{3}=\\dfrac{x^2}{2}+C_1\\\\\n",
    "-1+3z=C_2e^{\\dfrac{3x^2}{2}}\\\\\n",
    "3\\dfrac{1}{y}=C_2e^{\\frac{3x^2}{2}}+1\\\\\n",
    "y=\\dfrac{3}{1+C_2e^{\\frac{3x^2}{2}}}\\\\\n",
    "For\\:y(0)=2\\:=>\\:2=\\dfrac{3}{C_2+1}\\:=>\\:C_2=\\frac{1}{2}\n",
    "$$\n",
    "\n",
    "Exact Solution:\n",
    "\n",
    "$$\n",
    "y=\\frac{6}{2+e^{\\frac{3x^2}{2}}}\n",
    "$$\n",
    "\n",
    "\n"
   ]
  },
  {
   "cell_type": "code",
   "execution_count": null,
   "metadata": {},
   "outputs": [],
   "source": [
    "import matplotlib.pyplot as plt\n",
    "    from math import exp"
   ]
  },
  {
   "cell_type": "code",
   "execution_count": 2,
   "metadata": {},
   "outputs": [],
   "source": [
    "def my_func(x, y):\n",
    "    return x * y * y - 3 * x * y"
   ]
  },
  {
   "cell_type": "code",
   "execution_count": 3,
   "metadata": {},
   "outputs": [],
   "source": [
    "def exact_func(x,y):\n",
    "    return 6/(exp(3*x*x/2)+2)"
   ]
  },
  {
   "cell_type": "code",
   "execution_count": 4,
   "metadata": {},
   "outputs": [],
   "source": [
    "def euler(func, x0, y0, X, N_steps):\n",
    "    x = [float(x0)]\n",
    "    y = [float(y0)]\n",
    "    h = (X - x0) / N_steps\n",
    "    for i in range(N_steps):\n",
    "        x.append(x[i] + h)\n",
    "        y.append(y[i] + h * func(x[i], y[i]))\n",
    "    return x, y"
   ]
  },
  {
   "cell_type": "code",
   "execution_count": 5,
   "metadata": {},
   "outputs": [],
   "source": [
    "def improved_euler(func, x0, y0, X, N_steps):\n",
    "    x = [x0]\n",
    "    y = [y0]\n",
    "    h = (X - x0) / N_steps\n",
    "    for i in range(N_steps):\n",
    "        x.append(x[i] + h)\n",
    "        m1 = func(x[i], y[i])\n",
    "        m2 = func(x[i + 1], y[i] + h * m1)\n",
    "        y.append(y[i] + h * (m1 + m2) / 2)\n",
    "    return x, y"
   ]
  },
  {
   "cell_type": "code",
   "execution_count": 6,
   "metadata": {},
   "outputs": [],
   "source": [
    "def runge_kutta(func, x0, y0, X, N_steps):\n",
    "    x = [x0]\n",
    "    y = [y0]\n",
    "    h = (X - x0) / N_steps\n",
    "    for i in range(N_steps):\n",
    "        x.append(x[i] + h)\n",
    "        k1 = h * func(x[i], y[i])\n",
    "        k2 = h * func(x[i] + h / 2, y[i] + k1 / 2)\n",
    "        k3 = h * func(x[i] + h / 2, y[i] + k2 / 2)\n",
    "        k4 = h * func(x[i] + h, y[i] + k3)\n",
    "        y.append(y[i] + (k1 + 2 * k2 + 2 * k3 + k4) / 6)\n",
    "    return x, y"
   ]
  },
  {
   "cell_type": "code",
   "execution_count": 7,
   "metadata": {},
   "outputs": [
    {
     "name": "stderr",
     "output_type": "stream",
     "text": [
      "/usr/lib/python3.7/site-packages/matplotlib/figure.py:457: UserWarning: matplotlib is currently using a non-GUI backend, so cannot show the figure\n",
      "  \"matplotlib is currently using a non-GUI backend, \"\n"
     ]
    },
    {
     "data": {
      "image/png": "[encoded data removed]",
      "text/plain": [
       "<Figure size 432x288 with 1 Axes>"
      ]
     },
     "metadata": {
      "needs_background": "light"
     },
     "output_type": "display_data"
    },
    {
     "data": {
      "image/png": "[encoded data removed]",
      "text/plain": [
       "<Figure size 432x288 with 1 Axes>"
      ]
     },
     "metadata": {
      "needs_background": "light"
     },
     "output_type": "display_data"
    },
    {
     "data": {
      "image/png": "[encoded data removed]",
      "text/plain": [
       "<Figure size 432x288 with 1 Axes>"
      ]
     },
     "metadata": {
      "needs_background": "light"
     },
     "output_type": "display_data"
    }
   ],
   "source": [
    "x0 = 0\n",
    "y0 = 2\n",
    "X = 6.4\n",
    "N_steps = 100\n",
    "(x, y) = euler(my_func, x0, y0, X, N_steps)\n",
    "fig, ax = plt.subplots()\n",
    "ax.plot(x, y)\n",
    "fig.show()\n",
    "(x, y) = improved_euler(my_func, x0, y0, X, N_steps)\n",
    "fig2, ax2 = plt.subplots()\n",
    "ax2.plot(x, y)\n",
    "fig2.show()\n",
    "(x, y) = improved_euler(my_func, x0, y0, X, N_steps)\n",
    "fig3, ax3 = plt.subplots()\n",
    "ax3.plot(x, y)\n",
    "fig3.show()"
   ]
  },
  {
   "cell_type": "code",
   "execution_count": null,
   "metadata": {},
   "outputs": [],
   "source": []
  }
 ],
 "metadata": {
  "kernelspec": {
   "display_name": "Python 3",
   "language": "python",
   "name": "python3"
  },
  "language_info": {
   "codemirror_mode": {
    "name": "ipython",
    "version": 3
   },
   "file_extension": ".py",
   "mimetype": "text/x-python",
   "name": "python",
   "nbconvert_exporter": "python",
   "pygments_lexer": "ipython3",
   "version": "3.7.0"
  }
 },
 "nbformat": 4,
 "nbformat_minor": 2
}
