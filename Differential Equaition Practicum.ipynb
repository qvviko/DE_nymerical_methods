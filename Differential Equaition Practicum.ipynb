{
 "cells": [
  {
   "cell_type": "markdown",
   "metadata": {},
   "source": [
    "# TODO\n",
    "2. Better compare???\n",
    "3. Pretify"
   ]
  },
  {
   "cell_type": "markdown",
   "metadata": {},
   "source": [
    "# Differential Equations Practicum\n",
    "The purpose of this activity is to implement and/or understand the principles of numerical methods in differential equations.\n",
    "\n",
    "Variant 24.\n",
    "\n",
    "Original Equation:\n",
    "\n",
    "$$\n",
    "y' = xy^2-3xy,\\:y(0)=2\\\\\n",
    "\\dfrac{y'}{y^2}=x-\\dfrac{3x}{y}\\\\\n",
    "z=1/y,\\:dz=-\\dfrac{dy}{y^2}\\\\\n",
    "-z'=x(1-3z)\\\\\n",
    "\\dfrac{z'}{3z-1}=x\\\\\n",
    "\\dfrac{\\ln{(3z-1)}}{3}=\\dfrac{x^2}{2}+C_1\\\\\n",
    "-1+3z=C_2e^{\\dfrac{3x^2}{2}}\\\\\n",
    "\\dfrac{3}{y}=C_2e^{\\frac{3x^2}{2}}+1\\\\\n",
    "y=\\dfrac{3}{1+C_2e^{\\frac{3x^2}{2}}}\\\\\n",
    "For\\:y(0)=2\\:=>\\:2=\\dfrac{3}{C_2+1}\\:=>\\:C_2=\\frac{1}{2}\n",
    "$$\n",
    "\n",
    "Exact Solution:\n",
    "\n",
    "$$\n",
    "y=\\frac{6}{2+e^{\\frac{3x^2}{2}}}\n",
    "$$\n",
    "\n"
   ]
  },
  {
   "cell_type": "code",
   "execution_count": 1,
   "metadata": {},
   "outputs": [
    {
     "data": {
      "text/html": [
       "\n",
       "    <div class=\"bk-root\">\n",
       "        <a href=\"https://bokeh.pydata.org\" target=\"_blank\" class=\"bk-logo bk-logo-small bk-logo-notebook\"></a>\n",
       "        <span id=\"1001\">Loading BokehJS ...</span>\n",
       "    </div>"
      ]
     },
     "metadata": {},
     "output_type": "display_data"
    },
    {
     "data": {
      "application/javascript": [
       "\n",
       "(function(root) {\n",
       "  function now() {\n",
       "    return new Date();\n",
       "  }\n",
       "\n",
       "  var force = true;\n",
       "\n",
       "  if (typeof (root._bokeh_onload_callbacks) === \"undefined\" || force === true) {\n",
       "    root._bokeh_onload_callbacks = [];\n",
       "    root._bokeh_is_loading = undefined;\n",
       "  }\n",
       "\n",
       "  var JS_MIME_TYPE = 'application/javascript';\n",
       "  var HTML_MIME_TYPE = 'text/html';\n",
       "  var EXEC_MIME_TYPE = 'application/vnd.bokehjs_exec.v0+json';\n",
       "  var CLASS_NAME = 'output_bokeh rendered_html';\n",
       "\n",
       "  /**\n",
       "   * Render data to the DOM node\n",
       "   */\n",
       "  function render(props, node) {\n",
       "    var script = document.createElement(\"script\");\n",
       "    node.appendChild(script);\n",
       "  }\n",
       "\n",
       "  /**\n",
       "   * Handle when an output is cleared or removed\n",
       "   */\n",
       "  function handleClearOutput(event, handle) {\n",
       "    var cell = handle.cell;\n",
       "\n",
       "    var id = cell.output_area._bokeh_element_id;\n",
       "    var server_id = cell.output_area._bokeh_server_id;\n",
       "    // Clean up Bokeh references\n",
       "    if (id != null && id in Bokeh.index) {\n",
       "      Bokeh.index[id].model.document.clear();\n",
       "      delete Bokeh.index[id];\n",
       "    }\n",
       "\n",
       "    if (server_id !== undefined) {\n",
       "      // Clean up Bokeh references\n",
       "      var cmd = \"from bokeh.io.state import curstate; print(curstate().uuid_to_server['\" + server_id + \"'].get_sessions()[0].document.roots[0]._id)\";\n",
       "      cell.notebook.kernel.execute(cmd, {\n",
       "        iopub: {\n",
       "          output: function(msg) {\n",
       "            var id = msg.content.text.trim();\n",
       "            if (id in Bokeh.index) {\n",
       "              Bokeh.index[id].model.document.clear();\n",
       "              delete Bokeh.index[id];\n",
       "            }\n",
       "          }\n",
       "        }\n",
       "      });\n",
       "      // Destroy server and session\n",
       "      var cmd = \"import bokeh.io.notebook as ion; ion.destroy_server('\" + server_id + \"')\";\n",
       "      cell.notebook.kernel.execute(cmd);\n",
       "    }\n",
       "  }\n",
       "\n",
       "  /**\n",
       "   * Handle when a new output is added\n",
       "   */\n",
       "  function handleAddOutput(event, handle) {\n",
       "    var output_area = handle.output_area;\n",
       "    var output = handle.output;\n",
       "\n",
       "    // limit handleAddOutput to display_data with EXEC_MIME_TYPE content only\n",
       "    if ((output.output_type != \"display_data\") || (!output.data.hasOwnProperty(EXEC_MIME_TYPE))) {\n",
       "      return\n",
       "    }\n",
       "\n",
       "    var toinsert = output_area.element.find(\".\" + CLASS_NAME.split(' ')[0]);\n",
       "\n",
       "    if (output.metadata[EXEC_MIME_TYPE][\"id\"] !== undefined) {\n",
       "      toinsert[toinsert.length - 1].firstChild.textContent = output.data[JS_MIME_TYPE];\n",
       "      // store reference to embed id on output_area\n",
       "      output_area._bokeh_element_id = output.metadata[EXEC_MIME_TYPE][\"id\"];\n",
       "    }\n",
       "    if (output.metadata[EXEC_MIME_TYPE][\"server_id\"] !== undefined) {\n",
       "      var bk_div = document.createElement(\"div\");\n",
       "      bk_div.innerHTML = output.data[HTML_MIME_TYPE];\n",
       "      var script_attrs = bk_div.children[0].attributes;\n",
       "      for (var i = 0; i < script_attrs.length; i++) {\n",
       "        toinsert[toinsert.length - 1].firstChild.setAttribute(script_attrs[i].name, script_attrs[i].value);\n",
       "      }\n",
       "      // store reference to server id on output_area\n",
       "      output_area._bokeh_server_id = output.metadata[EXEC_MIME_TYPE][\"server_id\"];\n",
       "    }\n",
       "  }\n",
       "\n",
       "  function register_renderer(events, OutputArea) {\n",
       "\n",
       "    function append_mime(data, metadata, element) {\n",
       "      // create a DOM node to render to\n",
       "      var toinsert = this.create_output_subarea(\n",
       "        metadata,\n",
       "        CLASS_NAME,\n",
       "        EXEC_MIME_TYPE\n",
       "      );\n",
       "      this.keyboard_manager.register_events(toinsert);\n",
       "      // Render to node\n",
       "      var props = {data: data, metadata: metadata[EXEC_MIME_TYPE]};\n",
       "      render(props, toinsert[toinsert.length - 1]);\n",
       "      element.append(toinsert);\n",
       "      return toinsert\n",
       "    }\n",
       "\n",
       "    /* Handle when an output is cleared or removed */\n",
       "    events.on('clear_output.CodeCell', handleClearOutput);\n",
       "    events.on('delete.Cell', handleClearOutput);\n",
       "\n",
       "    /* Handle when a new output is added */\n",
       "    events.on('output_added.OutputArea', handleAddOutput);\n",
       "\n",
       "    /**\n",
       "     * Register the mime type and append_mime function with output_area\n",
       "     */\n",
       "    OutputArea.prototype.register_mime_type(EXEC_MIME_TYPE, append_mime, {\n",
       "      /* Is output safe? */\n",
       "      safe: true,\n",
       "      /* Index of renderer in `output_area.display_order` */\n",
       "      index: 0\n",
       "    });\n",
       "  }\n",
       "\n",
       "  // register the mime type if in Jupyter Notebook environment and previously unregistered\n",
       "  if (root.Jupyter !== undefined) {\n",
       "    var events = require('base/js/events');\n",
       "    var OutputArea = require('notebook/js/outputarea').OutputArea;\n",
       "\n",
       "    if (OutputArea.prototype.mime_types().indexOf(EXEC_MIME_TYPE) == -1) {\n",
       "      register_renderer(events, OutputArea);\n",
       "    }\n",
       "  }\n",
       "\n",
       "  \n",
       "  if (typeof (root._bokeh_timeout) === \"undefined\" || force === true) {\n",
       "    root._bokeh_timeout = Date.now() + 5000;\n",
       "    root._bokeh_failed_load = false;\n",
       "  }\n",
       "\n",
       "  var NB_LOAD_WARNING = {'data': {'text/html':\n",
       "     \"<div style='background-color: #fdd'>\\n\"+\n",
       "     \"<p>\\n\"+\n",
       "     \"BokehJS does not appear to have successfully loaded. If loading BokehJS from CDN, this \\n\"+\n",
       "     \"may be due to a slow or bad network connection. Possible fixes:\\n\"+\n",
       "     \"</p>\\n\"+\n",
       "     \"<ul>\\n\"+\n",
       "     \"<li>re-rerun `output_notebook()` to attempt to load from CDN again, or</li>\\n\"+\n",
       "     \"<li>use INLINE resources instead, as so:</li>\\n\"+\n",
       "     \"</ul>\\n\"+\n",
       "     \"<code>\\n\"+\n",
       "     \"from bokeh.resources import INLINE\\n\"+\n",
       "     \"output_notebook(resources=INLINE)\\n\"+\n",
       "     \"</code>\\n\"+\n",
       "     \"</div>\"}};\n",
       "\n",
       "  function display_loaded() {\n",
       "    var el = document.getElementById(\"1001\");\n",
       "    if (el != null) {\n",
       "      el.textContent = \"BokehJS is loading...\";\n",
       "    }\n",
       "    if (root.Bokeh !== undefined) {\n",
       "      if (el != null) {\n",
       "        el.textContent = \"BokehJS \" + root.Bokeh.version + \" successfully loaded.\";\n",
       "      }\n",
       "    } else if (Date.now() < root._bokeh_timeout) {\n",
       "      setTimeout(display_loaded, 100)\n",
       "    }\n",
       "  }\n",
       "\n",
       "\n",
       "  function run_callbacks() {\n",
       "    try {\n",
       "      root._bokeh_onload_callbacks.forEach(function(callback) { callback() });\n",
       "    }\n",
       "    finally {\n",
       "      delete root._bokeh_onload_callbacks\n",
       "    }\n",
       "    console.info(\"Bokeh: all callbacks have finished\");\n",
       "  }\n",
       "\n",
       "  function load_libs(js_urls, callback) {\n",
       "    root._bokeh_onload_callbacks.push(callback);\n",
       "    if (root._bokeh_is_loading > 0) {\n",
       "      console.log(\"Bokeh: BokehJS is being loaded, scheduling callback at\", now());\n",
       "      return null;\n",
       "    }\n",
       "    if (js_urls == null || js_urls.length === 0) {\n",
       "      run_callbacks();\n",
       "      return null;\n",
       "    }\n",
       "    console.log(\"Bokeh: BokehJS not loaded, scheduling load and callback at\", now());\n",
       "    root._bokeh_is_loading = js_urls.length;\n",
       "    for (var i = 0; i < js_urls.length; i++) {\n",
       "      var url = js_urls[i];\n",
       "      var s = document.createElement('script');\n",
       "      s.src = url;\n",
       "      s.async = false;\n",
       "      s.onreadystatechange = s.onload = function() {\n",
       "        root._bokeh_is_loading--;\n",
       "        if (root._bokeh_is_loading === 0) {\n",
       "          console.log(\"Bokeh: all BokehJS libraries loaded\");\n",
       "          run_callbacks()\n",
       "        }\n",
       "      };\n",
       "      s.onerror = function() {\n",
       "        console.warn(\"failed to load library \" + url);\n",
       "      };\n",
       "      console.log(\"Bokeh: injecting script tag for BokehJS library: \", url);\n",
       "      document.getElementsByTagName(\"head\")[0].appendChild(s);\n",
       "    }\n",
       "  };var element = document.getElementById(\"1001\");\n",
       "  if (element == null) {\n",
       "    console.log(\"Bokeh: ERROR: autoload.js configured with elementid '1001' but no matching script tag was found. \")\n",
       "    return false;\n",
       "  }\n",
       "\n",
       "  var js_urls = [\"https://cdn.pydata.org/bokeh/release/bokeh-1.0.0.min.js\", \"https://cdn.pydata.org/bokeh/release/bokeh-widgets-1.0.0.min.js\", \"https://cdn.pydata.org/bokeh/release/bokeh-tables-1.0.0.min.js\", \"https://cdn.pydata.org/bokeh/release/bokeh-gl-1.0.0.min.js\"];\n",
       "\n",
       "  var inline_js = [\n",
       "    function(Bokeh) {\n",
       "      Bokeh.set_log_level(\"info\");\n",
       "    },\n",
       "    \n",
       "    function(Bokeh) {\n",
       "      \n",
       "    },\n",
       "    function(Bokeh) {\n",
       "      console.log(\"Bokeh: injecting CSS: https://cdn.pydata.org/bokeh/release/bokeh-1.0.0.min.css\");\n",
       "      Bokeh.embed.inject_css(\"https://cdn.pydata.org/bokeh/release/bokeh-1.0.0.min.css\");\n",
       "      console.log(\"Bokeh: injecting CSS: https://cdn.pydata.org/bokeh/release/bokeh-widgets-1.0.0.min.css\");\n",
       "      Bokeh.embed.inject_css(\"https://cdn.pydata.org/bokeh/release/bokeh-widgets-1.0.0.min.css\");\n",
       "      console.log(\"Bokeh: injecting CSS: https://cdn.pydata.org/bokeh/release/bokeh-tables-1.0.0.min.css\");\n",
       "      Bokeh.embed.inject_css(\"https://cdn.pydata.org/bokeh/release/bokeh-tables-1.0.0.min.css\");\n",
       "    }\n",
       "  ];\n",
       "\n",
       "  function run_inline_js() {\n",
       "    \n",
       "    if ((root.Bokeh !== undefined) || (force === true)) {\n",
       "      for (var i = 0; i < inline_js.length; i++) {\n",
       "        inline_js[i].call(root, root.Bokeh);\n",
       "      }if (force === true) {\n",
       "        display_loaded();\n",
       "      }} else if (Date.now() < root._bokeh_timeout) {\n",
       "      setTimeout(run_inline_js, 100);\n",
       "    } else if (!root._bokeh_failed_load) {\n",
       "      console.log(\"Bokeh: BokehJS failed to load within specified timeout.\");\n",
       "      root._bokeh_failed_load = true;\n",
       "    } else if (force !== true) {\n",
       "      var cell = $(document.getElementById(\"1001\")).parents('.cell').data().cell;\n",
       "      cell.output_area.append_execute_result(NB_LOAD_WARNING)\n",
       "    }\n",
       "\n",
       "  }\n",
       "\n",
       "  if (root._bokeh_is_loading === 0) {\n",
       "    console.log(\"Bokeh: BokehJS loaded, going straight to plotting\");\n",
       "    run_inline_js();\n",
       "  } else {\n",
       "    load_libs(js_urls, function() {\n",
       "      console.log(\"Bokeh: BokehJS plotting callback run at\", now());\n",
       "      run_inline_js();\n",
       "    });\n",
       "  }\n",
       "}(window));"
      ],
      "application/vnd.bokehjs_load.v0+json": "\n(function(root) {\n  function now() {\n    return new Date();\n  }\n\n  var force = true;\n\n  if (typeof (root._bokeh_onload_callbacks) === \"undefined\" || force === true) {\n    root._bokeh_onload_callbacks = [];\n    root._bokeh_is_loading = undefined;\n  }\n\n  \n\n  \n  if (typeof (root._bokeh_timeout) === \"undefined\" || force === true) {\n    root._bokeh_timeout = Date.now() + 5000;\n    root._bokeh_failed_load = false;\n  }\n\n  var NB_LOAD_WARNING = {'data': {'text/html':\n     \"<div style='background-color: #fdd'>\\n\"+\n     \"<p>\\n\"+\n     \"BokehJS does not appear to have successfully loaded. If loading BokehJS from CDN, this \\n\"+\n     \"may be due to a slow or bad network connection. Possible fixes:\\n\"+\n     \"</p>\\n\"+\n     \"<ul>\\n\"+\n     \"<li>re-rerun `output_notebook()` to attempt to load from CDN again, or</li>\\n\"+\n     \"<li>use INLINE resources instead, as so:</li>\\n\"+\n     \"</ul>\\n\"+\n     \"<code>\\n\"+\n     \"from bokeh.resources import INLINE\\n\"+\n     \"output_notebook(resources=INLINE)\\n\"+\n     \"</code>\\n\"+\n     \"</div>\"}};\n\n  function display_loaded() {\n    var el = document.getElementById(\"1001\");\n    if (el != null) {\n      el.textContent = \"BokehJS is loading...\";\n    }\n    if (root.Bokeh !== undefined) {\n      if (el != null) {\n        el.textContent = \"BokehJS \" + root.Bokeh.version + \" successfully loaded.\";\n      }\n    } else if (Date.now() < root._bokeh_timeout) {\n      setTimeout(display_loaded, 100)\n    }\n  }\n\n\n  function run_callbacks() {\n    try {\n      root._bokeh_onload_callbacks.forEach(function(callback) { callback() });\n    }\n    finally {\n      delete root._bokeh_onload_callbacks\n    }\n    console.info(\"Bokeh: all callbacks have finished\");\n  }\n\n  function load_libs(js_urls, callback) {\n    root._bokeh_onload_callbacks.push(callback);\n    if (root._bokeh_is_loading > 0) {\n      console.log(\"Bokeh: BokehJS is being loaded, scheduling callback at\", now());\n      return null;\n    }\n    if (js_urls == null || js_urls.length === 0) {\n      run_callbacks();\n      return null;\n    }\n    console.log(\"Bokeh: BokehJS not loaded, scheduling load and callback at\", now());\n    root._bokeh_is_loading = js_urls.length;\n    for (var i = 0; i < js_urls.length; i++) {\n      var url = js_urls[i];\n      var s = document.createElement('script');\n      s.src = url;\n      s.async = false;\n      s.onreadystatechange = s.onload = function() {\n        root._bokeh_is_loading--;\n        if (root._bokeh_is_loading === 0) {\n          console.log(\"Bokeh: all BokehJS libraries loaded\");\n          run_callbacks()\n        }\n      };\n      s.onerror = function() {\n        console.warn(\"failed to load library \" + url);\n      };\n      console.log(\"Bokeh: injecting script tag for BokehJS library: \", url);\n      document.getElementsByTagName(\"head\")[0].appendChild(s);\n    }\n  };var element = document.getElementById(\"1001\");\n  if (element == null) {\n    console.log(\"Bokeh: ERROR: autoload.js configured with elementid '1001' but no matching script tag was found. \")\n    return false;\n  }\n\n  var js_urls = [\"https://cdn.pydata.org/bokeh/release/bokeh-1.0.0.min.js\", \"https://cdn.pydata.org/bokeh/release/bokeh-widgets-1.0.0.min.js\", \"https://cdn.pydata.org/bokeh/release/bokeh-tables-1.0.0.min.js\", \"https://cdn.pydata.org/bokeh/release/bokeh-gl-1.0.0.min.js\"];\n\n  var inline_js = [\n    function(Bokeh) {\n      Bokeh.set_log_level(\"info\");\n    },\n    \n    function(Bokeh) {\n      \n    },\n    function(Bokeh) {\n      console.log(\"Bokeh: injecting CSS: https://cdn.pydata.org/bokeh/release/bokeh-1.0.0.min.css\");\n      Bokeh.embed.inject_css(\"https://cdn.pydata.org/bokeh/release/bokeh-1.0.0.min.css\");\n      console.log(\"Bokeh: injecting CSS: https://cdn.pydata.org/bokeh/release/bokeh-widgets-1.0.0.min.css\");\n      Bokeh.embed.inject_css(\"https://cdn.pydata.org/bokeh/release/bokeh-widgets-1.0.0.min.css\");\n      console.log(\"Bokeh: injecting CSS: https://cdn.pydata.org/bokeh/release/bokeh-tables-1.0.0.min.css\");\n      Bokeh.embed.inject_css(\"https://cdn.pydata.org/bokeh/release/bokeh-tables-1.0.0.min.css\");\n    }\n  ];\n\n  function run_inline_js() {\n    \n    if ((root.Bokeh !== undefined) || (force === true)) {\n      for (var i = 0; i < inline_js.length; i++) {\n        inline_js[i].call(root, root.Bokeh);\n      }if (force === true) {\n        display_loaded();\n      }} else if (Date.now() < root._bokeh_timeout) {\n      setTimeout(run_inline_js, 100);\n    } else if (!root._bokeh_failed_load) {\n      console.log(\"Bokeh: BokehJS failed to load within specified timeout.\");\n      root._bokeh_failed_load = true;\n    } else if (force !== true) {\n      var cell = $(document.getElementById(\"1001\")).parents('.cell').data().cell;\n      cell.output_area.append_execute_result(NB_LOAD_WARNING)\n    }\n\n  }\n\n  if (root._bokeh_is_loading === 0) {\n    console.log(\"Bokeh: BokehJS loaded, going straight to plotting\");\n    run_inline_js();\n  } else {\n    load_libs(js_urls, function() {\n      console.log(\"Bokeh: BokehJS plotting callback run at\", now());\n      run_inline_js();\n    });\n  }\n}(window));"
     },
     "metadata": {},
     "output_type": "display_data"
    }
   ],
   "source": [
    "from math import exp\n",
    "from ipywidgets import interact, interactive, fixed, interact_manual\n",
    "import ipywidgets as widgets\n",
    "from bokeh.plotting import figure, show\n",
    "from bokeh.io import output_notebook, push_notebook\n",
    "import numpy\n",
    "output_notebook()"
   ]
  },
  {
   "cell_type": "markdown",
   "metadata": {},
   "source": [
    "## Definition of original and exact solution functions"
   ]
  },
  {
   "cell_type": "code",
   "execution_count": 2,
   "metadata": {},
   "outputs": [],
   "source": [
    "def my_func(x, y):\n",
    "    return x * y * y - 3 * x * y"
   ]
  },
  {
   "cell_type": "code",
   "execution_count": 3,
   "metadata": {},
   "outputs": [],
   "source": [
    "def exact_func(x,C):\n",
    "    return 3/(C*exp(3*x*x/2)+1)"
   ]
  },
  {
   "cell_type": "markdown",
   "metadata": {},
   "source": [
    "## Helper functions"
   ]
  },
  {
   "cell_type": "code",
   "execution_count": 4,
   "metadata": {},
   "outputs": [],
   "source": [
    "def get_x(xs, xf, N):\n",
    "    return numpy.linspace(xs, xf, N)"
   ]
  },
  {
   "cell_type": "markdown",
   "metadata": {},
   "source": [
    "# Computation for the exact function\n",
    "Receive initial value for x and y, end of the interval [x0,X] and number of steps to perform"
   ]
  },
  {
   "cell_type": "code",
   "execution_count": 5,
   "metadata": {},
   "outputs": [],
   "source": [
    "def exact(func, x0, y0, X, N_steps):\n",
    "    x = get_x(x0, X, N_steps)\n",
    "    y = [y0]\n",
    "    # Compute the constant of the general solution\n",
    "    C = (3/y0-1)/exp(3*x0*x0/2)\n",
    "    \n",
    "    # Compute ys and store them into the array\n",
    "    for i in range(N_steps):\n",
    "        y.append(exact_func(x[i],C))\n",
    "    return x, y"
   ]
  },
  {
   "cell_type": "markdown",
   "metadata": {},
   "source": [
    "## Euler Method"
   ]
  },
  {
   "cell_type": "code",
   "execution_count": 6,
   "metadata": {},
   "outputs": [],
   "source": [
    "# Get function, initial value for x and y, end of the interval [x0,X] and number of steps to perform\n",
    "def euler(func, x0, y0, X, N_steps):\n",
    "    # Resulting pairs of x, y will be stored in arrays\n",
    "    x = get_x(x0, X, N_steps)\n",
    "    y = [y0]\n",
    "    \n",
    "    # Calculate the step for x\n",
    "    h = (X - x0) / float(N_steps)\n",
    "    \n",
    "    # Loop until 50 elements (-1 because we start with y0)\n",
    "    for i in range(N_steps-1):\n",
    "        # Perform Euler method\n",
    "        # y(i+1)=yi+h*f(xi,yi)\n",
    "        y.append(y[i] + h * func(x[i], y[i]))\n",
    "    return x, y"
   ]
  },
  {
   "cell_type": "markdown",
   "metadata": {},
   "source": [
    "## Improved Euler Method"
   ]
  },
  {
   "cell_type": "code",
   "execution_count": 7,
   "metadata": {},
   "outputs": [],
   "source": [
    "# Get function, initial value for x and y, end of the interval [x0,X] and number of steps to perform\n",
    "def improved_euler(func, x0, y0, X, N_steps):\n",
    "    # Resulting pairs of x, y will be stored in arrays\n",
    "    x = get_x(x0, X, N_steps)\n",
    "    y = [y0]\n",
    "    \n",
    "    # Calculate the step for x\n",
    "    h = (X - x0) / float(N_steps)\n",
    "\n",
    "    # Loop until 50 elements (-1 because we start with y0)\n",
    "    for i in range(N_steps-1):\n",
    "        # Perform Improved Euler Method\n",
    "        # y(i+1) = yi + h/2 * (f(xi,yi)+f(x(i+1),yi+h*f(xi,yi)))\n",
    "        # where m1 = f(xi,yi) and m2 = f(x(i+1),yi+h*m1)\n",
    "        m1 = func(x[i], y[i])\n",
    "        m2 = func(x[i + 1], y[i] + h * m1)\n",
    "        y.append(y[i] + (h * (m1 + m2)) / 2)\n",
    "    return x, y"
   ]
  },
  {
   "cell_type": "markdown",
   "metadata": {},
   "source": [
    "## Runge Kutta Method"
   ]
  },
  {
   "cell_type": "code",
   "execution_count": 8,
   "metadata": {},
   "outputs": [],
   "source": [
    "# Get function, initial value for x and y, end of the interval [x,X0] and number of steps to perform\n",
    "def runge_kutta(func, x0, y0, X, N_steps):\n",
    "    # Resulting pairs of x, y will be stored in arrays  \n",
    "    x = get_x(x0, X, N_steps)\n",
    "    y = [y0]\n",
    "    \n",
    "    # Calculate the step for x\n",
    "    h = (X - x0) / float(N_steps)\n",
    "    \n",
    "    # Loop until 50 elements (-1 because we start with y0)\n",
    "    for i in range(N_steps-1):\n",
    "        # Perform Runge-Kutta method\n",
    "        k1 = h * func(x[i], y[i])\n",
    "        k2 = h * func(x[i] + h / 2, y[i] + k1 / 2)\n",
    "        k3 = h * func(x[i] + h / 2, y[i] + k2 / 2)\n",
    "        k4 = h * func(x[i] + h, y[i] + k3)\n",
    "        y.append(y[i] + (k1 + 2 * k2 + 2 * k3 + k4) / 6)\n",
    "    return x, y"
   ]
  },
  {
   "cell_type": "markdown",
   "metadata": {},
   "source": [
    "Create widgets for changable x0, y0, X and number of steps"
   ]
  },
  {
   "cell_type": "code",
   "execution_count": 9,
   "metadata": {},
   "outputs": [],
   "source": [
    "x0_widget = widgets.FloatSlider(value=0, min=-100, max=100)\n",
    "y0_widget = widgets.FloatSlider(value=2, min=-100, max=100)\n",
    "X_widget = widgets.FloatSlider(value=6.4, min=-100, max=100)\n",
    "N_steps_widget = widgets.IntSlider(value=50, min=0, max=200)\n",
    "x0=0\n",
    "y0=2\n",
    "X=6.4\n",
    "N_steps=50"
   ]
  },
  {
   "cell_type": "code",
   "execution_count": 10,
   "metadata": {},
   "outputs": [],
   "source": [
    "def update_plot(x0=0, y0=2, X=6.4,N_steps=50):\n",
    "    xs=[]\n",
    "    ys=[]\n",
    "    for method in methods.values():\n",
    "        x, y = method(my_func,x0,y0,X,N_steps)\n",
    "        xs.append(x)\n",
    "        ys.append(y)\n",
    "    \n",
    "#     x = xs[0]\n",
    "#     y1 = [abs(y0-y1) for (y0,y1) in zip(ys[0],ys[-1])]\n",
    "#     y2 = [abs(y0-y1) for (y0,y1) in zip(ys[1],ys[-1])]\n",
    "#     y3 = [abs(y0-y1) for (y0,y1) in zip(ys[2],ys[-1])]\n",
    "\n",
    "    r.data_source.data['ys']=ys\n",
    "    r.data_source.data['xs']=xs\n",
    "    push_notebook()"
   ]
  },
  {
   "cell_type": "markdown",
   "metadata": {},
   "source": [
    "# Cant assume which one is first, fix"
   ]
  },
  {
   "cell_type": "code",
   "execution_count": 11,
   "metadata": {},
   "outputs": [],
   "source": [
    "methods = {'euler':euler,'improved_euler':improved_euler, 'runge_kutta':runge_kutta, 'exact':exact}\n",
    "xs=[]\n",
    "ys=[]\n",
    "for method in methods.values():\n",
    "    x, y = method(my_func, x0, y0, X, N_steps)\n",
    "    xs.append(x)\n",
    "    ys.append(y)\n"
   ]
  },
  {
   "cell_type": "markdown",
   "metadata": {},
   "source": [
    "## Comparison of methods via plotting\n",
    "We will compare different methods by plotting their graphs with the exact solution"
   ]
  },
  {
   "cell_type": "code",
   "execution_count": 12,
   "metadata": {},
   "outputs": [
    {
     "data": {
      "text/html": [
       "\n",
       "\n",
       "\n",
       "\n",
       "\n",
       "\n",
       "  <div class=\"bk-root\" id=\"6bef9634-a8c8-412b-8085-536e7a6f74d9\"></div>\n"
      ]
     },
     "metadata": {},
     "output_type": "display_data"
    },
    {
     "data": {
      "application/javascript": [
       "(function(root) {\n",
       "  function embed_document(root) {\n",
       "    \n",
       "  var docs_json = {\"48e26a13-4d45-41ce-8b5a-90d40228e319\":{\"roots\":{\"references\":[{\"attributes\":{\"below\":[{\"id\":\"1013\",\"type\":\"LinearAxis\"}],\"left\":[{\"id\":\"1018\",\"type\":\"LinearAxis\"}],\"plot_height\":400,\"plot_width\":400,\"renderers\":[{\"id\":\"1013\",\"type\":\"LinearAxis\"},{\"id\":\"1017\",\"type\":\"Grid\"},{\"id\":\"1018\",\"type\":\"LinearAxis\"},{\"id\":\"1022\",\"type\":\"Grid\"},{\"id\":\"1031\",\"type\":\"BoxAnnotation\"},{\"id\":\"1041\",\"type\":\"GlyphRenderer\"}],\"title\":{\"id\":\"1002\",\"type\":\"Title\"},\"toolbar\":{\"id\":\"1029\",\"type\":\"Toolbar\"},\"x_range\":{\"id\":\"1005\",\"type\":\"DataRange1d\"},\"x_scale\":{\"id\":\"1009\",\"type\":\"LinearScale\"},\"y_range\":{\"id\":\"1007\",\"type\":\"DataRange1d\"},\"y_scale\":{\"id\":\"1011\",\"type\":\"LinearScale\"}},\"id\":\"1003\",\"subtype\":\"Figure\",\"type\":\"Plot\"},{\"attributes\":{\"bottom_units\":\"screen\",\"fill_alpha\":{\"value\":0.5},\"fill_color\":{\"value\":\"lightgrey\"},\"left_units\":\"screen\",\"level\":\"overlay\",\"line_alpha\":{\"value\":1.0},\"line_color\":{\"value\":\"black\"},\"line_dash\":[4,4],\"line_width\":{\"value\":2},\"plot\":null,\"render_mode\":\"css\",\"right_units\":\"screen\",\"top_units\":\"screen\"},\"id\":\"1031\",\"type\":\"BoxAnnotation\"},{\"attributes\":{},\"id\":\"1011\",\"type\":\"LinearScale\"},{\"attributes\":{\"formatter\":{\"id\":\"1046\",\"type\":\"BasicTickFormatter\"},\"plot\":{\"id\":\"1003\",\"subtype\":\"Figure\",\"type\":\"Plot\"},\"ticker\":{\"id\":\"1014\",\"type\":\"BasicTicker\"}},\"id\":\"1013\",\"type\":\"LinearAxis\"},{\"attributes\":{},\"id\":\"1044\",\"type\":\"BasicTickFormatter\"},{\"attributes\":{},\"id\":\"1014\",\"type\":\"BasicTicker\"},{\"attributes\":{},\"id\":\"1046\",\"type\":\"BasicTickFormatter\"},{\"attributes\":{},\"id\":\"1049\",\"type\":\"UnionRenderers\"},{\"attributes\":{\"plot\":{\"id\":\"1003\",\"subtype\":\"Figure\",\"type\":\"Plot\"},\"ticker\":{\"id\":\"1014\",\"type\":\"BasicTicker\"}},\"id\":\"1017\",\"type\":\"Grid\"},{\"attributes\":{\"callback\":null,\"data\":{\"line_alpha\":[1.0,0.4,0.4,0.4],\"line_color\":[\"black\",\"green\",\"yellow\",\"blue\"],\"xs\":[{\"__ndarray__\":\"AAAAAAAAAADInSXs5rfAP8idJezmt9A/rGw4YtoT2T/InSXs5rfgPzoFL6fg5eQ/rGw4YtoT6T8e1EEd1EHtP8idJezmt/A/gVGqyePO8j86BS+n4OX0P/O4s4Td/PY/rGw4YtoT+T9lIL0/1yr7Px7UQR3UQf0/14fG+tBY/z/InSXs5rcAQKT351plwwFAgVGqyePOAkBeq2w4YtoDQDoFL6fg5QRAFl/xFV/xBUDzuLOE3fwGQNASdvNbCAhArGw4YtoTCUCIxvrQWB8KQGUgvT/XKgtAQnp/rlU2DEAe1EEd1EENQPotBIxSTQ5A14fG+tBYD0DacMS0JzIQQMidJezmtxBAtsqGI6Y9EUCk9+daZcMRQJMkSZIkSRJAgVGqyePOEkBvfgsBo1QTQF6rbDhi2hNATNjNbyFgFEA6BS+n4OUUQCgykN6faxVAFl/xFV/xFUAFjFJNHncWQPO4s4Td/BZA4eUUvJyCF0DQEnbzWwgYQL4/1yobjhhArGw4YtoTGUCamZmZmZkZQA==\",\"dtype\":\"float64\",\"shape\":[50]},{\"__ndarray__\":\"AAAAAAAAAADInSXs5rfAP8idJezmt9A/rGw4YtoT2T/InSXs5rfgPzoFL6fg5eQ/rGw4YtoT6T8e1EEd1EHtP8idJezmt/A/gVGqyePO8j86BS+n4OX0P/O4s4Td/PY/rGw4YtoT+T9lIL0/1yr7Px7UQR3UQf0/14fG+tBY/z/InSXs5rcAQKT351plwwFAgVGqyePOAkBeq2w4YtoDQDoFL6fg5QRAFl/xFV/xBUDzuLOE3fwGQNASdvNbCAhArGw4YtoTCUCIxvrQWB8KQGUgvT/XKgtAQnp/rlU2DEAe1EEd1EENQPotBIxSTQ5A14fG+tBYD0DacMS0JzIQQMidJezmtxBAtsqGI6Y9EUCk9+daZcMRQJMkSZIkSRJAgVGqyePOEkBvfgsBo1QTQF6rbDhi2hNATNjNbyFgFEA6BS+n4OUUQCgykN6faxVAFl/xFV/xFUAFjFJNHncWQPO4s4Td/BZA4eUUvJyCF0DQEnbzWwgYQL4/1yobjhhArGw4YtoTGUCamZmZmZkZQA==\",\"dtype\":\"float64\",\"shape\":[50]},{\"__ndarray__\":\"AAAAAAAAAADInSXs5rfAP8idJezmt9A/rGw4YtoT2T/InSXs5rfgPzoFL6fg5eQ/rGw4YtoT6T8e1EEd1EHtP8idJezmt/A/gVGqyePO8j86BS+n4OX0P/O4s4Td/PY/rGw4YtoT+T9lIL0/1yr7Px7UQR3UQf0/14fG+tBY/z/InSXs5rcAQKT351plwwFAgVGqyePOAkBeq2w4YtoDQDoFL6fg5QRAFl/xFV/xBUDzuLOE3fwGQNASdvNbCAhArGw4YtoTCUCIxvrQWB8KQGUgvT/XKgtAQnp/rlU2DEAe1EEd1EENQPotBIxSTQ5A14fG+tBYD0DacMS0JzIQQMidJezmtxBAtsqGI6Y9EUCk9+daZcMRQJMkSZIkSRJAgVGqyePOEkBvfgsBo1QTQF6rbDhi2hNATNjNbyFgFEA6BS+n4OUUQCgykN6faxVAFl/xFV/xFUAFjFJNHncWQPO4s4Td/BZA4eUUvJyCF0DQEnbzWwgYQL4/1yobjhhArGw4YtoTGUCamZmZmZkZQA==\",\"dtype\":\"float64\",\"shape\":[50]},{\"__ndarray__\":\"AAAAAAAAAADInSXs5rfAP8idJezmt9A/rGw4YtoT2T/InSXs5rfgPzoFL6fg5eQ/rGw4YtoT6T8e1EEd1EHtP8idJezmt/A/gVGqyePO8j86BS+n4OX0P/O4s4Td/PY/rGw4YtoT+T9lIL0/1yr7Px7UQR3UQf0/14fG+tBY/z/InSXs5rcAQKT351plwwFAgVGqyePOAkBeq2w4YtoDQDoFL6fg5QRAFl/xFV/xBUDzuLOE3fwGQNASdvNbCAhArGw4YtoTCUCIxvrQWB8KQGUgvT/XKgtAQnp/rlU2DEAe1EEd1EENQPotBIxSTQ5A14fG+tBYD0DacMS0JzIQQMidJezmtxBAtsqGI6Y9EUCk9+daZcMRQJMkSZIkSRJAgVGqyePOEkBvfgsBo1QTQF6rbDhi2hNATNjNbyFgFEA6BS+n4OUUQCgykN6faxVAFl/xFV/xFUAFjFJNHncWQPO4s4Td/BZA4eUUvJyCF0DQEnbzWwgYQL4/1yobjhhArGw4YtoTGUCamZmZmZkZQA==\",\"dtype\":\"float64\",\"shape\":[50]}],\"ys\":[[2,2.0,1.9665632653061225,1.8986091634699072,1.793729291187476,1.6490336204620903,1.462808647768924,1.237249437326584,0.9820145535302003,0.7169694383498739,0.47067832498116013,0.2716466817680199,0.13534802892510264,0.05756248160306031,0.02075094263989407,0.006281008987226699,0.0015655326503068818,0.000309877051849657,4.569178534014171e-05,4.442242793877792e-06,2.09027390487202e-07,-6.483968876929647e-10,3.453176582359384e-11,-3.5710074236698834e-12,5.483901359565601e-13,-1.117193814932011e-13,2.836304297501384e-14,-8.623291204582644e-15,3.0542641533423367e-15,-1.2349698942314456e-15,5.612912965814699e-16,-2.832573710585016e-16,1.571535017683267e-16,-9.507209558405842e-17,6.228347603928045e-17,-4.392688323175244e-17,3.318362264707242e-17,-2.6732184631050574e-17,2.2875766942887914e-17,-2.072301721784619e-17,1.9812219465185922e-17,-1.993513609207198e-17,2.105866408864068e-17,-2.3301712652139317e-17,2.695237770699531e-17,-3.2526789475031495e-17,4.08855105580845e-17,-5.344286932736919e-17,7.253746120263692e-17,-1.0209247968056359e-16],[2,1.9832816326530611,1.932188526773763,1.844578594759776,1.7177879963404357,1.5503081895376198,1.344473274062158,1.109576439289874,0.8634148255236491,0.6294759754853563,0.4293703081271658,0.2750777087214019,0.1667464460373793,0.09645759635731903,0.05367654622841545,0.028936293487610756,0.015203944449917468,0.007829133365427645,0.003971695609561936,0.0019950668968945796,0.0009973874001697781,0.0004987672312686513,0.00025075269404717306,0.00012736577002494552,6.567465277479027e-05,3.453550889714641e-05,1.860054266594355e-05,1.0301748314555063e-05,5.888541216882649e-06,3.4853457465246184e-06,2.1423780651451217e-06,1.3711062415736014e-06,9.15651041804235e-07,6.392720349970773e-07,4.6731984745261227e-07,3.5815011420452776e-07,2.88053131044855e-07,2.4331403709008694e-07,2.159665727205662e-07,2.0150533240625457e-07,1.9767475396806258e-07,2.0389290194181368e-07,2.211092651023358e-07,2.5205032459716934e-07,3.0194330488879436e-07,3.799886752562983e-07,5.021629613002514e-07,6.965403841284551e-07,1.0135745213907553e-06,1.5464573439160552e-06],[2,1.983549631612657,1.9327380434434718,1.84541030114209,1.7188649768491278,1.5515233519940759,1.345582349460884,1.1100654312375797,0.862365595418913,0.6257102576556112,0.42211292795218447,0.2647135010416117,0.15482448308181213,0.08487567652433826,0.04383290237567471,0.021414695706983306,0.009928175828806859,0.004377559880472492,0.0018386700044198865,0.0007366525648493758,0.00028187755429507694,0.00010315530436781094,3.616098223480206e-05,1.2165053316817507e-05,3.936128828493108e-06,1.2280957249224438e-06,3.706094012709812e-07,1.0855191562311985e-07,3.098295614839929e-08,8.655979223179733e-09,2.378891706541032e-09,6.46632542693438e-10,1.7486617769022778e-10,4.7338237786209244e-11,1.2911656673372242e-11,3.5718089578298664e-12,1.0088353835511695e-12,2.92841313687613e-13,8.792102710609451e-14,2.7468727740709496e-14,8.981251040857727e-15,3.0892645686959893e-15,1.1231582147330548e-15,4.3342214647483173e-16,1.78175922577435e-16,7.827253804351184e-17,3.684075490009905e-17,1.861822425106091e-17,1.0120058756076992e-17,5.924310991908126e-18],[2,2.0,1.9828683115515333,1.930639046158883,1.8410652930284819,1.7113723489156059,1.5400507804102255,1.3296858735504526,1.0901354488044557,0.8399341822451397,0.6032249623833376,0.4020900046682622,0.24879552978767874,0.14340436925771177,0.07738425934620798,0.0392842355314425,0.0188331056328731,0.008548797336214203,0.003680205682800125,0.001503909243116721,0.0005836634407829546,0.00021517748267897032,7.536529917433747e-05,2.5078782853241877e-05,7.928847578207907e-06,2.381690844630006e-06,6.797254520418456e-07,1.8431254085010634e-07,4.748424879328471e-08,1.1622983638454289e-08,2.7030810058659605e-09,5.972743685465092e-10,1.2538976204095162e-10,2.5010574178912896e-11,4.739784863221125e-12,8.534281834996742e-13,1.459986081769753e-13,2.3730333078754496e-14,3.664648593032326e-15,5.376928007114271e-16,7.4956533030722e-17,9.927917138635263e-18,1.2493386631006867e-18,1.493742027403337e-19,1.6968537167060333e-20,1.8314142597341157e-21,1.878028429490772e-22,1.829747307947521e-23,1.693766172708837e-24,1.4896669304283688e-25,1.244796281328923e-26]]},\"selected\":{\"id\":\"1050\",\"type\":\"Selection\"},\"selection_policy\":{\"id\":\"1049\",\"type\":\"UnionRenderers\"}},\"id\":\"1038\",\"type\":\"ColumnDataSource\"},{\"attributes\":{},\"id\":\"1050\",\"type\":\"Selection\"},{\"attributes\":{\"formatter\":{\"id\":\"1044\",\"type\":\"BasicTickFormatter\"},\"plot\":{\"id\":\"1003\",\"subtype\":\"Figure\",\"type\":\"Plot\"},\"ticker\":{\"id\":\"1019\",\"type\":\"BasicTicker\"}},\"id\":\"1018\",\"type\":\"LinearAxis\"},{\"attributes\":{},\"id\":\"1019\",\"type\":\"BasicTicker\"},{\"attributes\":{\"dimension\":1,\"plot\":{\"id\":\"1003\",\"subtype\":\"Figure\",\"type\":\"Plot\"},\"ticker\":{\"id\":\"1019\",\"type\":\"BasicTicker\"}},\"id\":\"1022\",\"type\":\"Grid\"},{\"attributes\":{},\"id\":\"1009\",\"type\":\"LinearScale\"},{\"attributes\":{\"data_source\":{\"id\":\"1038\",\"type\":\"ColumnDataSource\"},\"glyph\":{\"id\":\"1039\",\"type\":\"MultiLine\"},\"hover_glyph\":null,\"muted_glyph\":null,\"nonselection_glyph\":{\"id\":\"1040\",\"type\":\"MultiLine\"},\"selection_glyph\":null,\"view\":{\"id\":\"1042\",\"type\":\"CDSView\"}},\"id\":\"1041\",\"type\":\"GlyphRenderer\"},{\"attributes\":{\"line_alpha\":{\"value\":0.1},\"line_color\":{\"value\":\"#1f77b4\"},\"line_width\":{\"value\":2},\"xs\":{\"field\":\"xs\"},\"ys\":{\"field\":\"ys\"}},\"id\":\"1040\",\"type\":\"MultiLine\"},{\"attributes\":{},\"id\":\"1023\",\"type\":\"PanTool\"},{\"attributes\":{},\"id\":\"1024\",\"type\":\"WheelZoomTool\"},{\"attributes\":{\"overlay\":{\"id\":\"1031\",\"type\":\"BoxAnnotation\"}},\"id\":\"1025\",\"type\":\"BoxZoomTool\"},{\"attributes\":{\"line_alpha\":{\"field\":\"line_alpha\"},\"line_color\":{\"field\":\"line_color\"},\"line_width\":{\"value\":2},\"xs\":{\"field\":\"xs\"},\"ys\":{\"field\":\"ys\"}},\"id\":\"1039\",\"type\":\"MultiLine\"},{\"attributes\":{\"plot\":null,\"text\":\"Methods Comparison\"},\"id\":\"1002\",\"type\":\"Title\"},{\"attributes\":{},\"id\":\"1026\",\"type\":\"SaveTool\"},{\"attributes\":{},\"id\":\"1027\",\"type\":\"ResetTool\"},{\"attributes\":{\"callback\":null},\"id\":\"1005\",\"type\":\"DataRange1d\"},{\"attributes\":{},\"id\":\"1028\",\"type\":\"HelpTool\"},{\"attributes\":{\"active_drag\":\"auto\",\"active_inspect\":\"auto\",\"active_multi\":null,\"active_scroll\":\"auto\",\"active_tap\":\"auto\",\"tools\":[{\"id\":\"1023\",\"type\":\"PanTool\"},{\"id\":\"1024\",\"type\":\"WheelZoomTool\"},{\"id\":\"1025\",\"type\":\"BoxZoomTool\"},{\"id\":\"1026\",\"type\":\"SaveTool\"},{\"id\":\"1027\",\"type\":\"ResetTool\"},{\"id\":\"1028\",\"type\":\"HelpTool\"}]},\"id\":\"1029\",\"type\":\"Toolbar\"},{\"attributes\":{\"callback\":null},\"id\":\"1007\",\"type\":\"DataRange1d\"},{\"attributes\":{\"source\":{\"id\":\"1038\",\"type\":\"ColumnDataSource\"}},\"id\":\"1042\",\"type\":\"CDSView\"}],\"root_ids\":[\"1003\"]},\"title\":\"Bokeh Application\",\"version\":\"1.0.0\"}};\n",
       "  var render_items = [{\"docid\":\"48e26a13-4d45-41ce-8b5a-90d40228e319\",\"notebook_comms_target\":\"1051\",\"roots\":{\"1003\":\"6bef9634-a8c8-412b-8085-536e7a6f74d9\"}}];\n",
       "  root.Bokeh.embed.embed_items_notebook(docs_json, render_items);\n",
       "\n",
       "  }\n",
       "  if (root.Bokeh !== undefined) {\n",
       "    embed_document(root);\n",
       "  } else {\n",
       "    var attempts = 0;\n",
       "    var timer = setInterval(function(root) {\n",
       "      if (root.Bokeh !== undefined) {\n",
       "        embed_document(root);\n",
       "        clearInterval(timer);\n",
       "      }\n",
       "      attempts++;\n",
       "      if (attempts > 100) {\n",
       "        console.log(\"Bokeh: ERROR: Unable to run BokehJS code because BokehJS library is missing\");\n",
       "        clearInterval(timer);\n",
       "      }\n",
       "    }, 10, root)\n",
       "  }\n",
       "})(window);"
      ],
      "application/vnd.bokehjs_exec.v0+json": ""
     },
     "metadata": {
      "application/vnd.bokehjs_exec.v0+json": {
       "id": "1003"
      }
     },
     "output_type": "display_data"
    },
    {
     "data": {
      "text/html": [
       "<p><code>&lt;Bokeh Notebook handle for <strong>In[12]</strong>&gt;</code></p>"
      ],
      "text/plain": [
       "<bokeh.io.notebook.CommsHandle at 0x7fc9db703f98>"
      ]
     },
     "execution_count": 12,
     "metadata": {},
     "output_type": "execute_result"
    }
   ],
   "source": [
    "plot = figure(plot_width=400, plot_height=400, title=\"Methods Comparison\")\n",
    "\n",
    "r = plot.multi_line(xs,ys,color=['black','green','yellow','blue'],alpha=[1.0,0.4, 0.4, 0.4], line_width=2)\n",
    "show(plot,notebook_handle=True)"
   ]
  },
  {
   "cell_type": "markdown",
   "metadata": {},
   "source": [
    "# Error Graph\n",
    "Comparison of error for all of the graphs"
   ]
  },
  {
   "cell_type": "code",
   "execution_count": 13,
   "metadata": {},
   "outputs": [
    {
     "data": {
      "text/html": [
       "\n",
       "\n",
       "\n",
       "\n",
       "\n",
       "\n",
       "  <div class=\"bk-root\" id=\"84957631-2b3d-4b5d-a10d-fa949c2f55b5\"></div>\n"
      ]
     },
     "metadata": {},
     "output_type": "display_data"
    },
    {
     "data": {
      "application/javascript": [
       "(function(root) {\n",
       "  function embed_document(root) {\n",
       "    \n",
       "  var docs_json = {\"924405a2-7ebe-42b2-954a-55cbc8ae7c87\":{\"roots\":{\"references\":[{\"attributes\":{\"below\":[{\"id\":\"1111\",\"type\":\"LinearAxis\"}],\"left\":[{\"id\":\"1116\",\"type\":\"LinearAxis\"}],\"plot_height\":400,\"plot_width\":400,\"renderers\":[{\"id\":\"1111\",\"type\":\"LinearAxis\"},{\"id\":\"1115\",\"type\":\"Grid\"},{\"id\":\"1116\",\"type\":\"LinearAxis\"},{\"id\":\"1120\",\"type\":\"Grid\"},{\"id\":\"1129\",\"type\":\"BoxAnnotation\"},{\"id\":\"1211\",\"type\":\"GlyphRenderer\"}],\"title\":{\"id\":\"1100\",\"type\":\"Title\"},\"toolbar\":{\"id\":\"1127\",\"type\":\"Toolbar\"},\"x_range\":{\"id\":\"1103\",\"type\":\"DataRange1d\"},\"x_scale\":{\"id\":\"1107\",\"type\":\"LinearScale\"},\"y_range\":{\"id\":\"1105\",\"type\":\"DataRange1d\"},\"y_scale\":{\"id\":\"1109\",\"type\":\"LinearScale\"}},\"id\":\"1101\",\"subtype\":\"Figure\",\"type\":\"Plot\"},{\"attributes\":{},\"id\":\"1232\",\"type\":\"BasicTickFormatter\"},{\"attributes\":{\"active_drag\":\"auto\",\"active_inspect\":\"auto\",\"active_multi\":null,\"active_scroll\":\"auto\",\"active_tap\":\"auto\",\"tools\":[{\"id\":\"1121\",\"type\":\"PanTool\"},{\"id\":\"1122\",\"type\":\"WheelZoomTool\"},{\"id\":\"1123\",\"type\":\"BoxZoomTool\"},{\"id\":\"1124\",\"type\":\"SaveTool\"},{\"id\":\"1125\",\"type\":\"ResetTool\"},{\"id\":\"1126\",\"type\":\"HelpTool\"}]},\"id\":\"1127\",\"type\":\"Toolbar\"},{\"attributes\":{},\"id\":\"1121\",\"type\":\"PanTool\"},{\"attributes\":{\"line_color\":\"red\",\"line_width\":2,\"x\":{\"field\":\"x\"},\"y\":{\"field\":\"y\"}},\"id\":\"1209\",\"type\":\"Line\"},{\"attributes\":{},\"id\":\"1122\",\"type\":\"WheelZoomTool\"},{\"attributes\":{\"callback\":null,\"data\":{\"x\":{\"__ndarray__\":\"AAAAAAAAAADInSXs5rfAP8idJezmt9A/rGw4YtoT2T/InSXs5rfgPzoFL6fg5eQ/rGw4YtoT6T8e1EEd1EHtP8idJezmt/A/gVGqyePO8j86BS+n4OX0P/O4s4Td/PY/rGw4YtoT+T9lIL0/1yr7Px7UQR3UQf0/14fG+tBY/z/InSXs5rcAQKT351plwwFAgVGqyePOAkBeq2w4YtoDQDoFL6fg5QRAFl/xFV/xBUDzuLOE3fwGQNASdvNbCAhArGw4YtoTCUCIxvrQWB8KQGUgvT/XKgtAQnp/rlU2DEAe1EEd1EENQPotBIxSTQ5A14fG+tBYD0DacMS0JzIQQMidJezmtxBAtsqGI6Y9EUCk9+daZcMRQJMkSZIkSRJAgVGqyePOEkBvfgsBo1QTQF6rbDhi2hNATNjNbyFgFEA6BS+n4OUUQCgykN6faxVAFl/xFV/xFUAFjFJNHncWQPO4s4Td/BZA4eUUvJyCF0DQEnbzWwgYQL4/1yobjhhArGw4YtoTGUCamZmZmZkZQA==\",\"dtype\":\"float64\",\"shape\":[50]},\"y\":[0,0.0,0.016305046245410848,0.032029882688975775,0.04733600184100584,0.06233872845351551,0.07724213264130153,0.09243643622386855,0.10812089527425539,0.1229647438952658,0.13254663740217743,0.1304433229002423,0.1134475008625761,0.08584188765465146,0.056633316706313906,0.0330032265442158,0.017267572982566218,0.008238920284364546,0.003634513897459983,0.0014994670003228433,0.0005834544133924675,0.00021517813107585802,7.536526464257164e-05,2.50787864242493e-05,7.92884702981777e-06,2.3816909563493873e-06,6.797254236788026e-07,1.8431254947339755e-07,4.748424573902056e-08,1.1622984873424184e-08,2.7030804445746637e-09,5.972746518038803e-10,1.2538960488744984e-10,2.501066925100848e-11,4.7397225797450854e-12,8.534721103829059e-13,1.4596542455432824e-13,2.3757065263385547e-14,3.641772826089438e-15,5.584158179292732e-16,5.5144313565536076e-17,2.986305323070724e-17,1.9809325425539993e-17,2.3451086854879652e-17,2.693540916982825e-17,3.252862088929123e-17,4.0885322755241556e-17,5.344288762484227e-17,7.253745950887075e-17,1.0209247982953028e-16]},\"selected\":{\"id\":\"1238\",\"type\":\"Selection\"},\"selection_policy\":{\"id\":\"1237\",\"type\":\"UnionRenderers\"}},\"id\":\"1208\",\"type\":\"ColumnDataSource\"},{\"attributes\":{\"overlay\":{\"id\":\"1129\",\"type\":\"BoxAnnotation\"}},\"id\":\"1123\",\"type\":\"BoxZoomTool\"},{\"attributes\":{},\"id\":\"1124\",\"type\":\"SaveTool\"},{\"attributes\":{\"plot\":null,\"text\":\"Euler\"},\"id\":\"1100\",\"type\":\"Title\"},{\"attributes\":{},\"id\":\"1125\",\"type\":\"ResetTool\"},{\"attributes\":{},\"id\":\"1234\",\"type\":\"BasicTickFormatter\"},{\"attributes\":{},\"id\":\"1126\",\"type\":\"HelpTool\"},{\"attributes\":{\"callback\":null},\"id\":\"1103\",\"type\":\"DataRange1d\"},{\"attributes\":{\"line_alpha\":0.1,\"line_color\":\"#1f77b4\",\"line_width\":2,\"x\":{\"field\":\"x\"},\"y\":{\"field\":\"y\"}},\"id\":\"1210\",\"type\":\"Line\"},{\"attributes\":{},\"id\":\"1237\",\"type\":\"UnionRenderers\"},{\"attributes\":{\"callback\":null},\"id\":\"1105\",\"type\":\"DataRange1d\"},{\"attributes\":{},\"id\":\"1238\",\"type\":\"Selection\"},{\"attributes\":{\"bottom_units\":\"screen\",\"fill_alpha\":{\"value\":0.5},\"fill_color\":{\"value\":\"lightgrey\"},\"left_units\":\"screen\",\"level\":\"overlay\",\"line_alpha\":{\"value\":1.0},\"line_color\":{\"value\":\"black\"},\"line_dash\":[4,4],\"line_width\":{\"value\":2},\"plot\":null,\"render_mode\":\"css\",\"right_units\":\"screen\",\"top_units\":\"screen\"},\"id\":\"1129\",\"type\":\"BoxAnnotation\"},{\"attributes\":{},\"id\":\"1107\",\"type\":\"LinearScale\"},{\"attributes\":{\"data_source\":{\"id\":\"1208\",\"type\":\"ColumnDataSource\"},\"glyph\":{\"id\":\"1209\",\"type\":\"Line\"},\"hover_glyph\":null,\"muted_glyph\":null,\"nonselection_glyph\":{\"id\":\"1210\",\"type\":\"Line\"},\"selection_glyph\":null,\"view\":{\"id\":\"1212\",\"type\":\"CDSView\"}},\"id\":\"1211\",\"type\":\"GlyphRenderer\"},{\"attributes\":{},\"id\":\"1109\",\"type\":\"LinearScale\"},{\"attributes\":{\"formatter\":{\"id\":\"1234\",\"type\":\"BasicTickFormatter\"},\"plot\":{\"id\":\"1101\",\"subtype\":\"Figure\",\"type\":\"Plot\"},\"ticker\":{\"id\":\"1112\",\"type\":\"BasicTicker\"}},\"id\":\"1111\",\"type\":\"LinearAxis\"},{\"attributes\":{\"source\":{\"id\":\"1208\",\"type\":\"ColumnDataSource\"}},\"id\":\"1212\",\"type\":\"CDSView\"},{\"attributes\":{},\"id\":\"1112\",\"type\":\"BasicTicker\"},{\"attributes\":{\"plot\":{\"id\":\"1101\",\"subtype\":\"Figure\",\"type\":\"Plot\"},\"ticker\":{\"id\":\"1112\",\"type\":\"BasicTicker\"}},\"id\":\"1115\",\"type\":\"Grid\"},{\"attributes\":{\"formatter\":{\"id\":\"1232\",\"type\":\"BasicTickFormatter\"},\"plot\":{\"id\":\"1101\",\"subtype\":\"Figure\",\"type\":\"Plot\"},\"ticker\":{\"id\":\"1117\",\"type\":\"BasicTicker\"}},\"id\":\"1116\",\"type\":\"LinearAxis\"},{\"attributes\":{},\"id\":\"1117\",\"type\":\"BasicTicker\"},{\"attributes\":{\"dimension\":1,\"plot\":{\"id\":\"1101\",\"subtype\":\"Figure\",\"type\":\"Plot\"},\"ticker\":{\"id\":\"1117\",\"type\":\"BasicTicker\"}},\"id\":\"1120\",\"type\":\"Grid\"}],\"root_ids\":[\"1101\"]},\"title\":\"Bokeh Application\",\"version\":\"1.0.0\"}};\n",
       "  var render_items = [{\"docid\":\"924405a2-7ebe-42b2-954a-55cbc8ae7c87\",\"notebook_comms_target\":\"1239\",\"roots\":{\"1101\":\"84957631-2b3d-4b5d-a10d-fa949c2f55b5\"}}];\n",
       "  root.Bokeh.embed.embed_items_notebook(docs_json, render_items);\n",
       "\n",
       "  }\n",
       "  if (root.Bokeh !== undefined) {\n",
       "    embed_document(root);\n",
       "  } else {\n",
       "    var attempts = 0;\n",
       "    var timer = setInterval(function(root) {\n",
       "      if (root.Bokeh !== undefined) {\n",
       "        embed_document(root);\n",
       "        clearInterval(timer);\n",
       "      }\n",
       "      attempts++;\n",
       "      if (attempts > 100) {\n",
       "        console.log(\"Bokeh: ERROR: Unable to run BokehJS code because BokehJS library is missing\");\n",
       "        clearInterval(timer);\n",
       "      }\n",
       "    }, 10, root)\n",
       "  }\n",
       "})(window);"
      ],
      "application/vnd.bokehjs_exec.v0+json": ""
     },
     "metadata": {
      "application/vnd.bokehjs_exec.v0+json": {
       "id": "1101"
      }
     },
     "output_type": "display_data"
    },
    {
     "data": {
      "text/html": [
       "\n",
       "\n",
       "\n",
       "\n",
       "\n",
       "\n",
       "  <div class=\"bk-root\" id=\"83194663-44b7-48e2-8edc-a79310f09e66\"></div>\n"
      ]
     },
     "metadata": {},
     "output_type": "display_data"
    },
    {
     "data": {
      "application/javascript": [
       "(function(root) {\n",
       "  function embed_document(root) {\n",
       "    \n",
       "  var docs_json = {\"500935e3-dc6b-4e83-af3d-b1a3d102dcca\":{\"roots\":{\"references\":[{\"attributes\":{\"below\":[{\"id\":\"1147\",\"type\":\"LinearAxis\"}],\"left\":[{\"id\":\"1152\",\"type\":\"LinearAxis\"}],\"plot_height\":400,\"plot_width\":400,\"renderers\":[{\"id\":\"1147\",\"type\":\"LinearAxis\"},{\"id\":\"1151\",\"type\":\"Grid\"},{\"id\":\"1152\",\"type\":\"LinearAxis\"},{\"id\":\"1156\",\"type\":\"Grid\"},{\"id\":\"1165\",\"type\":\"BoxAnnotation\"},{\"id\":\"1216\",\"type\":\"GlyphRenderer\"}],\"title\":{\"id\":\"1136\",\"type\":\"Title\"},\"toolbar\":{\"id\":\"1163\",\"type\":\"Toolbar\"},\"x_range\":{\"id\":\"1139\",\"type\":\"DataRange1d\"},\"x_scale\":{\"id\":\"1143\",\"type\":\"LinearScale\"},\"y_range\":{\"id\":\"1141\",\"type\":\"DataRange1d\"},\"y_scale\":{\"id\":\"1145\",\"type\":\"LinearScale\"}},\"id\":\"1137\",\"subtype\":\"Figure\",\"type\":\"Plot\"},{\"attributes\":{\"callback\":null,\"data\":{\"x\":{\"__ndarray__\":\"AAAAAAAAAADInSXs5rfAP8idJezmt9A/rGw4YtoT2T/InSXs5rfgPzoFL6fg5eQ/rGw4YtoT6T8e1EEd1EHtP8idJezmt/A/gVGqyePO8j86BS+n4OX0P/O4s4Td/PY/rGw4YtoT+T9lIL0/1yr7Px7UQR3UQf0/14fG+tBY/z/InSXs5rcAQKT351plwwFAgVGqyePOAkBeq2w4YtoDQDoFL6fg5QRAFl/xFV/xBUDzuLOE3fwGQNASdvNbCAhArGw4YtoTCUCIxvrQWB8KQGUgvT/XKgtAQnp/rlU2DEAe1EEd1EENQPotBIxSTQ5A14fG+tBYD0DacMS0JzIQQMidJezmtxBAtsqGI6Y9EUCk9+daZcMRQJMkSZIkSRJAgVGqyePOEkBvfgsBo1QTQF6rbDhi2hNATNjNbyFgFEA6BS+n4OUUQCgykN6faxVAFl/xFV/xFUAFjFJNHncWQPO4s4Td/BZA4eUUvJyCF0DQEnbzWwgYQL4/1yobjhhArGw4YtoTGUCamZmZmZkZQA==\",\"dtype\":\"float64\",\"shape\":[50]},\"y\":[0,0.01671836734693888,0.05067978477777024,0.08606045139910701,0.12327729668804621,0.16106415937798602,0.19557750634806736,0.22010943426057872,0.22672062328080655,0.21045820675978344,0.17385465425617175,0.1270122959468603,0.08204908375029946,0.046946772900392744,0.023707713117792524,0.010347942043831746,0.003629161182955632,0.0007196639707865576,0.00029148992676181163,0.0004911576537778586,0.0004137239593868235,0.0002835897485896809,0.0001753873948728356,0.00010228698717170365,5.7745805196582367e-05,3.21538180525164e-05,1.7920817213901707e-05,1.0117435773704956e-05,5.841056968089364e-06,3.4737227628861642e-06,2.139674984139256e-06,1.3705089672050549e-06,9.15525652042194e-07,6.392470244228983e-07,4.6731510766774907e-07,3.5814926077634427e-07,2.8805298504624685e-07,2.4331401335975387e-07,2.159665690559176e-07,2.0150533186856176e-07,1.9767475389310604e-07,2.0389290193188577e-07,2.2110926510108645e-07,2.5205032459701994e-07,3.0194330488877736e-07,3.7998867525629646e-07,5.021629613002512e-07,6.965403841284551e-07,1.0135745213907553e-06,1.5464573439160552e-06]},\"selected\":{\"id\":\"1311\",\"type\":\"Selection\"},\"selection_policy\":{\"id\":\"1310\",\"type\":\"UnionRenderers\"}},\"id\":\"1213\",\"type\":\"ColumnDataSource\"},{\"attributes\":{\"plot\":null,\"text\":\"Improved Euler\"},\"id\":\"1136\",\"type\":\"Title\"},{\"attributes\":{\"active_drag\":\"auto\",\"active_inspect\":\"auto\",\"active_multi\":null,\"active_scroll\":\"auto\",\"active_tap\":\"auto\",\"tools\":[{\"id\":\"1157\",\"type\":\"PanTool\"},{\"id\":\"1158\",\"type\":\"WheelZoomTool\"},{\"id\":\"1159\",\"type\":\"BoxZoomTool\"},{\"id\":\"1160\",\"type\":\"SaveTool\"},{\"id\":\"1161\",\"type\":\"ResetTool\"},{\"id\":\"1162\",\"type\":\"HelpTool\"}]},\"id\":\"1163\",\"type\":\"Toolbar\"},{\"attributes\":{},\"id\":\"1157\",\"type\":\"PanTool\"},{\"attributes\":{},\"id\":\"1158\",\"type\":\"WheelZoomTool\"},{\"attributes\":{\"overlay\":{\"id\":\"1165\",\"type\":\"BoxAnnotation\"}},\"id\":\"1159\",\"type\":\"BoxZoomTool\"},{\"attributes\":{},\"id\":\"1305\",\"type\":\"BasicTickFormatter\"},{\"attributes\":{},\"id\":\"1160\",\"type\":\"SaveTool\"},{\"attributes\":{},\"id\":\"1161\",\"type\":\"ResetTool\"},{\"attributes\":{},\"id\":\"1311\",\"type\":\"Selection\"},{\"attributes\":{},\"id\":\"1162\",\"type\":\"HelpTool\"},{\"attributes\":{\"callback\":null},\"id\":\"1141\",\"type\":\"DataRange1d\"},{\"attributes\":{},\"id\":\"1310\",\"type\":\"UnionRenderers\"},{\"attributes\":{},\"id\":\"1307\",\"type\":\"BasicTickFormatter\"},{\"attributes\":{\"bottom_units\":\"screen\",\"fill_alpha\":{\"value\":0.5},\"fill_color\":{\"value\":\"lightgrey\"},\"left_units\":\"screen\",\"level\":\"overlay\",\"line_alpha\":{\"value\":1.0},\"line_color\":{\"value\":\"black\"},\"line_dash\":[4,4],\"line_width\":{\"value\":2},\"plot\":null,\"render_mode\":\"css\",\"right_units\":\"screen\",\"top_units\":\"screen\"},\"id\":\"1165\",\"type\":\"BoxAnnotation\"},{\"attributes\":{},\"id\":\"1145\",\"type\":\"LinearScale\"},{\"attributes\":{\"formatter\":{\"id\":\"1307\",\"type\":\"BasicTickFormatter\"},\"plot\":{\"id\":\"1137\",\"subtype\":\"Figure\",\"type\":\"Plot\"},\"ticker\":{\"id\":\"1148\",\"type\":\"BasicTicker\"}},\"id\":\"1147\",\"type\":\"LinearAxis\"},{\"attributes\":{},\"id\":\"1148\",\"type\":\"BasicTicker\"},{\"attributes\":{\"line_color\":\"red\",\"line_width\":2,\"x\":{\"field\":\"x\"},\"y\":{\"field\":\"y\"}},\"id\":\"1214\",\"type\":\"Line\"},{\"attributes\":{\"plot\":{\"id\":\"1137\",\"subtype\":\"Figure\",\"type\":\"Plot\"},\"ticker\":{\"id\":\"1148\",\"type\":\"BasicTicker\"}},\"id\":\"1151\",\"type\":\"Grid\"},{\"attributes\":{\"formatter\":{\"id\":\"1305\",\"type\":\"BasicTickFormatter\"},\"plot\":{\"id\":\"1137\",\"subtype\":\"Figure\",\"type\":\"Plot\"},\"ticker\":{\"id\":\"1153\",\"type\":\"BasicTicker\"}},\"id\":\"1152\",\"type\":\"LinearAxis\"},{\"attributes\":{\"line_alpha\":0.1,\"line_color\":\"#1f77b4\",\"line_width\":2,\"x\":{\"field\":\"x\"},\"y\":{\"field\":\"y\"}},\"id\":\"1215\",\"type\":\"Line\"},{\"attributes\":{},\"id\":\"1153\",\"type\":\"BasicTicker\"},{\"attributes\":{\"data_source\":{\"id\":\"1213\",\"type\":\"ColumnDataSource\"},\"glyph\":{\"id\":\"1214\",\"type\":\"Line\"},\"hover_glyph\":null,\"muted_glyph\":null,\"nonselection_glyph\":{\"id\":\"1215\",\"type\":\"Line\"},\"selection_glyph\":null,\"view\":{\"id\":\"1217\",\"type\":\"CDSView\"}},\"id\":\"1216\",\"type\":\"GlyphRenderer\"},{\"attributes\":{\"dimension\":1,\"plot\":{\"id\":\"1137\",\"subtype\":\"Figure\",\"type\":\"Plot\"},\"ticker\":{\"id\":\"1153\",\"type\":\"BasicTicker\"}},\"id\":\"1156\",\"type\":\"Grid\"},{\"attributes\":{\"source\":{\"id\":\"1213\",\"type\":\"ColumnDataSource\"}},\"id\":\"1217\",\"type\":\"CDSView\"},{\"attributes\":{\"callback\":null},\"id\":\"1139\",\"type\":\"DataRange1d\"},{\"attributes\":{},\"id\":\"1143\",\"type\":\"LinearScale\"}],\"root_ids\":[\"1137\"]},\"title\":\"Bokeh Application\",\"version\":\"1.0.0\"}};\n",
       "  var render_items = [{\"docid\":\"500935e3-dc6b-4e83-af3d-b1a3d102dcca\",\"notebook_comms_target\":\"1312\",\"roots\":{\"1137\":\"83194663-44b7-48e2-8edc-a79310f09e66\"}}];\n",
       "  root.Bokeh.embed.embed_items_notebook(docs_json, render_items);\n",
       "\n",
       "  }\n",
       "  if (root.Bokeh !== undefined) {\n",
       "    embed_document(root);\n",
       "  } else {\n",
       "    var attempts = 0;\n",
       "    var timer = setInterval(function(root) {\n",
       "      if (root.Bokeh !== undefined) {\n",
       "        embed_document(root);\n",
       "        clearInterval(timer);\n",
       "      }\n",
       "      attempts++;\n",
       "      if (attempts > 100) {\n",
       "        console.log(\"Bokeh: ERROR: Unable to run BokehJS code because BokehJS library is missing\");\n",
       "        clearInterval(timer);\n",
       "      }\n",
       "    }, 10, root)\n",
       "  }\n",
       "})(window);"
      ],
      "application/vnd.bokehjs_exec.v0+json": ""
     },
     "metadata": {
      "application/vnd.bokehjs_exec.v0+json": {
       "id": "1137"
      }
     },
     "output_type": "display_data"
    },
    {
     "data": {
      "text/html": [
       "\n",
       "\n",
       "\n",
       "\n",
       "\n",
       "\n",
       "  <div class=\"bk-root\" id=\"64b652ca-28d4-48a0-9c9e-20c0450d5502\"></div>\n"
      ]
     },
     "metadata": {},
     "output_type": "display_data"
    },
    {
     "data": {
      "application/javascript": [
       "(function(root) {\n",
       "  function embed_document(root) {\n",
       "    \n",
       "  var docs_json = {\"bd9af858-3641-4a95-b554-56051dc1f230\":{\"roots\":{\"references\":[{\"attributes\":{\"below\":[{\"id\":\"1183\",\"type\":\"LinearAxis\"}],\"left\":[{\"id\":\"1188\",\"type\":\"LinearAxis\"}],\"plot_height\":400,\"plot_width\":400,\"renderers\":[{\"id\":\"1183\",\"type\":\"LinearAxis\"},{\"id\":\"1187\",\"type\":\"Grid\"},{\"id\":\"1188\",\"type\":\"LinearAxis\"},{\"id\":\"1192\",\"type\":\"Grid\"},{\"id\":\"1201\",\"type\":\"BoxAnnotation\"},{\"id\":\"1221\",\"type\":\"GlyphRenderer\"}],\"title\":{\"id\":\"1172\",\"type\":\"Title\"},\"toolbar\":{\"id\":\"1199\",\"type\":\"Toolbar\"},\"x_range\":{\"id\":\"1175\",\"type\":\"DataRange1d\"},\"x_scale\":{\"id\":\"1179\",\"type\":\"LinearScale\"},\"y_range\":{\"id\":\"1177\",\"type\":\"DataRange1d\"},\"y_scale\":{\"id\":\"1181\",\"type\":\"LinearScale\"}},\"id\":\"1173\",\"subtype\":\"Figure\",\"type\":\"Plot\"},{\"attributes\":{\"callback\":null},\"id\":\"1175\",\"type\":\"DataRange1d\"},{\"attributes\":{\"line_color\":\"red\",\"line_width\":2,\"x\":{\"field\":\"x\"},\"y\":{\"field\":\"y\"}},\"id\":\"1219\",\"type\":\"Line\"},{\"attributes\":{\"line_alpha\":0.1,\"line_color\":\"#1f77b4\",\"line_width\":2,\"x\":{\"field\":\"x\"},\"y\":{\"field\":\"y\"}},\"id\":\"1220\",\"type\":\"Line\"},{\"attributes\":{\"data_source\":{\"id\":\"1218\",\"type\":\"ColumnDataSource\"},\"glyph\":{\"id\":\"1219\",\"type\":\"Line\"},\"hover_glyph\":null,\"muted_glyph\":null,\"nonselection_glyph\":{\"id\":\"1220\",\"type\":\"Line\"},\"selection_glyph\":null,\"view\":{\"id\":\"1222\",\"type\":\"CDSView\"}},\"id\":\"1221\",\"type\":\"GlyphRenderer\"},{\"attributes\":{},\"id\":\"1193\",\"type\":\"PanTool\"},{\"attributes\":{\"source\":{\"id\":\"1218\",\"type\":\"ColumnDataSource\"}},\"id\":\"1222\",\"type\":\"CDSView\"},{\"attributes\":{},\"id\":\"1194\",\"type\":\"WheelZoomTool\"},{\"attributes\":{\"overlay\":{\"id\":\"1201\",\"type\":\"BoxAnnotation\"}},\"id\":\"1195\",\"type\":\"BoxZoomTool\"},{\"attributes\":{},\"id\":\"1196\",\"type\":\"SaveTool\"},{\"attributes\":{},\"id\":\"1197\",\"type\":\"ResetTool\"},{\"attributes\":{},\"id\":\"1198\",\"type\":\"HelpTool\"},{\"attributes\":{\"active_drag\":\"auto\",\"active_inspect\":\"auto\",\"active_multi\":null,\"active_scroll\":\"auto\",\"active_tap\":\"auto\",\"tools\":[{\"id\":\"1193\",\"type\":\"PanTool\"},{\"id\":\"1194\",\"type\":\"WheelZoomTool\"},{\"id\":\"1195\",\"type\":\"BoxZoomTool\"},{\"id\":\"1196\",\"type\":\"SaveTool\"},{\"id\":\"1197\",\"type\":\"ResetTool\"},{\"id\":\"1198\",\"type\":\"HelpTool\"}]},\"id\":\"1199\",\"type\":\"Toolbar\"},{\"attributes\":{\"callback\":null},\"id\":\"1177\",\"type\":\"DataRange1d\"},{\"attributes\":{\"bottom_units\":\"screen\",\"fill_alpha\":{\"value\":0.5},\"fill_color\":{\"value\":\"lightgrey\"},\"left_units\":\"screen\",\"level\":\"overlay\",\"line_alpha\":{\"value\":1.0},\"line_color\":{\"value\":\"black\"},\"line_dash\":[4,4],\"line_width\":{\"value\":2},\"plot\":null,\"render_mode\":\"css\",\"right_units\":\"screen\",\"top_units\":\"screen\"},\"id\":\"1201\",\"type\":\"BoxAnnotation\"},{\"attributes\":{},\"id\":\"1179\",\"type\":\"LinearScale\"},{\"attributes\":{},\"id\":\"1386\",\"type\":\"BasicTickFormatter\"},{\"attributes\":{},\"id\":\"1181\",\"type\":\"LinearScale\"},{\"attributes\":{},\"id\":\"1388\",\"type\":\"BasicTickFormatter\"},{\"attributes\":{},\"id\":\"1391\",\"type\":\"UnionRenderers\"},{\"attributes\":{\"formatter\":{\"id\":\"1388\",\"type\":\"BasicTickFormatter\"},\"plot\":{\"id\":\"1173\",\"subtype\":\"Figure\",\"type\":\"Plot\"},\"ticker\":{\"id\":\"1184\",\"type\":\"BasicTicker\"}},\"id\":\"1183\",\"type\":\"LinearAxis\"},{\"attributes\":{},\"id\":\"1392\",\"type\":\"Selection\"},{\"attributes\":{\"callback\":null,\"data\":{\"x\":{\"__ndarray__\":\"AAAAAAAAAADInSXs5rfAP8idJezmt9A/rGw4YtoT2T/InSXs5rfgPzoFL6fg5eQ/rGw4YtoT6T8e1EEd1EHtP8idJezmt/A/gVGqyePO8j86BS+n4OX0P/O4s4Td/PY/rGw4YtoT+T9lIL0/1yr7Px7UQR3UQf0/14fG+tBY/z/InSXs5rcAQKT351plwwFAgVGqyePOAkBeq2w4YtoDQDoFL6fg5QRAFl/xFV/xBUDzuLOE3fwGQNASdvNbCAhArGw4YtoTCUCIxvrQWB8KQGUgvT/XKgtAQnp/rlU2DEAe1EEd1EENQPotBIxSTQ5A14fG+tBYD0DacMS0JzIQQMidJezmtxBAtsqGI6Y9EUCk9+daZcMRQJMkSZIkSRJAgVGqyePOEkBvfgsBo1QTQF6rbDhi2hNATNjNbyFgFEA6BS+n4OUUQCgykN6faxVAFl/xFV/xFUAFjFJNHncWQPO4s4Td/BZA4eUUvJyCF0DQEnbzWwgYQL4/1yobjhhArGw4YtoTGUCamZmZmZkZQA==\",\"dtype\":\"float64\",\"shape\":[50]},\"y\":[0,0.01645036838734293,0.05013026810806154,0.085228745016793,0.12220031617935412,0.15984899692152998,0.1944684309493414,0.21962044231287292,0.22776985338554268,0.21422392458952855,0.1811120344311531,0.13737650362665055,0.09397104670586662,0.05852869273337351,0.03355135697053327,0.017869539824459196,0.008904929804066241,0.00417123745574171,0.0018415356783802383,0.0007672566782673453,0.0003017858864878777,0.00011202217831115938,3.920431693953541e-05,1.291372953642437e-05,3.9927187497147984e-06,1.1535951197075622e-06,3.091160507708644e-07,7.576062522698649e-08,1.650129264488542e-08,2.967004415274556e-09,3.2418929932492847e-10,4.93581741469288e-11,4.947641564927616e-11,2.2327663607296348e-11,8.171871810151117e-12,2.718380774330192e-12,8.628367753741943e-13,2.691109806088585e-13,8.425637851306219e-14,2.6931034939998067e-14,8.906294507827005e-15,3.079336651557354e-15,1.121908876069954e-15,4.332727722720914e-16,1.7815895404026794e-16,7.82707066292521e-17,3.68405670972561e-17,1.8618205953587833e-17,1.012005706231082e-17,5.924310842941433e-18]},\"selected\":{\"id\":\"1392\",\"type\":\"Selection\"},\"selection_policy\":{\"id\":\"1391\",\"type\":\"UnionRenderers\"}},\"id\":\"1218\",\"type\":\"ColumnDataSource\"},{\"attributes\":{},\"id\":\"1184\",\"type\":\"BasicTicker\"},{\"attributes\":{\"plot\":{\"id\":\"1173\",\"subtype\":\"Figure\",\"type\":\"Plot\"},\"ticker\":{\"id\":\"1184\",\"type\":\"BasicTicker\"}},\"id\":\"1187\",\"type\":\"Grid\"},{\"attributes\":{\"formatter\":{\"id\":\"1386\",\"type\":\"BasicTickFormatter\"},\"plot\":{\"id\":\"1173\",\"subtype\":\"Figure\",\"type\":\"Plot\"},\"ticker\":{\"id\":\"1189\",\"type\":\"BasicTicker\"}},\"id\":\"1188\",\"type\":\"LinearAxis\"},{\"attributes\":{},\"id\":\"1189\",\"type\":\"BasicTicker\"},{\"attributes\":{\"plot\":null,\"text\":\"Runge Kutta\"},\"id\":\"1172\",\"type\":\"Title\"},{\"attributes\":{\"dimension\":1,\"plot\":{\"id\":\"1173\",\"subtype\":\"Figure\",\"type\":\"Plot\"},\"ticker\":{\"id\":\"1189\",\"type\":\"BasicTicker\"}},\"id\":\"1192\",\"type\":\"Grid\"}],\"root_ids\":[\"1173\"]},\"title\":\"Bokeh Application\",\"version\":\"1.0.0\"}};\n",
       "  var render_items = [{\"docid\":\"bd9af858-3641-4a95-b554-56051dc1f230\",\"notebook_comms_target\":\"1393\",\"roots\":{\"1173\":\"64b652ca-28d4-48a0-9c9e-20c0450d5502\"}}];\n",
       "  root.Bokeh.embed.embed_items_notebook(docs_json, render_items);\n",
       "\n",
       "  }\n",
       "  if (root.Bokeh !== undefined) {\n",
       "    embed_document(root);\n",
       "  } else {\n",
       "    var attempts = 0;\n",
       "    var timer = setInterval(function(root) {\n",
       "      if (root.Bokeh !== undefined) {\n",
       "        embed_document(root);\n",
       "        clearInterval(timer);\n",
       "      }\n",
       "      attempts++;\n",
       "      if (attempts > 100) {\n",
       "        console.log(\"Bokeh: ERROR: Unable to run BokehJS code because BokehJS library is missing\");\n",
       "        clearInterval(timer);\n",
       "      }\n",
       "    }, 10, root)\n",
       "  }\n",
       "})(window);"
      ],
      "application/vnd.bokehjs_exec.v0+json": ""
     },
     "metadata": {
      "application/vnd.bokehjs_exec.v0+json": {
       "id": "1173"
      }
     },
     "output_type": "display_data"
    },
    {
     "data": {
      "text/html": [
       "<p><code>&lt;Bokeh Notebook handle for <strong>In[13]</strong>&gt;</code></p>"
      ],
      "text/plain": [
       "<bokeh.io.notebook.CommsHandle at 0x7fc9db683f28>"
      ]
     },
     "execution_count": 13,
     "metadata": {},
     "output_type": "execute_result"
    }
   ],
   "source": [
    "x = xs[0]\n",
    "y1 = [abs(y0-y1) for (y0,y1) in zip(ys[0],ys[-1])]\n",
    "y2 = [abs(y0-y1) for (y0,y1) in zip(ys[1],ys[-1])]\n",
    "y3 = [abs(y0-y1) for (y0,y1) in zip(ys[2],ys[-1])]\n",
    "\n",
    "error_1 = figure(plot_width=400, plot_height=400, title=\"Euler\")\n",
    "error_2 = figure(plot_width=400, plot_height=400, title=\"Improved Euler\")\n",
    "error_3 = figure(plot_width=400, plot_height=400, title=\"Runge Kutta\")\n",
    "\n",
    "error1_r = error_1.line(x,y1,color='red',line_width=2)\n",
    "error2_r = error_2.line(x,y2,color='red',line_width=2)\n",
    "error3_r = error_3.line(x,y3,color='red',line_width=2)\n",
    "\n",
    "show(error_1,notebook_handle=True)\n",
    "show(error_2,notebook_handle=True)\n",
    "show(error_3,notebook_handle=True)"
   ]
  },
  {
   "cell_type": "code",
   "execution_count": 14,
   "metadata": {},
   "outputs": [
    {
     "data": {
      "application/vnd.jupyter.widget-view+json": {
       "model_id": "1dd0a59be83c4d18be2115c8f51a0d4b",
       "version_major": 2,
       "version_minor": 0
      },
      "text/plain": [
       "interactive(children=(FloatSlider(value=0.0, description='x0', min=-100.0), FloatSlider(value=2.0, description…"
      ]
     },
     "metadata": {},
     "output_type": "display_data"
    },
    {
     "data": {
      "text/plain": [
       "<function __main__.update_plot(x0=0, y0=2, X=6.4, N_steps=50)>"
      ]
     },
     "execution_count": 14,
     "metadata": {},
     "output_type": "execute_result"
    }
   ],
   "source": [
    "interact(update_plot, x0=x0_widget, y0=y0_widget, X=X_widget,N_steps=N_steps_widget)\n",
    "\n"
   ]
  },
  {
   "cell_type": "code",
   "execution_count": null,
   "metadata": {},
   "outputs": [],
   "source": []
  }
 ],
 "metadata": {
  "kernelspec": {
   "display_name": "Python 3",
   "language": "python",
   "name": "python3"
  },
  "language_info": {
   "codemirror_mode": {
    "name": "ipython",
    "version": 3
   },
   "file_extension": ".py",
   "mimetype": "text/x-python",
   "name": "python",
   "nbconvert_exporter": "python",
   "pygments_lexer": "ipython3",
   "version": "3.7.0"
  }
 },
 "nbformat": 4,
 "nbformat_minor": 2
}
